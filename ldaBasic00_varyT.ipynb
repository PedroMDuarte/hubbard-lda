{
 "metadata": {
  "name": "",
  "signature": "sha256:87bb27490a61a973162efe10f12bf3866065ad8e687cc174f7411f4829e323d2"
 },
 "nbformat": 3,
 "nbformat_minor": 0,
 "worksheets": [
  {
   "cells": [
    {
     "cell_type": "markdown",
     "metadata": {},
     "source": [
      "## First look at a system with n=1 at the center and vary T"
     ]
    },
    {
     "cell_type": "code",
     "collapsed": false,
     "input": [
      "import scubic\n",
      "import lda\n",
      "    \n",
      "    \n",
      "s       = 7.\n",
      "g       = 3.666\n",
      "wIR     = 47.\n",
      "wGR     = 47./1.175\n",
      "extents = 30.\n",
      "direc   = '111'\n",
      "aS      = 380.\n",
      "mu0     = 'halfMott'\n",
      "\n",
      "\n",
      "densities_NLCE = []\n",
      "select = 'nlce'\n",
      "\n",
      "for tag, T in enumerate([0.0948, 0.0700, 0.0550, 0.0400, 0.0340]):\n",
      "#for tag, T in enumerate([ 0.0340]):\n",
      "    print '\\n',tag\n",
      "        \n",
      "    pot = scubic.sc(allIR=s, allGR=g, allIRw=wIR, allGRw=wGR)\n",
      "    \n",
      "    lda0 = lda.lda(potential = pot, Temperature=T, a_s=aS, extents=extents, globalMu=mu0, verbose=True, \\\n",
      "                   select = select,\\\n",
      "                   ignoreExtents=False, ignoreSlopeErrors=True, ignoreMuThreshold=True)\n",
      "    \n",
      "    # Figure to chech inhomogeneity\n",
      "    fig111, peak_dens, peak_t, r111, dens111, Ut_111, Tt_111 =  \\\n",
      "        lda.CheckInhomogSimple( lda0, closefig = True, n_ylim=(0.,1.05), return_profile=True) ;\n",
      "    fig111.savefig('dataplots/Basic00/{:03d}_{}_T{:0.4f}Er.png'.format(tag,select,T), dpi=300)\n",
      "    \n",
      "    densities_NLCE.append( [r111,dens111, Ut_111, Tt_111] )\n"
     ],
     "language": "python",
     "metadata": {},
     "outputs": [
      {
       "output_type": "stream",
       "stream": "stdout",
       "text": [
        "\n",
        "0\n",
        "OK: Bottom of the band has positive slope up to r111 = 10 um\n",
        "OK: Chemical potential is below evaporation threshold.\n",
        "OK: Chemical potential is below the bottom of the band along 100\n",
        "OK: Radial density profile along 111 decreases monotonically."
       ]
      },
      {
       "output_type": "stream",
       "stream": "stdout",
       "text": [
        "\n",
        "\n"
       ]
      },
      {
       "output_type": "stream",
       "stream": "stdout",
       "text": [
        "1\n",
        "OK: Bottom of the band has positive slope up to r111 = 10 um\n",
        "OK: Chemical potential is below evaporation threshold.\n",
        "OK: Chemical potential is below the bottom of the band along 100\n",
        "OK: Radial density profile along 111 decreases monotonically."
       ]
      },
      {
       "output_type": "stream",
       "stream": "stdout",
       "text": [
        "\n",
        "\n"
       ]
      },
      {
       "output_type": "stream",
       "stream": "stdout",
       "text": [
        "2\n",
        "OK: Bottom of the band has positive slope up to r111 = 10 um\n",
        "OK: Chemical potential is below evaporation threshold.\n",
        "OK: Chemical potential is below the bottom of the band along 100\n",
        "OK: Radial density profile along 111 decreases monotonically."
       ]
      },
      {
       "output_type": "stream",
       "stream": "stdout",
       "text": [
        "\n",
        "\n"
       ]
      },
      {
       "output_type": "stream",
       "stream": "stdout",
       "text": [
        "3\n",
        "OK: Bottom of the band has positive slope up to r111 = 10 um\n",
        "OK: Chemical potential is below evaporation threshold.\n",
        "OK: Chemical potential is below the bottom of the band along 100\n",
        "OK: Radial density profile along 111 decreases monotonically."
       ]
      },
      {
       "output_type": "stream",
       "stream": "stdout",
       "text": [
        "\n",
        "\n"
       ]
      },
      {
       "output_type": "stream",
       "stream": "stdout",
       "text": [
        "4\n",
        "OK: Bottom of the band has positive slope up to r111 = 10 um\n",
        "OK: Chemical potential is below evaporation threshold.\n",
        "OK: Chemical potential is below the bottom of the band along 100\n",
        "ERROR: Radial density profile along 111 has a positive slope"
       ]
      },
      {
       "output_type": "stream",
       "stream": "stdout",
       "text": [
        "\n",
        "\n",
        "\n",
        "radius check start =  0.001\n",
        "[  9.99406861e-01   9.99459768e-01   9.99576132e-01   9.99776691e-01\n",
        "   9.99984219e-01   9.99977590e-01   9.99879925e-01   9.99124220e-01\n",
        "   9.96504792e-01   9.92376146e-01   9.86826468e-01   9.78358038e-01\n",
        "   9.66121660e-01   9.48830577e-01   9.25918921e-01   8.95247544e-01\n",
        "   8.56009115e-01   8.10031914e-01   7.54824795e-01   6.89246648e-01\n",
        "   6.16391378e-01   5.40524925e-01   4.64102633e-01   3.87637550e-01\n",
        "   3.14499471e-01   2.50231704e-01   1.90582076e-01   1.32996828e-01\n",
        "   8.97883437e-02   5.56238301e-02   3.05736599e-02   1.52014679e-02\n",
        "   5.92073589e-03   6.29450218e-04   1.35980116e-03   0.00000000e+00\n",
        "   0.00000000e+00   0.00000000e+00   0.00000000e+00   0.00000000e+00]\n",
        "[False  True  True  True False False False False False False False False\n",
        " False False False False False False False False False False False False\n",
        " False False False False False False False False False  True False False\n",
        " False False False]\n"
       ]
      }
     ],
     "prompt_number": 2
    },
    {
     "cell_type": "code",
     "collapsed": false,
     "input": [
      "from matplotlib import rc\n",
      "rc('font', **{'family':'serif'})\n",
      "rc('text', usetex=True)\n",
      "\n",
      "fig = plt.figure( figsize=(6.5, 2.2))\n",
      "gs = matplotlib.gridspec.GridSpec( 1,3, \\\n",
      "        wspace=0.42, \\\n",
      "        left=0.07, right=0.98, bottom=0.18, top=0.96)\n",
      "\n",
      "axn = fig.add_subplot(gs[0])\n",
      "axU = fig.add_subplot(gs[1])\n",
      "axT = fig.add_subplot(gs[2])\n",
      "\n",
      "for result in densities_NLCE: \n",
      "    r111 = result[ 0]\n",
      "    T0 = result[3].max()\n",
      "    axn.plot( r111, result[1], label='${:0.2f}$'.format(T0))\n",
      "    axU.plot( r111, result[2])\n",
      "    axT.plot( r111, result[3])\n",
      "\n",
      "axn.legend(title='$[T/t]_{0}$',bbox_to_anchor=(0.95,0.97), loc='upper right', numpoints=1, \\\n",
      "           prop={'size':6}, handlelength=1.1, handletextpad=0.5)\n",
      "    \n",
      "axn.set_ylabel('$n$',rotation=0, labelpad=10)\n",
      "axU.set_ylabel('$U/t$',rotation=0, labelpad=12)\n",
      "axT.set_ylabel('$T/t$',rotation=0, labelpad=12)\n",
      "\n",
      "for ax in [axn, axU, axT]:\n",
      "    ax.set_xlim(0., 30.)\n",
      "    ax.grid( alpha=0.3)\n",
      "    ax.set_xlabel( '$r_{d}\\ (\\mu\\mathrm{m})$' ) \n",
      "    \n",
      "fig.savefig('dataplots/Basic00/density_varyT.png', dpi=300)"
     ],
     "language": "python",
     "metadata": {},
     "outputs": [
      {
       "metadata": {},
       "output_type": "display_data",
       "png": "[encoded data removed]",
       "text": [
        "<matplotlib.figure.Figure at 0xa9da80c>"
       ]
      }
     ],
     "prompt_number": 24
    },
    {
     "cell_type": "code",
     "collapsed": false,
     "input": [
      "%%timeit \n",
      "\n",
      "lda0 = lda.lda(potential = pot, Temperature=T, a_s=aS, extents=extents, globalMu=mu0, verbose=False, \\\n",
      "                   ignoreExtents=False, ignoreSlopeErrors=True, ignoraeMuThreshold=True)"
     ],
     "language": "python",
     "metadata": {},
     "outputs": [
      {
       "output_type": "stream",
       "stream": "stdout",
       "text": [
        "10 loops, best of 3: 27.6 ms per loop\n"
       ]
      }
     ],
     "prompt_number": 2
    }
   ],
   "metadata": {}
  }
 ]
}