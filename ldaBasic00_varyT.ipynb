{
 "metadata": {
  "name": "",
  "signature": "sha256:df1a70bbeefa055856898f2ef8e7214bb86bda91202166840c9e7fe2eabc851b"
 },
 "nbformat": 3,
 "nbformat_minor": 0,
 "worksheets": [
  {
   "cells": [
    {
     "cell_type": "code",
     "collapsed": false,
     "input": [
      "import scubic\n",
      "import lda\n",
      "    \n",
      "\n",
      "profs = [ \n",
      "        #0  T/t = 2.4 at center N=1.8e5 \n",
      "        {'wIR':47.,\\\n",
      "         'wGR':47./1.175,\\\n",
      "         'g0':3.666,\\\n",
      "         's0':7.,\\\n",
      "         'extents':30.,\\\n",
      "         'T':0.0948,\\\n",
      "         'aS':380.,\\\n",
      "         'mu0':'halfMott',\\\n",
      "         'direc':'111'\n",
      "        },\n",
      "        #1  T/t = 1.8 at center N=1.65e5 \n",
      "        {'wIR':47.,\\\n",
      "         'wGR':47./1.175,\\\n",
      "         'g0':3.666,\\\n",
      "         's0':7.,\\\n",
      "         'extents':30.,\\\n",
      "         'T':0.0700,\\\n",
      "         'aS':380.,\\\n",
      "         'mu0':'halfMott',\\\n",
      "         'direc':'111'\n",
      "        },\n",
      "        #2 T/t = 1.4 at center N=1.56e5 \n",
      "        {'wIR':47.,\\\n",
      "         'wGR':47./1.175,\\\n",
      "         'g0':3.666,\\\n",
      "         's0':7.,\\\n",
      "         'extents':30.,\\\n",
      "         'T':0.0550,\\\n",
      "         'aS':380.,\\\n",
      "         'mu0':'halfMott',\\\n",
      "         'direc':'111'\n",
      "        },\n",
      "        #3 T/t = 1.0 at center N=1.48e5 \n",
      "        {'wIR':47.,\\\n",
      "         'wGR':47./1.175,\\\n",
      "         'g0':3.666,\\\n",
      "         's0':7.,\\\n",
      "         'extents':28.,\\\n",
      "         'T':0.0400,\\\n",
      "         'aS':380.,\\\n",
      "         'mu0':'halfMott',\\\n",
      "         'direc':'111'\n",
      "        },\n",
      "        #4 T/t = XX at center N=XXe5 \n",
      "        {'wIR':47.,\\\n",
      "         'wGR':47./1.175,\\\n",
      "         'g0':3.666,\\\n",
      "         's0':7.,\\\n",
      "         'extents':28.,\\\n",
      "         'T':0.0330,\\\n",
      "         'aS':380.,\\\n",
      "         'mu0':'halfMott',\\\n",
      "         'direc':'111'\n",
      "        },\n",
      "        ]\n",
      "\n",
      "tags = range(len(profs)) \n",
      "#tags = [4] \n",
      "outs = [] \n",
      "\n",
      "for tag in tags:\n",
      "    print '\\n',tag\n",
      "    \n",
      "    s       = profs[tag]['s0']\n",
      "    g       = profs[tag]['g0']\n",
      "    wIR     = profs[tag]['wIR']\n",
      "    wGR     = profs[tag]['wGR']\n",
      "    T       = profs[tag]['T'] \n",
      "    extents = profs[tag]['extents']\n",
      "    direc   = profs[tag]['direc'] \n",
      "    aS      = profs[tag].get('aS',650.)\n",
      "    mu0     = profs[tag].get('mu0','halfMott')\n",
      "    x2lims  = profs[tag].get('x2lims', (-40.,40.))\n",
      "    y2lims  = profs[tag].get('y2lims', (0.,1.3))\n",
      "    \n",
      "    select = 'nlce'\n",
      "    \n",
      "    pot = scubic.sc(allIR=s, allGR=g, allIRw=wIR, allGRw=wGR)\n",
      "    \n",
      "    lda0 = lda.lda(potential = pot, Temperature=T, a_s=aS, extents=extents, globalMu=mu0, verbose=True, \\\n",
      "                   select = select,\\\n",
      "                   ignoreExtents=False, ignoreSlopeErrors=True, ignoreMuThreshold=True)\n",
      "    \n",
      "    # Figure to chech inhomogeneity\n",
      "    fig111, binresult, peak_dens, radius1e, peak_t, output = lda.CheckInhomog( lda0, closefig = True, n_ylim=(0.,1.05) ) ;\n",
      "    fig111.savefig('dataplots/Basic00/{:03d}_{}_T{:0.4f}Er.png'.format(tag,select,T), dpi=300)\n",
      "    \n",
      "    outs.append( (aS, output, binresult))\n"
     ],
     "language": "python",
     "metadata": {},
     "outputs": [
      {
       "output_type": "stream",
       "stream": "stdout",
       "text": [
        "\n",
        "0\n",
        "OK: Bottom of the band has positive slope up to r111 = 10 um\n",
        "bandOrigin = -13.91\n",
        "band100 = -4.64\n",
        "0.245369142754\n",
        "OK: Chemical potential is below evaporation threshold.\n",
        "OK: Chemical potential is below the bottom of the band along 100\n",
        "Inside nlce_dens\n",
        "ERROR: Radial density profile along 111 has a positive slope"
       ]
      },
      {
       "output_type": "stream",
       "stream": "stdout",
       "text": [
        "\n",
        "\n",
        "\n",
        "radius check start =  0.001\n",
        "[  1.00404044e+00   1.00366844e+00   9.96306628e-01   9.96659854e-01\n",
        "   9.94819830e-01   9.91086644e-01   9.84257839e-01   9.78489809e-01\n",
        "   9.72769186e-01   9.66147459e-01   9.55291983e-01   9.44094769e-01\n",
        "   9.30648906e-01   9.11640592e-01   8.89884459e-01   8.65646209e-01\n",
        "   8.37950524e-01   8.06972430e-01   7.63280446e-01   7.23025913e-01\n",
        "   6.70119456e-01   6.12353510e-01   5.49970391e-01   4.96115579e-01\n",
        "   4.30120443e-01   3.64341747e-01   3.01748718e-01   2.51438169e-01\n",
        "   1.96677005e-01   1.47792025e-01   1.12999145e-01   8.27236281e-02\n",
        "   5.83436607e-02   3.95166182e-02   2.49533003e-02   1.47008504e-02\n",
        "   8.66292413e-03   3.65399093e-03   9.30923306e-04  -6.06706625e-04]\n",
        "[False False  True False False False False False False False False False\n",
        " False False False False False False False False False False False False\n",
        " False False False False False False False False False False False False\n",
        " False False False]\n",
        "Inside nlce_entr\n",
        "Inside nlce_dens"
       ]
      },
      {
       "output_type": "stream",
       "stream": "stdout",
       "text": [
        "\n",
        "Inside nlce_entr"
       ]
      },
      {
       "output_type": "stream",
       "stream": "stdout",
       "text": [
        "\n",
        "Inside nlce_spi"
       ]
      },
      {
       "output_type": "stream",
       "stream": "stdout",
       "text": [
        "\n",
        "1.00404044349"
       ]
      },
      {
       "output_type": "stream",
       "stream": "stdout",
       "text": [
        "\n",
        "[1.0040404434935819, 0.95, 0.75, 0.5, 0.25]\n",
        "[0.95, 0.75, 0.5, 0.25, 0.0]\n",
        "[(0.97702022174679093, 8.334378173503033), (0.85, 14.30340175134722), (0.625, 17.797100295629328), (0.375, 20.90729620288898)]\n",
        " Bins cut radii =  [8.334378173503033, 14.30340175134722, 17.797100295629328, 20.90729620288898]\n",
        "Total natoms from adding bins =  1.0\n",
        "\n"
       ]
      },
      {
       "output_type": "stream",
       "stream": "stdout",
       "text": [
        "|   Atoms in bin |   n min |   n max |   Mean n |   Mean t |   Mean U |   Mean U/t |\n",
        "|----------------+---------+---------+----------+----------+----------+------------|\n",
        "|          0.076 |   0.950 |   1.004 |    0.980 |    0.041 |    0.561 |     13.651 |\n",
        "|          0.302 |   0.750 |   0.950 |    0.860 |    0.046 |    0.527 |     11.588 |\n",
        "|          0.225 |   0.500 |   0.750 |    0.640 |    0.051 |    0.491 |      9.647 |\n",
        "|          0.247 |   0.250 |   0.500 |    0.370 |    0.057 |    0.456 |      8.069 |\n",
        "|          0.150 |   0.000 |   0.250 |    0.100 |    0.066 |    0.405 |      6.126 |\n",
        "\n"
       ]
      },
      {
       "output_type": "stream",
       "stream": "stdout",
       "text": [
        "1\n",
        "OK: Bottom of the band has positive slope up to r111 = 10 um\n",
        "bandOrigin = -13.91\n",
        "band100 = -4.64\n",
        "0.245369142754\n",
        "OK: Chemical potential is below evaporation threshold.\n",
        "OK: Chemical potential is below the bottom of the band along 100\n",
        "Inside nlce_dens\n",
        "ERROR: Radial density profile along 111 has a positive slope"
       ]
      },
      {
       "output_type": "stream",
       "stream": "stdout",
       "text": [
        "\n",
        "\n",
        "\n",
        "radius check start =  0.001\n",
        "[ 1.00390242  0.99779396  0.99782743  0.99789043  0.99666767  0.99376636\n",
        "  0.98988129  0.98506053  0.98111961  0.97570366  0.96679868  0.95646548\n",
        "  0.94470144  0.92566595  0.90359096  0.87771543  0.84722872  0.81163986\n",
        "  0.76282436  0.71656609  0.65558673  0.58834989  0.5181245   0.45863019\n",
        "  0.38655824  0.31778044  0.25162531  0.20169362  0.14871947  0.10430214\n",
        "  0.07345018  0.04905882  0.03086166  0.01752083  0.008236    0.00207367\n",
        " -0.0013247  -0.00335438 -0.00382491 -0.00352113]\n",
        "[False False False False False False False False False False False False\n",
        " False False False False False False False False False False False False\n",
        " False False False False False False False False False False False False\n",
        " False False  True]\n",
        "Inside nlce_entr\n",
        "Inside nlce_dens"
       ]
      },
      {
       "output_type": "stream",
       "stream": "stdout",
       "text": [
        "\n",
        "Inside nlce_entr"
       ]
      },
      {
       "output_type": "stream",
       "stream": "stdout",
       "text": [
        "\n",
        "Inside nlce_spi"
       ]
      },
      {
       "output_type": "stream",
       "stream": "stdout",
       "text": [
        "\n",
        "1.00390241929"
       ]
      },
      {
       "output_type": "stream",
       "stream": "stdout",
       "text": [
        "\n",
        "[1.003902419288826, 0.95, 0.75, 0.5, 0.25]\n",
        "[0.95, 0.75, 0.5, 0.25, 0.0]\n",
        "[(0.97695120964441295, 9.193477884392122), (0.85, 14.264180389337579), (0.625, 17.316966741472744), (0.375, 20.148260414858314)]\n",
        " Bins cut radii =  [9.193477884392122, 14.264180389337579, 17.316966741472744, 20.148260414858314]\n",
        "Total natoms from adding bins =  1.0\n",
        "\n"
       ]
      },
      {
       "output_type": "stream",
       "stream": "stdout",
       "text": [
        "|   Atoms in bin |   n min |   n max |   Mean n |   Mean t |   Mean U |   Mean U/t |\n",
        "|----------------+---------+---------+----------+----------+----------+------------|\n",
        "|          0.110 |   0.950 |   1.004 |    0.980 |    0.041 |    0.558 |     13.483 |\n",
        "|          0.309 |   0.750 |   0.950 |    0.860 |    0.046 |    0.525 |     11.474 |\n",
        "|          0.241 |   0.500 |   0.750 |    0.620 |    0.051 |    0.491 |      9.652 |\n",
        "|          0.203 |   0.250 |   0.500 |    0.360 |    0.056 |    0.460 |      8.235 |\n",
        "|          0.137 |   0.000 |   0.250 |    0.110 |    0.063 |    0.420 |      6.636 |\n",
        "\n"
       ]
      },
      {
       "output_type": "stream",
       "stream": "stdout",
       "text": [
        "2\n",
        "OK: Bottom of the band has positive slope up to r111 = 10 um\n",
        "bandOrigin = -13.91\n",
        "band100 = -4.64\n",
        "0.245369142754\n",
        "OK: Chemical potential is below evaporation threshold.\n",
        "OK: Chemical potential is below the bottom of the band along 100\n",
        "Inside nlce_dens\n",
        "ERROR: Radial density profile along 111 has a positive slope"
       ]
      },
      {
       "output_type": "stream",
       "stream": "stdout",
       "text": [
        "\n",
        "\n",
        "\n",
        "radius check start =  0.001\n",
        "[ 0.99896356  0.99877442  0.99891371  0.99894522  0.99827328  0.99611937\n",
        "  0.99381849  0.99002023  0.98708197  0.98239441  0.97472095  0.96541463\n",
        "  0.9540024   0.93599197  0.91350579  0.88623317  0.85275197  0.81440691\n",
        "  0.76049946  0.71016607  0.64259253  0.56841699  0.49475782  0.4315759\n",
        "  0.35624402  0.28525266  0.22007134  0.17110739  0.12153189  0.08048642\n",
        "  0.05357895  0.0333092   0.01852777  0.00836697  0.00227401 -0.00217221\n",
        " -0.00525533 -0.00610593 -0.00547911 -0.00524204]\n",
        "[False  True False False False False False False False False False False\n",
        " False False False False False False False False False False False False\n",
        " False False False False False False False False False False False False\n",
        " False  True  True]\n",
        "Inside nlce_entr\n",
        "Inside nlce_dens"
       ]
      },
      {
       "output_type": "stream",
       "stream": "stdout",
       "text": [
        "\n",
        "Inside nlce_entr"
       ]
      },
      {
       "output_type": "stream",
       "stream": "stdout",
       "text": [
        "\n",
        "Inside nlce_spi"
       ]
      },
      {
       "output_type": "stream",
       "stream": "stdout",
       "text": [
        "\n",
        "0.99896355539"
       ]
      },
      {
       "output_type": "stream",
       "stream": "stdout",
       "text": [
        "\n",
        "[0.99896355539018811, 0.95, 0.75, 0.5, 0.25]\n",
        "[0.95, 0.75, 0.5, 0.25, 0.0]\n",
        "[(0.97448177769509403, 9.689100873672476), (0.85, 14.209391324931937), (0.625, 17.029560139652535), (0.375, 19.758879453081626)]\n",
        " Bins cut radii =  [9.689100873672476, 14.209391324931937, 17.029560139652535, 19.758879453081626]\n",
        "Total natoms from adding bins =  1.0\n",
        "\n"
       ]
      },
      {
       "output_type": "stream",
       "stream": "stdout",
       "text": [
        "|   Atoms in bin |   n min |   n max |   Mean n |   Mean t |   Mean U |   Mean U/t |\n",
        "|----------------+---------+---------+----------+----------+----------+------------|\n",
        "|          0.150 |   0.950 |   0.999 |    0.980 |    0.042 |    0.555 |     13.305 |\n",
        "|          0.297 |   0.750 |   0.950 |    0.860 |    0.046 |    0.523 |     11.346 |\n",
        "|          0.189 |   0.500 |   0.750 |    0.640 |    0.050 |    0.495 |      9.834 |\n",
        "|          0.218 |   0.250 |   0.500 |    0.400 |    0.055 |    0.468 |      8.588 |\n",
        "|          0.147 |   0.000 |   0.250 |    0.130 |    0.061 |    0.432 |      7.070 |\n",
        "\n"
       ]
      },
      {
       "output_type": "stream",
       "stream": "stdout",
       "text": [
        "3\n",
        "OK: Bottom of the band has positive slope up to r111 = 10 um\n",
        "bandOrigin = -13.91\n",
        "band100 = -4.64\n",
        "0.245369142754\n",
        "OK: Chemical potential is below evaporation threshold.\n",
        "OK: Chemical potential is below the bottom of the band along 100\n",
        "Inside nlce_dens\n",
        "ERROR: Radial density profile along 111 has a positive slope"
       ]
      },
      {
       "output_type": "stream",
       "stream": "stdout",
       "text": [
        "\n",
        "\n",
        "\n",
        "radius check start =  0.001\n",
        "[  9.99877922e-01   9.99888798e-01   9.99910459e-01   9.99914094e-01\n",
        "   9.99116904e-01   9.99000000e-01   9.98110302e-01   9.97311243e-01\n",
        "   9.95889289e-01   9.92534187e-01   9.88670758e-01   9.81644554e-01\n",
        "   9.72622001e-01   9.60133903e-01   9.45561365e-01   9.27261443e-01\n",
        "   8.99088214e-01   8.64071806e-01   8.23248425e-01   7.76213034e-01\n",
        "   7.22489887e-01   6.50287041e-01   5.87529409e-01   5.22439201e-01\n",
        "   4.42922647e-01   3.77669898e-01   3.03706698e-01   2.46094498e-01\n",
        "   1.93887859e-01   1.37120193e-01   9.90919736e-02   6.74256707e-02\n",
        "   4.21695137e-02   2.38311101e-02   1.23406514e-02   9.74030083e-04\n",
        "  -9.15960699e-03  -9.27328393e-04  -9.93013374e-03  -1.06541328e-02]\n",
        "[False False False False False False False False False False False False\n",
        " False False False False False False False False False False False False\n",
        " False False False False False False False False False False False False\n",
        "  True False False]\n",
        "Inside nlce_entr\n",
        "Inside nlce_dens"
       ]
      },
      {
       "output_type": "stream",
       "stream": "stdout",
       "text": [
        "\n",
        "Inside nlce_entr"
       ]
      },
      {
       "output_type": "stream",
       "stream": "stdout",
       "text": [
        "\n",
        "Inside nlce_spi"
       ]
      },
      {
       "output_type": "stream",
       "stream": "stdout",
       "text": [
        "\n",
        "0.999914094382"
       ]
      },
      {
       "output_type": "stream",
       "stream": "stdout",
       "text": [
        "\n",
        "[0.9999140943818432, 0.95, 0.75, 0.5, 0.25]\n",
        "[0.95, 0.75, 0.5, 0.25, 0.0]\n",
        "[(0.97495704719092158, 10.071468502632907), (0.85, 14.196440482828137), (0.625, 16.85984454345888), (0.375, 19.439592338870575)]\n",
        " Bins cut radii =  [10.071468502632907, 14.196440482828137, 16.85984454345888, 19.439592338870575]\n",
        "Total natoms from adding bins =  1.0\n",
        "\n"
       ]
      },
      {
       "output_type": "stream",
       "stream": "stdout",
       "text": [
        "|   Atoms in bin |   n min |   n max |   Mean n |   Mean t |   Mean U |   Mean U/t |\n",
        "|----------------+---------+---------+----------+----------+----------+------------|\n",
        "|          0.162 |   0.950 |   1.000 |    0.980 |    0.042 |    0.555 |     13.285 |\n",
        "|          0.290 |   0.750 |   0.950 |    0.870 |    0.046 |    0.524 |     11.401 |\n",
        "|          0.239 |   0.500 |   0.750 |    0.620 |    0.050 |    0.494 |      9.823 |\n",
        "|          0.153 |   0.250 |   0.500 |    0.380 |    0.054 |    0.469 |      8.642 |\n",
        "|          0.156 |   0.000 |   0.250 |    0.150 |    0.060 |    0.440 |      7.371 |\n",
        "\n"
       ]
      },
      {
       "output_type": "stream",
       "stream": "stdout",
       "text": [
        "4\n",
        "OK: Bottom of the band has positive slope up to r111 = 10 um\n",
        "bandOrigin = -13.91\n",
        "band100 = -4.64\n",
        "0.245369142754\n",
        "OK: Chemical potential is below evaporation threshold.\n",
        "OK: Chemical potential is below the bottom of the band along 100\n",
        "Inside nlce_dens\n",
        "ERROR: Radial density profile along 111 has a positive slope"
       ]
      },
      {
       "output_type": "stream",
       "stream": "stdout",
       "text": [
        "\n",
        "\n",
        "\n",
        "radius check start =  0.001\n",
        "[ 0.99921827  0.99924714  0.99922285  0.9992723   1.          1.          1.\n",
        "  0.99924292  0.99859571  0.9955587   0.99175056  0.9855151   0.97616829\n",
        "  0.96384943  0.94820656  0.92974561  0.89976269  0.86272651  0.82079866\n",
        "  0.77200383  0.71588647  0.64117187  0.57646378  0.50954945  0.42854779\n",
        "  0.36321957  0.28976468  0.24290637  0.18186956  0.12667349  0.09133161\n",
        "  0.05748523  0.03343754  0.01592149  0.01034745 -0.001467    0.00328985\n",
        "  0.00366322  0.00153822  0.00374268]\n",
        "[False False False  True False False False False False False False False\n",
        " False False False False False False False False False False False False\n",
        " False False False False False False False False False False False  True\n",
        "  True False  True]\n",
        "Inside nlce_entr\n",
        "Inside nlce_dens"
       ]
      },
      {
       "output_type": "stream",
       "stream": "stdout",
       "text": [
        "\n",
        "Inside nlce_entr"
       ]
      },
      {
       "output_type": "stream",
       "stream": "stdout",
       "text": [
        "\n",
        "Inside nlce_spi"
       ]
      },
      {
       "output_type": "stream",
       "stream": "stdout",
       "text": [
        "\n",
        "1.0"
       ]
      },
      {
       "output_type": "stream",
       "stream": "stdout",
       "text": [
        "\n",
        "[1.0, 0.95, 0.75, 0.5, 0.25]\n",
        "[0.95, 0.75, 0.5, 0.25, 0.0]\n",
        "[(0.97499999999999998, 10.199688251011779), (0.85, 14.125753095638407), (0.625, 16.74375219282311), (0.375, 19.387667878327207)]\n",
        " Bins cut radii =  [10.199688251011779, 14.125753095638407, 16.74375219282311, 19.387667878327207]\n",
        "Total natoms from adding bins =  1.0\n",
        "\n"
       ]
      },
      {
       "output_type": "stream",
       "stream": "stdout",
       "text": [
        "|   Atoms in bin |   n min |   n max |   Mean n |   Mean t |   Mean U |   Mean U/t |\n",
        "|----------------+---------+---------+----------+----------+----------+------------|\n",
        "|          0.164 |   0.950 |   1.000 |    0.990 |    0.042 |    0.555 |     13.285 |\n",
        "|          0.293 |   0.750 |   0.950 |    0.870 |    0.046 |    0.524 |     11.402 |\n",
        "|          0.239 |   0.500 |   0.750 |    0.610 |    0.050 |    0.494 |      9.824 |\n",
        "|          0.149 |   0.250 |   0.500 |    0.360 |    0.054 |    0.469 |      8.642 |\n",
        "|          0.154 |   0.000 |   0.250 |    0.130 |    0.061 |    0.434 |      7.186 |\n"
       ]
      }
     ],
     "prompt_number": 2
    },
    {
     "cell_type": "code",
     "collapsed": false,
     "input": [
      "%%timeit \n",
      "\n",
      "lda0 = lda.lda(potential = pot, Temperature=T, a_s=aS, extents=extents, globalMu=mu0, verbose=False, \\\n",
      "                   ignoreExtents=False, ignoreSlopeErrors=True, ignoreMuThreshold=True)"
     ],
     "language": "python",
     "metadata": {},
     "outputs": [
      {
       "output_type": "stream",
       "stream": "stdout",
       "text": [
        "10 loops, best of 3: 27.6 ms per loop\n"
       ]
      }
     ],
     "prompt_number": 2
    }
   ],
   "metadata": {}
  }
 ]
}