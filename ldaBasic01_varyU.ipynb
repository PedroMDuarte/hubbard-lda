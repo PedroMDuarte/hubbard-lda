{
 "metadata": {
  "name": "",
  "signature": "sha256:1dd7c17725e325329e6ad19f66f1517be81fb747a6ed83ab9aadd4731317d4d2"
 },
 "nbformat": 3,
 "nbformat_minor": 0,
 "worksheets": [
  {
   "cells": [
    {
     "cell_type": "code",
     "collapsed": false,
     "input": [
      "import scubic\n",
      "import lda\n",
      "    \n",
      "#g0=3.666\n",
      "g0 = 3.30\n",
      "\n",
      "profs = [ \n",
      "        #0 T/t = 0.8 at center N=XXe5 \n",
      "        {'wIR':47.,\\\n",
      "         'wGR':47./1.175,\\\n",
      "         'g0':g0,\\\n",
      "         's0':7.,\\\n",
      "         'extents':30.,\\\n",
      "         'T':0.035,\\\n",
      "         'aS':200.,\\\n",
      "         'mu0':'halfMott',\\\n",
      "         'muPlus':0.324,\\\n",
      "         'direc':'111'\n",
      "        },\n",
      "        #1 T/t = 0.8 at center N=XXe5 \n",
      "        {'wIR':47.,\\\n",
      "         'wGR':47./1.175,\\\n",
      "         'g0':g0,\\\n",
      "         's0':7.,\\\n",
      "         'extents':30.,\\\n",
      "         'T':0.035,\\\n",
      "         'aS':290.,\\\n",
      "         'mu0':'halfMott',\\\n",
      "         'muPlus':0.332,\\\n",
      "         'direc':'111'\n",
      "        },\n",
      "        #2 T/t = 0.8 at center N=XXe5 \n",
      "        {'wIR':47.,\\\n",
      "         'wGR':47./1.175,\\\n",
      "         'g0':g0,\\\n",
      "         's0':7.,\\\n",
      "         'extents':30.,\\\n",
      "         'T':0.035,\\\n",
      "         'aS':380.,\\\n",
      "         'mu0':'halfMott',\\\n",
      "         'muPlus':0.312,\\\n",
      "         'direc':'111'\n",
      "        },\n",
      "        #3 T/t = 0.8 at center N=XXe5 \n",
      "        {'wIR':47.,\\\n",
      "         'wGR':47./1.175,\\\n",
      "         'g0':g0,\\\n",
      "         's0':7.,\\\n",
      "         'extents':30.,\\\n",
      "         'T':0.035,\\\n",
      "         'aS':470.,\\\n",
      "         'mu0':'halfMott',\\\n",
      "         'muPlus':0.275,\\\n",
      "         'direc':'111'\n",
      "        },\n",
      "        ]\n",
      "\n",
      "\n",
      "tags = range(len(profs)) \n",
      "#tags = [2] \n",
      "outs = [] \n",
      "\n",
      "for tag in tags:\n",
      "\n",
      "    print '\\n',tag\n",
      "    \n",
      "    s       = profs[tag]['s0']\n",
      "    g       = profs[tag]['g0']\n",
      "    wIR     = profs[tag]['wIR']\n",
      "    wGR     = profs[tag]['wGR']\n",
      "    T       = profs[tag]['T'] \n",
      "    extents = profs[tag]['extents']\n",
      "    direc   = profs[tag]['direc'] \n",
      "    aS      = profs[tag].get('aS',650.)\n",
      "    mu0     = profs[tag].get('mu0','halfMott')\n",
      "    muPlus  = profs[tag].get('muPlus', 0.0)\n",
      "    x2lims  = profs[tag].get('x2lims', (-40.,40.))\n",
      "    y2lims  = profs[tag].get('y2lims', (0.,1.3))\n",
      "    \n",
      "    select = 'nlce'\n",
      "    \n",
      "    pot = scubic.sc(allIR=s, allGR=g, allIRw=wIR, allGRw=wGR)\n",
      "    \n",
      "    lda0 = lda.lda(potential = pot, Temperature=T, a_s=aS, extents=extents, \\\n",
      "                   globalMu=mu0, halfMottPlus=muPlus,\\\n",
      "                   verbose=True, \\\n",
      "                   select = select,\\\n",
      "                   ignoreExtents=False, ignoreSlopeErrors=True, ignoreMuThreshold=True)\n",
      "    \n",
      "    # Figure to chech inhomogeneity\n",
      "    fig111, binresult, peak_dens, radius1e, peak_t, output = lda.CheckInhomog( lda0, closefig = True, n_ylim=(-0.1,2.0) ) ;\n",
      "    fig111.savefig('dataplots/Basic01/{:0.3f}gr_{:03d}_{}_T{:0.4f}Er.png'.format(g0,tag,select,T), dpi=300)\n",
      "    \n",
      "    outs.append( (aS, output, binresult))\n"
     ],
     "language": "python",
     "metadata": {},
     "outputs": [
      {
       "output_type": "stream",
       "stream": "stdout",
       "text": [
        "\n",
        "0\n",
        "OK: Bottom of the band has positive slope up to r111 = 10 um\n",
        "bandOrigin = -13.91\n",
        "band100 = -4.64\n",
        "0.245369142754\n",
        "OK: Chemical potential is below evaporation threshold.\n",
        "OK: Chemical potential is below the bottom of the band along 100\n",
        "Inside nlce_dens\n",
        "OK: Radial density profile along 111 decreases monotonically."
       ]
      },
      {
       "output_type": "stream",
       "stream": "stdout",
       "text": [
        "\n",
        "Inside nlce_entr\n",
        "Inside nlce_dens"
       ]
      },
      {
       "output_type": "stream",
       "stream": "stdout",
       "text": [
        "\n",
        "Inside nlce_entr"
       ]
      },
      {
       "output_type": "stream",
       "stream": "stdout",
       "text": [
        "\n",
        "Inside nlce_spi"
       ]
      },
      {
       "output_type": "stream",
       "stream": "stdout",
       "text": [
        "\n",
        "Total natoms from adding bins = "
       ]
      },
      {
       "output_type": "stream",
       "stream": "stdout",
       "text": [
        " 1.0\n",
        "\n"
       ]
      },
      {
       "output_type": "stream",
       "stream": "stdout",
       "text": [
        "|   Atoms in bin |   n min |   n max |   Mean n |   Mean t |   Mean U |   Mean U/t |\n",
        "|----------------+---------+---------+----------+----------+----------+------------|\n",
        "|          0.202 |   1.422 |   1.862 |    1.640 |    0.041 |    0.294 |      7.109 |\n",
        "|          0.167 |   1.137 |   1.422 |    1.310 |    0.044 |    0.283 |      6.425 |\n",
        "|          0.278 |   0.848 |   1.137 |    1.010 |    0.047 |    0.273 |      5.823 |\n",
        "|          0.140 |   0.531 |   0.848 |    0.700 |    0.050 |    0.262 |      5.274 |\n",
        "|          0.213 |   0.000 |   0.531 |    0.280 |    0.054 |    0.249 |      4.618 |\n",
        "\n"
       ]
      },
      {
       "output_type": "stream",
       "stream": "stdout",
       "text": [
        "1\n",
        "OK: Bottom of the band has positive slope up to r111 = 10 um\n",
        "bandOrigin = -13.91\n",
        "band100 = -4.64\n",
        "0.245369142754\n",
        "OK: Chemical potential is below evaporation threshold.\n",
        "OK: Chemical potential is below the bottom of the band along 100\n",
        "Inside nlce_dens\n",
        "ERROR: Radial density profile along 111 has a positive slope"
       ]
      },
      {
       "output_type": "stream",
       "stream": "stdout",
       "text": [
        "\n",
        "\n",
        "\n",
        "radius check start =  0.001\n",
        "[  1.72441970e+00   1.72673787e+00   1.71333957e+00   1.69522142e+00\n",
        "   1.67423994e+00   1.63805425e+00   1.60871131e+00   1.56654808e+00\n",
        "   1.50647396e+00   1.45839348e+00   1.39178347e+00   1.32975151e+00\n",
        "   1.26335475e+00   1.20750097e+00   1.15789106e+00   1.10368090e+00\n",
        "   1.05655096e+00   1.00349938e+00   9.50416640e-01   8.76698527e-01\n",
        "   7.94651772e-01   6.76704492e-01   5.57274898e-01   4.20596057e-01\n",
        "   3.01763333e-01   1.96771366e-01   1.14995974e-01   5.58177334e-02\n",
        "   2.03058609e-02   6.41232394e-03   1.69527903e-03   0.00000000e+00\n",
        "   0.00000000e+00   0.00000000e+00   0.00000000e+00   0.00000000e+00\n",
        "   0.00000000e+00   0.00000000e+00   0.00000000e+00   0.00000000e+00]\n",
        "[ True False False False False False False False False False False False\n",
        " False False False False False False False False False False False False\n",
        " False False False False False False False False False False False False\n",
        " False False False]\n",
        "Inside nlce_entr\n",
        "Inside nlce_dens"
       ]
      },
      {
       "output_type": "stream",
       "stream": "stdout",
       "text": [
        "\n",
        "Inside nlce_entr"
       ]
      },
      {
       "output_type": "stream",
       "stream": "stdout",
       "text": [
        "\n",
        "Inside nlce_spi"
       ]
      },
      {
       "output_type": "stream",
       "stream": "stdout",
       "text": [
        "\n",
        "Total natoms from adding bins = "
       ]
      },
      {
       "output_type": "stream",
       "stream": "stdout",
       "text": [
        " 1.0\n",
        "\n"
       ]
      },
      {
       "output_type": "stream",
       "stream": "stdout",
       "text": [
        "|   Atoms in bin |   n min |   n max |   Mean n |   Mean t |   Mean U |   Mean U/t |\n",
        "|----------------+---------+---------+----------+----------+----------+------------|\n",
        "|          0.203 |   1.242 |   1.724 |    1.460 |    0.042 |    0.424 |     10.183 |\n",
        "|          0.209 |   1.030 |   1.242 |    1.130 |    0.045 |    0.404 |      8.945 |\n",
        "|          0.203 |   0.860 |   1.030 |    0.950 |    0.048 |    0.388 |      8.043 |\n",
        "|          0.206 |   0.536 |   0.860 |    0.680 |    0.051 |    0.372 |      7.232 |\n",
        "|          0.178 |   0.000 |   0.536 |    0.240 |    0.056 |    0.349 |      6.193 |\n",
        "\n"
       ]
      },
      {
       "output_type": "stream",
       "stream": "stdout",
       "text": [
        "2\n",
        "OK: Bottom of the band has positive slope up to r111 = 10 um\n",
        "bandOrigin = -13.91\n",
        "band100 = -4.64\n",
        "0.245369142754\n",
        "OK: Chemical potential is below evaporation threshold.\n",
        "OK: Chemical potential is below the bottom of the band along 100\n",
        "Inside nlce_dens\n",
        "OK: Radial density profile along 111 decreases monotonically."
       ]
      },
      {
       "output_type": "stream",
       "stream": "stdout",
       "text": [
        "\n",
        "Inside nlce_entr\n",
        "Inside nlce_dens"
       ]
      },
      {
       "output_type": "stream",
       "stream": "stdout",
       "text": [
        "\n",
        "Inside nlce_entr"
       ]
      },
      {
       "output_type": "stream",
       "stream": "stdout",
       "text": [
        "\n",
        "Inside nlce_spi"
       ]
      },
      {
       "output_type": "stream",
       "stream": "stdout",
       "text": [
        "\n",
        "Total natoms from adding bins = "
       ]
      },
      {
       "output_type": "stream",
       "stream": "stdout",
       "text": [
        " 1.0\n",
        "\n"
       ]
      },
      {
       "output_type": "stream",
       "stream": "stdout",
       "text": [
        "|   Atoms in bin |   n min |   n max |   Mean n |   Mean t |   Mean U |   Mean U/t |\n",
        "|----------------+---------+---------+----------+----------+----------+------------|\n",
        "|          0.204 |   1.058 |   1.488 |    1.220 |    0.042 |    0.553 |     13.155 |\n",
        "|          0.205 |   0.979 |   1.058 |    1.020 |    0.046 |    0.524 |     11.385 |\n",
        "|          0.210 |   0.837 |   0.979 |    0.920 |    0.049 |    0.502 |     10.184 |\n",
        "|          0.209 |   0.521 |   0.837 |    0.660 |    0.053 |    0.480 |      9.111 |\n",
        "|          0.171 |   0.000 |   0.521 |    0.230 |    0.058 |    0.449 |      7.782 |\n",
        "\n"
       ]
      },
      {
       "output_type": "stream",
       "stream": "stdout",
       "text": [
        "3\n",
        "OK: Bottom of the band has positive slope up to r111 = 10 um\n",
        "bandOrigin = -13.91\n",
        "band100 = -4.64\n",
        "0.245369142754\n",
        "OK: Chemical potential is below evaporation threshold.\n",
        "OK: Chemical potential is below the bottom of the band along 100\n",
        "Inside nlce_dens\n",
        "ERROR: Radial density profile along 111 has a positive slope"
       ]
      },
      {
       "output_type": "stream",
       "stream": "stdout",
       "text": [
        "\n",
        "\n",
        "\n",
        "radius check start =  0.001\n",
        "[  1.18454139e+00   1.18817652e+00   1.17541241e+00   1.16618110e+00\n",
        "   1.15653667e+00   1.13686113e+00   1.12000424e+00   1.09837468e+00\n",
        "   1.08120913e+00   1.06253406e+00   1.03621442e+00   1.02700140e+00\n",
        "   1.01541098e+00   1.01163690e+00   1.00563921e+00   9.98227620e-01\n",
        "   1.00042196e+00   9.98965953e-01   9.84426332e-01   9.52628340e-01\n",
        "   8.97989889e-01   8.16399697e-01   7.20660090e-01   5.94503225e-01\n",
        "   4.62481887e-01   3.37453757e-01   2.38367698e-01   1.48235755e-01\n",
        "   8.37800215e-02   3.87425380e-02   1.51172300e-02   4.38578207e-04\n",
        "   0.00000000e+00   0.00000000e+00   0.00000000e+00   0.00000000e+00\n",
        "   0.00000000e+00   0.00000000e+00   0.00000000e+00   0.00000000e+00]\n",
        "[ True False False False False False False False False False False False\n",
        " False False False  True False False False False False False False False\n",
        " False False False False False False False False False False False False\n",
        " False False False]\n",
        "Inside nlce_entr\n",
        "Inside nlce_dens"
       ]
      },
      {
       "output_type": "stream",
       "stream": "stdout",
       "text": [
        "\n",
        "Inside nlce_entr"
       ]
      },
      {
       "output_type": "stream",
       "stream": "stdout",
       "text": [
        "\n",
        "Inside nlce_spi"
       ]
      },
      {
       "output_type": "stream",
       "stream": "stdout",
       "text": [
        "\n",
        "Total natoms from adding bins = "
       ]
      },
      {
       "output_type": "stream",
       "stream": "stdout",
       "text": [
        " 1.0\n",
        "\n"
       ]
      },
      {
       "output_type": "stream",
       "stream": "stdout",
       "text": [
        "|   Atoms in bin |   n min |   n max |   Mean n |   Mean t |   Mean U |   Mean U/t |\n",
        "|----------------+---------+---------+----------+----------+----------+------------|\n",
        "|          0.211 |   1.004 |   1.185 |    1.050 |    0.043 |    0.680 |     15.994 |\n",
        "|          0.217 |   0.974 |   1.004 |    1.000 |    0.047 |    0.640 |     13.655 |\n",
        "|          0.143 |   0.827 |   0.974 |    0.920 |    0.050 |    0.616 |     12.378 |\n",
        "|          0.219 |   0.514 |   0.827 |    0.720 |    0.053 |    0.593 |     11.264 |\n",
        "|          0.210 |   0.000 |   0.514 |    0.260 |    0.058 |    0.553 |      9.529 |\n"
       ]
      }
     ],
     "prompt_number": 3
    },
    {
     "cell_type": "code",
     "collapsed": false,
     "input": [
      "import scubic\n",
      "import lda\n",
      "    \n",
      "g0=3.666\n",
      "#g0 = 3.30\n",
      "\n",
      "profs = [ \n",
      "        #0 T/t = 0.8 at center N=XXe5 \n",
      "        {'wIR':47.,\\\n",
      "         'wGR':47./1.175,\\\n",
      "         'g0':g0,\\\n",
      "         's0':7.,\\\n",
      "         'extents':30.,\\\n",
      "         'T':0.035,\\\n",
      "         'aS':200.,\\\n",
      "         'mu0':'halfMott',\\\n",
      "         'muPlus':0.120,\\\n",
      "         'direc':'111'\n",
      "        },\n",
      "        #1 T/t = 0.8 at center N=XXe5 \n",
      "        {'wIR':47.,\\\n",
      "         'wGR':47./1.175,\\\n",
      "         'g0':g0,\\\n",
      "         's0':7.,\\\n",
      "         'extents':30.,\\\n",
      "         'T':0.035,\\\n",
      "         'aS':290.,\\\n",
      "         'mu0':'halfMott',\\\n",
      "         'muPlus':0.099,\\\n",
      "         'direc':'111'\n",
      "        },\n",
      "        #2 T/t = 0.8 at center N=XXe5 \n",
      "        {'wIR':47.,\\\n",
      "         'wGR':47./1.175,\\\n",
      "         'g0':g0,\\\n",
      "         's0':7.,\\\n",
      "         'extents':30.,\\\n",
      "         'T':0.035,\\\n",
      "         'aS':380.,\\\n",
      "         'mu0':'halfMott',\\\n",
      "         'muPlus':0.051,\\\n",
      "         'direc':'111'\n",
      "        },\n",
      "        #3 T/t = 0.8 at center N=XXe5 \n",
      "        {'wIR':47.,\\\n",
      "         'wGR':47./1.175,\\\n",
      "         'g0':g0,\\\n",
      "         's0':7.,\\\n",
      "         'extents':30.,\\\n",
      "         'T':0.035,\\\n",
      "         'aS':470.,\\\n",
      "         'mu0':'halfMott',\\\n",
      "         'muPlus':-0.005,\\\n",
      "         'direc':'111'\n",
      "        },\n",
      "        ]\n",
      "\n",
      "\n",
      "tags = range(len(profs)) \n",
      "tags = [0,1] \n",
      "outs = [] \n",
      "spis = [] \n",
      "\n",
      "for tag in tags:\n",
      "\n",
      "    print '\\n',tag\n",
      "    \n",
      "    s       = profs[tag]['s0']\n",
      "    g       = profs[tag]['g0']\n",
      "    wIR     = profs[tag]['wIR']\n",
      "    wGR     = profs[tag]['wGR']\n",
      "    T       = profs[tag]['T'] \n",
      "    extents = profs[tag]['extents']\n",
      "    direc   = profs[tag]['direc'] \n",
      "    aS      = profs[tag].get('aS',650.)\n",
      "    mu0     = profs[tag].get('mu0','halfMott')\n",
      "    muPlus  = profs[tag].get('muPlus', 0.0)\n",
      "    x2lims  = profs[tag].get('x2lims', (-40.,40.))\n",
      "    y2lims  = profs[tag].get('y2lims', (0.,1.3))\n",
      "    \n",
      "    select = 'nlce'\n",
      "    \n",
      "    pot = scubic.sc(allIR=s, allGR=g, allIRw=wIR, allGRw=wGR)\n",
      "    \n",
      "    lda0 = lda.lda(potential = pot, Temperature=T, a_s=aS, extents=extents, \\\n",
      "                   globalMu=mu0, halfMottPlus=muPlus,\\\n",
      "                   verbose=True, \\\n",
      "                   select = select,\\\n",
      "                   ignoreExtents=False, ignoreSlopeErrors=True, ignoreMuThreshold=True)\n",
      "    \n",
      "    spibulk, spi, r111, n111, U111, t111 = lda0.getBulkSpi(Tspi=0.5)\n",
      "    spis.append( {'SpiBulk':spibulk,\\\n",
      "                  'spi111':spi,\\\n",
      "                  'r111':r111,\\\n",
      "                  'n111':n111,\\\n",
      "                  'U111':U111,\\\n",
      "                  } ) \n",
      "    \n",
      "    # Figure to chech inhomogeneity\n",
      "    fig111, binresult, peak_dens, radius1e, peak_t, output = lda.CheckInhomog( lda0, closefig = True, n_ylim=(-0.1,2.0) ) ;\n",
      "    fig111.savefig('dataplots/Basic01/{:0.3f}gr_{:03d}_{}_T{:0.4f}Er.png'.format(g0,tag,select,T), dpi=300)\n",
      "    \n",
      "    outs.append( (aS, output, binresult))\n"
     ],
     "language": "python",
     "metadata": {},
     "outputs": [
      {
       "output_type": "stream",
       "stream": "stdout",
       "text": [
        "\n",
        "0\n",
        "OK: Bottom of the band has positive slope up to r111 = 10 um\n",
        "bandOrigin = -13.91\n",
        "band100 = -4.64\n",
        "0.245369142754\n",
        "OK: Chemical potential is below evaporation threshold.\n",
        "OK: Chemical potential is below the bottom of the band along 100\n",
        "Inside nlce_dens\n",
        "ERROR: Radial density profile along 111 has a positive slope"
       ]
      },
      {
       "output_type": "stream",
       "stream": "stdout",
       "text": [
        "\n",
        "\n",
        "\n",
        "radius check start =  0.001\n",
        "[ 1.28305964  1.27295968  1.26834646  1.26135087  1.2554492   1.24325269\n",
        "  1.21916526  1.20894808  1.17752189  1.158331    1.12790368  1.09546178\n",
        "  1.06843953  1.035463    0.99053136  0.94302413  0.89490477  0.84439649\n",
        "  0.77278039  0.70838124  0.62580161  0.54078033  0.45413218  0.38364242\n",
        "  0.30266099  0.22889475  0.17452704  0.11710094  0.073057    0.04256954\n",
        "  0.01980348  0.00608761  0.0021234   0.00300754  0.          0.          0.\n",
        "  0.          0.          0.        ]\n",
        "[False False False False False False False False False False False False\n",
        " False False False False False False False False False False False False\n",
        " False False False False False False False False  True False False False\n",
        " False False False]\n",
        "Inside nlce_entr\n",
        "Inside nlce_dens"
       ]
      },
      {
       "output_type": "stream",
       "stream": "stdout",
       "text": [
        "\n",
        "Calculating Spi_Bulk for U=7.64, T=0.50"
       ]
      },
      {
       "output_type": "stream",
       "stream": "stdout",
       "text": [
        "\n",
        "Inside nlce_dens"
       ]
      },
      {
       "output_type": "stream",
       "stream": "stdout",
       "text": [
        "\n",
        "Inside nlce_entr"
       ]
      },
      {
       "output_type": "stream",
       "stream": "stdout",
       "text": [
        "\n",
        "Inside nlce_spi"
       ]
      },
      {
       "output_type": "stream",
       "stream": "stdout",
       "text": [
        "\n",
        "Total natoms from adding bins = "
       ]
      },
      {
       "output_type": "stream",
       "stream": "stdout",
       "text": [
        " 1.0\n",
        "\n"
       ]
      },
      {
       "output_type": "stream",
       "stream": "stdout",
       "text": [
        "|   Atoms in bin |   n min |   n max |   Mean n |   Mean t |   Mean U |   Mean U/t |\n",
        "|----------------+---------+---------+----------+----------+----------+------------|\n",
        "|          0.182 |   1.039 |   1.283 |    1.150 |    0.042 |    0.292 |      7.013 |\n",
        "|          0.201 |   0.856 |   1.039 |    0.960 |    0.045 |    0.279 |      6.169 |\n",
        "|          0.190 |   0.634 |   0.856 |    0.770 |    0.048 |    0.268 |      5.548 |\n",
        "|          0.239 |   0.365 |   0.634 |    0.500 |    0.052 |    0.255 |      4.897 |\n",
        "|          0.188 |   0.000 |   0.365 |    0.170 |    0.059 |    0.234 |      3.995 |\n",
        "\n"
       ]
      },
      {
       "output_type": "stream",
       "stream": "stdout",
       "text": [
        "1\n",
        "OK: Bottom of the band has positive slope up to r111 = 10 um\n",
        "bandOrigin = -13.91\n",
        "band100 = -4.64\n",
        "0.245369142754\n",
        "OK: Chemical potential is below evaporation threshold.\n",
        "OK: Chemical potential is below the bottom of the band along 100\n",
        "Inside nlce_dens\n",
        "ERROR: Radial density profile along 111 has a positive slope"
       ]
      },
      {
       "output_type": "stream",
       "stream": "stdout",
       "text": [
        "\n",
        "\n",
        "\n",
        "radius check start =  0.001\n",
        "[  1.10300602e+00   1.10436293e+00   1.09905118e+00   1.09761071e+00\n",
        "   1.08654606e+00   1.08552034e+00   1.07420557e+00   1.06228734e+00\n",
        "   1.05946891e+00   1.04549373e+00   1.04075455e+00   1.02827065e+00\n",
        "   1.01556180e+00   9.97537737e-01   9.78265051e-01   9.53209683e-01\n",
        "   9.23137739e-01   8.78122603e-01   8.35837566e-01   7.80227657e-01\n",
        "   7.12575852e-01   6.37430943e-01   5.57274898e-01   4.75929324e-01\n",
        "   3.94770700e-01   3.19324131e-01   2.57013272e-01   1.84403082e-01\n",
        "   1.28124358e-01   8.18852247e-02   4.94203897e-02   2.33950827e-02\n",
        "   1.09098805e-02   6.21167667e-03   1.08578148e-03   4.29445276e-04\n",
        "   0.00000000e+00   0.00000000e+00   0.00000000e+00   0.00000000e+00]\n",
        "[ True False False False False False False False False False False False\n",
        " False False False False False False False False False False False False\n",
        " False False False False False False False False False False False False\n",
        " False False False]\n",
        "Inside nlce_entr\n",
        "Inside nlce_dens"
       ]
      },
      {
       "output_type": "stream",
       "stream": "stdout",
       "text": [
        "\n",
        "Calculating Spi_Bulk for U=11.08, T=0.50"
       ]
      },
      {
       "output_type": "stream",
       "stream": "stdout",
       "text": [
        "\n",
        "Inside nlce_dens"
       ]
      },
      {
       "output_type": "stream",
       "stream": "stdout",
       "text": [
        "\n",
        "Inside nlce_entr"
       ]
      },
      {
       "output_type": "stream",
       "stream": "stdout",
       "text": [
        "\n",
        "Inside nlce_spi"
       ]
      },
      {
       "output_type": "stream",
       "stream": "stdout",
       "text": [
        "\n",
        "Total natoms from adding bins = "
       ]
      },
      {
       "output_type": "stream",
       "stream": "stdout",
       "text": [
        " 1.0\n",
        "\n"
       ]
      },
      {
       "output_type": "stream",
       "stream": "stdout",
       "text": [
        "|   Atoms in bin |   n min |   n max |   Mean n |   Mean t |   Mean U |   Mean U/t |\n",
        "|----------------+---------+---------+----------+----------+----------+------------|\n",
        "|          0.183 |   0.980 |   1.103 |    1.040 |    0.042 |    0.422 |     10.013 |\n",
        "|          0.256 |   0.822 |   0.980 |    0.910 |    0.046 |    0.397 |      8.551 |\n",
        "|          0.191 |   0.635 |   0.822 |    0.710 |    0.050 |    0.377 |      7.504 |\n",
        "|          0.175 |   0.326 |   0.635 |    0.480 |    0.054 |    0.360 |      6.676 |\n",
        "|          0.195 |   0.000 |   0.326 |    0.180 |    0.060 |    0.332 |      5.513 |\n"
       ]
      }
     ],
     "prompt_number": 9
    },
    {
     "cell_type": "code",
     "collapsed": false,
     "input": [
      "for spi in spis:\n",
      "    print \n",
      "    spiB = spi['SpiBulk']\n",
      "    spi0 = spi['spi111'].max()\n",
      "    \n",
      "    # effective contributing fraction\n",
      "    x = (spiB - 1.)/(spi0-1.)\n",
      "    \n",
      "    print \"U={:0.1f}  =>  Spi(Bulk)={:0.2f}   Spi(max)={:0.2f}   x={:.0f}%\".format( spi['U111'].max(), spiB, spi0, x*100.  )\n",
      "    \n",
      "    \n",
      "    plt.plot(spi['r111'], spi['n111'])\n",
      "    plt.plot(spi['r111'], spi['spi111'])\n"
     ],
     "language": "python",
     "metadata": {},
     "outputs": [
      {
       "output_type": "stream",
       "stream": "stdout",
       "text": [
        "\n",
        "U=7.6  =>  Spi(Bulk)=1.56   Spi(max)=2.97   x=28%\n",
        "\n",
        "U=11.1  =>  Spi(Bulk)=1.86   Spi(max)=3.45   x=35%\n"
       ]
      },
      {
       "metadata": {},
       "output_type": "display_data",
       "png": "[encoded data removed]",
       "text": [
        "<matplotlib.figure.Figure at 0xa45054c>"
       ]
      }
     ],
     "prompt_number": 12
    },
    {
     "cell_type": "code",
     "collapsed": false,
     "input": [],
     "language": "python",
     "metadata": {},
     "outputs": []
    }
   ],
   "metadata": {}
  }
 ]
}