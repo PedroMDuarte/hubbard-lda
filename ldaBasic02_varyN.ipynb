{
 "metadata": {
  "name": "",
  "signature": "sha256:21e78055c8e2e0043edfbff981c74dfa1918f5018168339560777ae540832f99"
 },
 "nbformat": 3,
 "nbformat_minor": 0,
 "worksheets": [
  {
   "cells": [
    {
     "cell_type": "code",
     "collapsed": false,
     "input": [
      "import sys\n",
      "sys.path.append('../')\n",
      "\n",
      "import spi_vs_n\n",
      "\n",
      "aS = 200.\n",
      "Tspi = 0.9 \n",
      "\n",
      "spi_vs_n.Spi_vs_N( aS=aS, Spi_inhomog=True, Tspi=Tspi)"
     ],
     "language": "python",
     "metadata": {},
     "outputs": [
      {
       "output_type": "stream",
       "stream": "stdout",
       "text": [
        "\n",
        "muPlus =  -0.15\n",
        "OK: Bottom of the band has positive slope up to r111 = 10 um\n",
        "OK: Chemical potential is below evaporation threshold.\n",
        "OK: Chemical potential is below the bottom of the band along 100\n",
        "OK: Radial density profile along 111 decreases monotonically."
       ]
      },
      {
       "output_type": "stream",
       "stream": "stdout",
       "text": [
        "\n",
        "Calculating Spi_Bulk for U=7.64, T=0.90"
       ]
      },
      {
       "output_type": "stream",
       "stream": "stdout",
       "text": [
        "\n"
       ]
      },
      {
       "ename": "IndexError",
       "evalue": "index -1 is out of bounds for axis 0 with size 0",
       "output_type": "pyerr",
       "traceback": [
        "\u001b[1;31m---------------------------------------------------------------------------\u001b[0m\n\u001b[1;31mIndexError\u001b[0m                                Traceback (most recent call last)",
        "\u001b[1;32m<ipython-input-1-a3948785633c>\u001b[0m in \u001b[0;36m<module>\u001b[1;34m()\u001b[0m\n\u001b[0;32m      7\u001b[0m \u001b[0mTspi\u001b[0m \u001b[1;33m=\u001b[0m \u001b[1;36m0.9\u001b[0m\u001b[1;33m\u001b[0m\u001b[0m\n\u001b[0;32m      8\u001b[0m \u001b[1;33m\u001b[0m\u001b[0m\n\u001b[1;32m----> 9\u001b[1;33m \u001b[0mspi_vs_n\u001b[0m\u001b[1;33m.\u001b[0m\u001b[0mSpi_vs_N\u001b[0m\u001b[1;33m(\u001b[0m \u001b[0maS\u001b[0m\u001b[1;33m=\u001b[0m\u001b[0maS\u001b[0m\u001b[1;33m,\u001b[0m \u001b[0mSpi_inhomog\u001b[0m\u001b[1;33m=\u001b[0m\u001b[0mTrue\u001b[0m\u001b[1;33m,\u001b[0m \u001b[0mTspi\u001b[0m\u001b[1;33m=\u001b[0m\u001b[0mTspi\u001b[0m\u001b[1;33m)\u001b[0m\u001b[1;33m\u001b[0m\u001b[0m\n\u001b[0m",
        "\u001b[1;32m/home/pmd/sandbox/hubbard-lda/spi_vs_n.pyc\u001b[0m in \u001b[0;36mSpi_vs_N\u001b[1;34m(aS, Spi_inhomog, Tspi)\u001b[0m\n\u001b[0;32m     36\u001b[0m \u001b[1;33m\u001b[0m\u001b[0m\n\u001b[0;32m     37\u001b[0m         \u001b[0mspibulk\u001b[0m\u001b[1;33m,\u001b[0m \u001b[0mspi\u001b[0m\u001b[1;33m,\u001b[0m \u001b[0mr111\u001b[0m\u001b[1;33m,\u001b[0m \u001b[0mn111\u001b[0m\u001b[1;33m,\u001b[0m \u001b[0mU111\u001b[0m\u001b[1;33m,\u001b[0m \u001b[0mt111\u001b[0m \u001b[1;33m=\u001b[0m\u001b[0;31m \u001b[0m\u001b[0;31m\\\u001b[0m\u001b[1;33m\u001b[0m\u001b[0m\n\u001b[1;32m---> 38\u001b[1;33m             \u001b[0mlda0\u001b[0m\u001b[1;33m.\u001b[0m\u001b[0mgetBulkSpi\u001b[0m\u001b[1;33m(\u001b[0m\u001b[0mTspi\u001b[0m\u001b[1;33m=\u001b[0m\u001b[0mTspi\u001b[0m\u001b[1;33m,\u001b[0m \u001b[0minhomog\u001b[0m\u001b[1;33m=\u001b[0m\u001b[0mSpi_inhomog\u001b[0m\u001b[1;33m)\u001b[0m\u001b[1;33m\u001b[0m\u001b[0m\n\u001b[0m\u001b[0;32m     39\u001b[0m \u001b[1;33m\u001b[0m\u001b[0m\n\u001b[0;32m     40\u001b[0m         spis.append( {'SpiBulk':spibulk,\\\n",
        "\u001b[1;32m/home/pmd/sandbox/hubbard-lda/lda.pyc\u001b[0m in \u001b[0;36mgetBulkSpi\u001b[1;34m(self, **kwargs)\u001b[0m\n\u001b[0;32m    601\u001b[0m \u001b[1;33m\u001b[0m\u001b[0m\n\u001b[0;32m    602\u001b[0m         spibulk, spi =  qmc_spi.spi_bulk( r111, n111, Tspi, \\\n\u001b[1;32m--> 603\u001b[1;33m              self.tunneling_111, self.onsite_111, **kwargs ) \n\u001b[0m\u001b[0;32m    604\u001b[0m \u001b[1;33m\u001b[0m\u001b[0m\n\u001b[0;32m    605\u001b[0m         \u001b[0mU111\u001b[0m \u001b[1;33m=\u001b[0m \u001b[0mself\u001b[0m\u001b[1;33m.\u001b[0m\u001b[0monsite_111\u001b[0m \u001b[1;33m/\u001b[0m \u001b[0mself\u001b[0m\u001b[1;33m.\u001b[0m\u001b[0mtunneling_111\u001b[0m\u001b[1;33m\u001b[0m\u001b[0m\n",
        "\u001b[1;32m/home/pmd/sandbox/hubbard-lda/qmc_spi.pyc\u001b[0m in \u001b[0;36mspi_bulk\u001b[1;34m(r111, n111, T, t111, U111, **kwargs)\u001b[0m\n\u001b[0;32m     63\u001b[0m             \u001b[1;33m+\u001b[0m \u001b[1;34m'$(T/t)_{{0}}={:0.2f}$,\\ $n={:.2f}$'\u001b[0m\u001b[1;33m.\u001b[0m\u001b[0mformat\u001b[0m\u001b[1;33m(\u001b[0m\u001b[0mTval\u001b[0m\u001b[1;33m,\u001b[0m\u001b[0mn\u001b[0m\u001b[1;33m)\u001b[0m \u001b[1;33m+\u001b[0m \u001b[1;34m'\\n'\u001b[0m\u001b[1;33m\u001b[0m\u001b[0m\n\u001b[0;32m     64\u001b[0m         result = qmc.find_closest_qmc( U=Uval, T=Tval, n=n, \\\n\u001b[1;32m---> 65\u001b[1;33m                               title_text = title_text)\n\u001b[0m\u001b[0;32m     66\u001b[0m         \u001b[1;32mif\u001b[0m \u001b[0mresult\u001b[0m \u001b[1;32mis\u001b[0m \u001b[0mNone\u001b[0m\u001b[1;33m:\u001b[0m\u001b[1;33m\u001b[0m\u001b[0m\n\u001b[0;32m     67\u001b[0m             \u001b[1;32mprint\u001b[0m \u001b[1;34m\"Had problems finding Spi for \"\u001b[0m \u001b[1;33m+\u001b[0m\u001b[0;31m \u001b[0m\u001b[0;31m \u001b[0m\u001b[0;31m\\\u001b[0m\u001b[1;33m\u001b[0m\u001b[0m\n",
        "\u001b[1;32m/home/pmd/sandbox/hubbard-lda/qmc.py\u001b[0m in \u001b[0;36mfind_closest_qmc\u001b[1;34m(U, T, n, **kwargs)\u001b[0m\n\u001b[0;32m    136\u001b[0m \u001b[1;33m\u001b[0m\u001b[0m\n\u001b[0;32m    137\u001b[0m                 \u001b[1;31m# since the densities are ordered we can do:\u001b[0m\u001b[1;33m\u001b[0m\u001b[1;33m\u001b[0m\u001b[0m\n\u001b[1;32m--> 138\u001b[1;33m                 \u001b[0mindex0\u001b[0m \u001b[1;33m=\u001b[0m \u001b[0mnp\u001b[0m\u001b[1;33m.\u001b[0m\u001b[0mwhere\u001b[0m\u001b[1;33m(\u001b[0m \u001b[0mdensdat\u001b[0m \u001b[1;33m<=\u001b[0m \u001b[0mn\u001b[0m \u001b[1;33m)\u001b[0m\u001b[1;33m[\u001b[0m\u001b[1;36m0\u001b[0m\u001b[1;33m]\u001b[0m\u001b[1;33m[\u001b[0m\u001b[1;33m-\u001b[0m\u001b[1;36m1\u001b[0m\u001b[1;33m]\u001b[0m\u001b[1;33m\u001b[0m\u001b[0m\n\u001b[0m\u001b[0;32m    139\u001b[0m                 \u001b[0mindex1\u001b[0m \u001b[1;33m=\u001b[0m \u001b[0mnp\u001b[0m\u001b[1;33m.\u001b[0m\u001b[0mwhere\u001b[0m\u001b[1;33m(\u001b[0m \u001b[0mdensdat\u001b[0m \u001b[1;33m>\u001b[0m  \u001b[0mn\u001b[0m \u001b[1;33m)\u001b[0m\u001b[1;33m[\u001b[0m\u001b[1;36m0\u001b[0m\u001b[1;33m]\u001b[0m\u001b[1;33m[\u001b[0m\u001b[1;36m0\u001b[0m\u001b[1;33m]\u001b[0m\u001b[1;33m\u001b[0m\u001b[0m\n\u001b[0;32m    140\u001b[0m \u001b[1;33m\u001b[0m\u001b[0m\n",
        "\u001b[1;31mIndexError\u001b[0m: index -1 is out of bounds for axis 0 with size 0"
       ]
      }
     ],
     "prompt_number": 1
    },
    {
     "cell_type": "code",
     "collapsed": false,
     "input": [],
     "language": "python",
     "metadata": {},
     "outputs": []
    }
   ],
   "metadata": {}
  }
 ]
}