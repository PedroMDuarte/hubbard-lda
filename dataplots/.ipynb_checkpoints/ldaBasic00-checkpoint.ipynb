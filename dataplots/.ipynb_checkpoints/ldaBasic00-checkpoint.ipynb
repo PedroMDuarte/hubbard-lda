{
 "metadata": {
  "name": "",
  "signature": "sha256:05e846d08f5ed2500c78fa80bbacaedebb247f8a64b6c4eeac74376cedb8844b"
 },
 "nbformat": 3,
 "nbformat_minor": 0,
 "worksheets": [
  {
   "cells": [
    {
     "cell_type": "code",
     "collapsed": false,
     "input": [
      "import sys\n",
      "sys.path.append('/home/pmd/sandbox/hubbard-lda/')\n",
      "\n",
      "import scubic\n",
      "import lda\n",
      "    \n",
      "\n",
      "profs = [ \n",
      "        #3\n",
      "        {'wIR':47.,\\\n",
      "         'wGR':47./1.175,\\\n",
      "         'g0':3.666,\\\n",
      "         's0':7.,\\\n",
      "         'extents':35.,\\\n",
      "         'T':0.095,\\\n",
      "         'aS':380.,\\\n",
      "         'mu0':'halfMott',\\\n",
      "         'direc':'111'\n",
      "        },\n",
      "        ]\n",
      "\n",
      "\n",
      "\n",
      "tags = range(len(profs)) \n",
      "outs = [] \n",
      "\n",
      "for tag in tags:\n",
      "    print '\\n',tag\n",
      "    \n",
      "    s       = profs[tag]['s0']\n",
      "    g       = profs[tag]['g0']\n",
      "    wIR     = profs[tag]['wIR']\n",
      "    wGR     = profs[tag]['wGR']\n",
      "    T       = profs[tag]['T'] \n",
      "    extents = profs[tag]['extents']\n",
      "    direc   = profs[tag]['direc'] \n",
      "    aS      = profs[tag].get('aS',650.)\n",
      "    mu0     = profs[tag].get('mu0','halfMott')\n",
      "    x2lims  = profs[tag].get('x2lims', (-40.,40.))\n",
      "    y2lims  = profs[tag].get('y2lims', (0.,1.3))\n",
      "    \n",
      "    pot = scubic.sc(allIR=s, allGR=g, allIRw=wIR, allGRw=wGR)\n",
      "    \n",
      "    lda0 = lda.lda(potential = pot, Temperature=T, a_s=aS, extents=extents, globalMu=mu0, verbose=True, \\\n",
      "                   ignoreExtents=False, ignoreSlopeErrors=True, ignoreMuThreshold=True)\n",
      "    \n",
      "    # Figure to chech inhomogeneity\n",
      "    fig111, binresult, peak_dens, radius1e, peak_t, output = lda.CheckInhomog( lda0, closefig = True ) ;\n",
      "    fig111.savefig('Basic00/%03d.png'%tag, dpi=300)\n",
      "    \n",
      "    outs.append( (aS, output, binresult))\n"
     ],
     "language": "python",
     "metadata": {},
     "outputs": [
      {
       "ename": "IOError",
       "evalue": "[Errno 2] No such file or directory: 'banddat/interpdat_B1D_v0.dat'",
       "output_type": "pyerr",
       "traceback": [
        "\u001b[1;31m---------------------------------------------------------------------------\u001b[0m\n\u001b[1;31mIOError\u001b[0m                                   Traceback (most recent call last)",
        "\u001b[1;32m<ipython-input-3-f6df98171e88>\u001b[0m in \u001b[0;36m<module>\u001b[1;34m()\u001b[0m\n\u001b[0;32m      2\u001b[0m \u001b[0msys\u001b[0m\u001b[1;33m.\u001b[0m\u001b[0mpath\u001b[0m\u001b[1;33m.\u001b[0m\u001b[0mappend\u001b[0m\u001b[1;33m(\u001b[0m\u001b[1;34m'/home/pmd/sandbox/hubbard-lda/'\u001b[0m\u001b[1;33m)\u001b[0m\u001b[1;33m\u001b[0m\u001b[0m\n\u001b[0;32m      3\u001b[0m \u001b[1;33m\u001b[0m\u001b[0m\n\u001b[1;32m----> 4\u001b[1;33m \u001b[1;32mimport\u001b[0m \u001b[0mscubic\u001b[0m\u001b[1;33m\u001b[0m\u001b[0m\n\u001b[0m\u001b[0;32m      5\u001b[0m \u001b[1;32mimport\u001b[0m \u001b[0mlda\u001b[0m\u001b[1;33m\u001b[0m\u001b[0m\n\u001b[0;32m      6\u001b[0m \u001b[1;33m\u001b[0m\u001b[0m\n",
        "\u001b[1;32m/home/pmd/sandbox/hubbard-lda/scubic.py\u001b[0m in \u001b[0;36m<module>\u001b[1;34m()\u001b[0m\n\u001b[0;32m     25\u001b[0m \u001b[1;33m\u001b[0m\u001b[0m\n\u001b[0;32m     26\u001b[0m \u001b[1;31m# Load the interpolation data for band structure\u001b[0m\u001b[1;33m\u001b[0m\u001b[1;33m\u001b[0m\u001b[0m\n\u001b[1;32m---> 27\u001b[1;33m \u001b[0mv0\u001b[0m \u001b[1;33m=\u001b[0m \u001b[0mnp\u001b[0m\u001b[1;33m.\u001b[0m\u001b[0mloadtxt\u001b[0m\u001b[1;33m(\u001b[0m\u001b[1;34m'banddat/interpdat_B1D_v0.dat'\u001b[0m\u001b[1;33m)\u001b[0m\u001b[1;33m\u001b[0m\u001b[0m\n\u001b[0m\u001b[0;32m     28\u001b[0m \u001b[0mNBands\u001b[0m \u001b[1;33m=\u001b[0m \u001b[1;36m3\u001b[0m\u001b[1;33m\u001b[0m\u001b[0m\n\u001b[0;32m     29\u001b[0m \u001b[1;32mfrom\u001b[0m \u001b[0mscipy\u001b[0m\u001b[1;33m.\u001b[0m\u001b[0minterpolate\u001b[0m \u001b[1;32mimport\u001b[0m \u001b[0minterp1d\u001b[0m\u001b[1;33m\u001b[0m\u001b[0m\n",
        "\u001b[1;32m/usr/lib/python2.7/dist-packages/numpy/lib/npyio.pyc\u001b[0m in \u001b[0;36mloadtxt\u001b[1;34m(fname, dtype, comments, delimiter, converters, skiprows, usecols, unpack, ndmin)\u001b[0m\n\u001b[0;32m    713\u001b[0m                 \u001b[0mfh\u001b[0m \u001b[1;33m=\u001b[0m \u001b[0miter\u001b[0m\u001b[1;33m(\u001b[0m\u001b[0mbz2\u001b[0m\u001b[1;33m.\u001b[0m\u001b[0mBZ2File\u001b[0m\u001b[1;33m(\u001b[0m\u001b[0mfname\u001b[0m\u001b[1;33m)\u001b[0m\u001b[1;33m)\u001b[0m\u001b[1;33m\u001b[0m\u001b[0m\n\u001b[0;32m    714\u001b[0m             \u001b[1;32melse\u001b[0m\u001b[1;33m:\u001b[0m\u001b[1;33m\u001b[0m\u001b[0m\n\u001b[1;32m--> 715\u001b[1;33m                 \u001b[0mfh\u001b[0m \u001b[1;33m=\u001b[0m \u001b[0miter\u001b[0m\u001b[1;33m(\u001b[0m\u001b[0mopen\u001b[0m\u001b[1;33m(\u001b[0m\u001b[0mfname\u001b[0m\u001b[1;33m,\u001b[0m \u001b[1;34m'U'\u001b[0m\u001b[1;33m)\u001b[0m\u001b[1;33m)\u001b[0m\u001b[1;33m\u001b[0m\u001b[0m\n\u001b[0m\u001b[0;32m    716\u001b[0m         \u001b[1;32melse\u001b[0m\u001b[1;33m:\u001b[0m\u001b[1;33m\u001b[0m\u001b[0m\n\u001b[0;32m    717\u001b[0m             \u001b[0mfh\u001b[0m \u001b[1;33m=\u001b[0m \u001b[0miter\u001b[0m\u001b[1;33m(\u001b[0m\u001b[0mfname\u001b[0m\u001b[1;33m)\u001b[0m\u001b[1;33m\u001b[0m\u001b[0m\n",
        "\u001b[1;31mIOError\u001b[0m: [Errno 2] No such file or directory: 'banddat/interpdat_B1D_v0.dat'"
       ]
      }
     ],
     "prompt_number": 3
    },
    {
     "cell_type": "code",
     "collapsed": false,
     "input": [],
     "language": "python",
     "metadata": {},
     "outputs": []
    }
   ],
   "metadata": {}
  }
 ]
}