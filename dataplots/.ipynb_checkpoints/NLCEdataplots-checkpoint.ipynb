{
 "metadata": {
  "name": "",
  "signature": "sha256:21d7e9db139a3ae8502db95a838d651f91cf80241545d217094064087117c63d"
 },
 "nbformat": 3,
 "nbformat_minor": 0,
 "worksheets": [
  {
   "cells": [
    {
     "cell_type": "markdown",
     "metadata": {},
     "source": [
      "## Ehsan's data is included in one file per U value.  Here I will divide it up, so that loading files from disk becomes less expensive"
     ]
    },
    {
     "cell_type": "markdown",
     "metadata": {},
     "source": [
      "It takes about 1 second to load up Ehsan's full data file"
     ]
    },
    {
     "cell_type": "code",
     "collapsed": false,
     "input": [
      "%%timeit\n",
      "\n",
      "b = np.loadtxt('../NLCE8_AvgExtrp/U08/Fixed.dat')"
     ],
     "language": "python",
     "metadata": {},
     "outputs": [
      {
       "output_type": "stream",
       "stream": "stdout",
       "text": [
        "1 loops, best of 3: 979 ms per loop\n"
       ]
      }
     ],
     "prompt_number": 38
    },
    {
     "cell_type": "code",
     "collapsed": false,
     "input": [
      "b = np.loadtxt('../NLCE8_AvgExtrp/U08/Fixed.dat')\n",
      "print b.shape"
     ],
     "language": "python",
     "metadata": {},
     "outputs": [
      {
       "output_type": "stream",
       "stream": "stdout",
       "text": [
        "(41250, 32)\n"
       ]
      }
     ],
     "prompt_number": 45
    },
    {
     "cell_type": "markdown",
     "metadata": {},
     "source": [
      "A file is created for each available T/t so that the data can be loaded more quickly"
     ]
    },
    {
     "cell_type": "code",
     "collapsed": false,
     "input": [
      "for i in range(0,31,2):\n",
      "    data = np.loadtxt('../NLCE8_AvgExtrp/U{:02d}/Fixed.dat'.format(i) )\n",
      "    Ts = np.unique(data[:,1])\n",
      "    for T in Ts:\n",
      "        Tdata = data[ data[:,1] == T ]\n",
      "        # Some files are corrupted in that at mu=U/2 n!=1,  these points are removed\n",
      "        muhalf = np.where( Tdata[:,0] == i/2. ) [0][0]\n",
      "        if Tdata[muhalf,8] != 1.0:\n",
      "            print \"U={:02d} mu=U/2 corrupted.\".format(i)\n",
      "            np.savetxt( '../NLCE8_All/U{:02d}/T{:.2f}.dat'.format(i,T), \\\n",
      "                       Tdata[range(1,muhalf) + range(muhalf+1,len(Tdata))], fmt='%.3g')\n",
      "        else:\n",
      "            np.savetxt( '../NLCE8_All/U{:02d}/T{:.2f}.dat'.format(i,T), Tdata, fmt='%.3g')\n",
      "    "
     ],
     "language": "python",
     "metadata": {},
     "outputs": [
      {
       "output_type": "stream",
       "stream": "stdout",
       "text": [
        "U=12 mu=U/2 corrupted.\n",
        "U=12 mu=U/2 corrupted.\n",
        "U=12 mu=U/2 corrupted."
       ]
      },
      {
       "output_type": "stream",
       "stream": "stdout",
       "text": [
        "\n",
        "U=12 mu=U/2 corrupted.\n",
        "U=12 mu=U/2 corrupted."
       ]
      },
      {
       "output_type": "stream",
       "stream": "stdout",
       "text": [
        "\n",
        "U=12 mu=U/2 corrupted.\n",
        "U=12 mu=U/2 corrupted."
       ]
      },
      {
       "output_type": "stream",
       "stream": "stdout",
       "text": [
        "\n",
        "U=12 mu=U/2 corrupted."
       ]
      },
      {
       "output_type": "stream",
       "stream": "stdout",
       "text": [
        "\n",
        "U=26 mu=U/2 corrupted."
       ]
      },
      {
       "output_type": "stream",
       "stream": "stdout",
       "text": [
        "\n",
        "U=26 mu=U/2 corrupted.\n",
        "U=26 mu=U/2 corrupted."
       ]
      },
      {
       "output_type": "stream",
       "stream": "stdout",
       "text": [
        "\n",
        "U=26 mu=U/2 corrupted.\n",
        "U=26 mu=U/2 corrupted."
       ]
      },
      {
       "output_type": "stream",
       "stream": "stdout",
       "text": [
        "\n",
        "U=26 mu=U/2 corrupted."
       ]
      },
      {
       "output_type": "stream",
       "stream": "stdout",
       "text": [
        "\n",
        "U=26 mu=U/2 corrupted.\n",
        "U=26 mu=U/2 corrupted."
       ]
      },
      {
       "output_type": "stream",
       "stream": "stdout",
       "text": [
        "\n",
        "U=28 mu=U/2 corrupted."
       ]
      },
      {
       "output_type": "stream",
       "stream": "stdout",
       "text": [
        "\n",
        "U=28 mu=U/2 corrupted.\n",
        "U=28 mu=U/2 corrupted."
       ]
      },
      {
       "output_type": "stream",
       "stream": "stdout",
       "text": [
        "\n",
        "U=28 mu=U/2 corrupted.\n",
        "U=28 mu=U/2 corrupted.\n",
        "U=28 mu=U/2 corrupted."
       ]
      },
      {
       "output_type": "stream",
       "stream": "stdout",
       "text": [
        "\n",
        "U=28 mu=U/2 corrupted.\n",
        "U=28 mu=U/2 corrupted."
       ]
      },
      {
       "output_type": "stream",
       "stream": "stdout",
       "text": [
        "\n",
        "U=28 mu=U/2 corrupted.\n",
        "U=28 mu=U/2 corrupted."
       ]
      },
      {
       "output_type": "stream",
       "stream": "stdout",
       "text": [
        "\n",
        "U=28 mu=U/2 corrupted.\n",
        "U=28 mu=U/2 corrupted."
       ]
      },
      {
       "output_type": "stream",
       "stream": "stdout",
       "text": [
        "\n",
        "U=28 mu=U/2 corrupted.\n",
        "U=28 mu=U/2 corrupted."
       ]
      },
      {
       "output_type": "stream",
       "stream": "stdout",
       "text": [
        "\n",
        "U=28 mu=U/2 corrupted.\n",
        "U=28 mu=U/2 corrupted."
       ]
      },
      {
       "output_type": "stream",
       "stream": "stdout",
       "text": [
        "\n",
        "U=28 mu=U/2 corrupted."
       ]
      },
      {
       "output_type": "stream",
       "stream": "stdout",
       "text": [
        "\n",
        "U=28 mu=U/2 corrupted.\n",
        "U=28 mu=U/2 corrupted."
       ]
      },
      {
       "output_type": "stream",
       "stream": "stdout",
       "text": [
        "\n",
        "U=28 mu=U/2 corrupted.\n"
       ]
      }
     ],
     "prompt_number": 206
    },
    {
     "cell_type": "markdown",
     "metadata": {},
     "source": [
      "With the smaller files it takes 40 ms to load each data file"
     ]
    },
    {
     "cell_type": "code",
     "collapsed": false,
     "input": [
      "%%timeit\n",
      "\n",
      "b = np.loadtxt('../NLCE8_AvgExtrp/U08/T0.40.dat')"
     ],
     "language": "python",
     "metadata": {},
     "outputs": [
      {
       "output_type": "stream",
       "stream": "stdout",
       "text": [
        "10 loops, best of 3: 39.9 ms per loop\n"
       ]
      }
     ],
     "prompt_number": 42
    },
    {
     "cell_type": "code",
     "collapsed": false,
     "input": [
      "b = np.loadtxt('../NLCE8_AvgExtrp/U08/T0.40.dat')\n",
      "print b.shape"
     ],
     "language": "python",
     "metadata": {},
     "outputs": [
      {
       "output_type": "stream",
       "stream": "stdout",
       "text": [
        "(1250, 32)\n"
       ]
      }
     ],
     "prompt_number": 44
    },
    {
     "cell_type": "markdown",
     "metadata": {},
     "source": [
      "We also make smaller files for the NLCE data that has not been extrapolated.   The extrapolated data includes temperatres from 0.4 to 1.4 whereas the non-extrapolated data goes from 1.6 to 24.   For the non-extrapolated data with add dummy error columns so that the format is the same as in the extrapolated data files "
     ]
    },
    {
     "cell_type": "code",
     "collapsed": false,
     "input": [
      "for i in range(0,31,2):\n",
      "    fname = '../NLCE8/U{U:02d}/3DHubb_U{U:02d}_NLCE_Order8_Bare.dat'.format(U=i) \n",
      "    print fname \n",
      "    data = np.loadtxt(fname )\n",
      "    Ts = np.unique(data[:,1])\n",
      "    for T in Ts:\n",
      "        Tdata = data[ data[:,1] == T ]\n",
      "        witherrs = np.empty( (Tdata.shape[0], 32 ))\n",
      "        witherrs[:,0] = Tdata[:,0]\n",
      "        witherrs[:,1] = Tdata[:,1]\n",
      "        j=2\n",
      "        for col in range(2,12,1):\n",
      "            witherrs[:,j] = Tdata[:,col]\n",
      "            witherrs[:,j+1] = np.zeros_like( Tdata[:,col])\n",
      "            witherrs[:,j+2] = np.zeros_like( Tdata[:,col])\n",
      "            j = j + 3 \n",
      "        #print Tdata[0]\n",
      "        #print witherrs[0]    \n",
      "        np.savetxt( '../NLCE8_All/U{:02d}/T{:.2f}.dat'.format(i,T), witherrs, fmt='%.3g')"
     ],
     "language": "python",
     "metadata": {},
     "outputs": [
      {
       "output_type": "stream",
       "stream": "stdout",
       "text": [
        "../NLCE8/U00/3DHubb_U00_NLCE_Order8_Bare.dat\n",
        "../NLCE8/U02/3DHubb_U02_NLCE_Order8_Bare.dat"
       ]
      },
      {
       "output_type": "stream",
       "stream": "stdout",
       "text": [
        "\n",
        "../NLCE8/U04/3DHubb_U04_NLCE_Order8_Bare.dat"
       ]
      },
      {
       "output_type": "stream",
       "stream": "stdout",
       "text": [
        "\n",
        "../NLCE8/U06/3DHubb_U06_NLCE_Order8_Bare.dat"
       ]
      },
      {
       "output_type": "stream",
       "stream": "stdout",
       "text": [
        "\n",
        "../NLCE8/U08/3DHubb_U08_NLCE_Order8_Bare.dat"
       ]
      },
      {
       "output_type": "stream",
       "stream": "stdout",
       "text": [
        "\n",
        "../NLCE8/U10/3DHubb_U10_NLCE_Order8_Bare.dat"
       ]
      },
      {
       "output_type": "stream",
       "stream": "stdout",
       "text": [
        "\n",
        "../NLCE8/U12/3DHubb_U12_NLCE_Order8_Bare.dat"
       ]
      },
      {
       "output_type": "stream",
       "stream": "stdout",
       "text": [
        "\n",
        "../NLCE8/U14/3DHubb_U14_NLCE_Order8_Bare.dat"
       ]
      },
      {
       "output_type": "stream",
       "stream": "stdout",
       "text": [
        "\n",
        "../NLCE8/U16/3DHubb_U16_NLCE_Order8_Bare.dat"
       ]
      },
      {
       "output_type": "stream",
       "stream": "stdout",
       "text": [
        "\n",
        "../NLCE8/U18/3DHubb_U18_NLCE_Order8_Bare.dat"
       ]
      },
      {
       "output_type": "stream",
       "stream": "stdout",
       "text": [
        "\n",
        "../NLCE8/U20/3DHubb_U20_NLCE_Order8_Bare.dat"
       ]
      },
      {
       "output_type": "stream",
       "stream": "stdout",
       "text": [
        "\n",
        "../NLCE8/U22/3DHubb_U22_NLCE_Order8_Bare.dat"
       ]
      },
      {
       "output_type": "stream",
       "stream": "stdout",
       "text": [
        "\n",
        "../NLCE8/U24/3DHubb_U24_NLCE_Order8_Bare.dat"
       ]
      },
      {
       "output_type": "stream",
       "stream": "stdout",
       "text": [
        "\n",
        "../NLCE8/U26/3DHubb_U26_NLCE_Order8_Bare.dat"
       ]
      },
      {
       "output_type": "stream",
       "stream": "stdout",
       "text": [
        "\n",
        "../NLCE8/U28/3DHubb_U28_NLCE_Order8_Bare.dat"
       ]
      },
      {
       "output_type": "stream",
       "stream": "stdout",
       "text": [
        "\n",
        "../NLCE8/U30/3DHubb_U30_NLCE_Order8_Bare.dat"
       ]
      },
      {
       "output_type": "stream",
       "stream": "stdout",
       "text": [
        "\n"
       ]
      }
     ],
     "prompt_number": 193
    },
    {
     "cell_type": "markdown",
     "metadata": {},
     "source": [
      "## Below is a breakdown of the columns available in Ehsan's data files"
     ]
    },
    {
     "cell_type": "code",
     "collapsed": false,
     "input": [
      "\n",
      "# Mu,   T,   <H>, err+, err-,   <H^2>-<H>^2, err+, err-,   <N>, err+, err-,   <N^2>-<N>^2, err+, err-,   \n",
      "# <S_z^2>-<S_z>^2, err+, err-,   Entropy, err+, err-,   Cv, err+, err-,   <n_up n_dn>, err+, err-,  \n",
      "#<Si Si+x>, err+, err-,   AF Struc. Factor, err+, err-\n",
      "\n",
      "# Columns in Ehsans AvgExtrp data\n",
      "\n",
      "datacols = [\n",
      "'mu', 'T', \\\n",
      "'H', 'Herr+', 'Herr-', \\\n",
      "'Var(H)', 'Var(H)err+', 'Var(H)err-', \\\n",
      "'N', 'Nerr+', 'Nerr-', \\\n",
      "'Var(N)', 'Var(N)err+', 'Var(N)err-', \\\n",
      "'Var(Sz)', 'Var(Sz)err+', 'Var(Sz)err-', \\\n",
      "'S', 'Serr+', 'Serr-', \\\n",
      "'Cv', 'Cverr+', 'Cverr-',\\\n",
      "'nup_ndn_', 'nup_ndn_err+', 'nup_ndn_err-',\\\n",
      "'SiSi+x_', 'SiSi+x_err+', 'SiSi+x_err-',\\\n",
      "'AF', 'AFerr+', 'AFerr-' \n",
      "]\n",
      "\n",
      "# important column values \n",
      "\n",
      "# chem pot    = 0 \n",
      "# temperature = 1 \n",
      "# density     = 8 \n",
      "# entropy     = 17 \n",
      "# Spi         = 29 \n",
      "\n",
      "\n",
      "\n",
      "# Mu,   T,   <H>,   <H^2>-<H>^2,   <N>,   <N^2>-<N>^2,   <S_z^2>-<S_z>^2,   \n",
      "# Entropy,   Cv,   <n_up n_dn>,   <Si Si+x>,   AF Struc. Factor\n",
      "\n",
      "# Columns in Ehsans original data\n",
      "\n",
      "datacols = [\n",
      "'mu', 'T', \\\n",
      "'H', 'Var(H)', 'N', 'Var(N)', 'Var(Sz)', \\\n",
      "'S', 'Cv',  'nup_ndn_', 'SiSi+x_', \\\n",
      "'AF' \n",
      "]\n",
      "\n"
     ],
     "language": "python",
     "metadata": {},
     "outputs": [],
     "prompt_number": 92
    },
    {
     "cell_type": "markdown",
     "metadata": {},
     "source": [
      "## Next to do is make plots that validate that I have sorted out the data properly "
     ]
    },
    {
     "cell_type": "code",
     "collapsed": false,
     "input": [
      "from matplotlib import rc\n",
      "rc('font', **{'family':'serif'})\n",
      "rc('text', usetex=True)\n",
      "\n",
      "fig = plt.figure(figsize=(9.,4.))\n",
      "gs = matplotlib .gridspec.GridSpec(1,2)\n",
      "ax0 = fig.add_subplot( gs[0] )\n",
      "ax1 = fig.add_subplot( gs[1] )\n",
      "\n",
      "MUCOL = 0\n",
      "DENSCOL = 8\n",
      "SPICOL = 29\n",
      "\n",
      "Tval = 1.0\n",
      "\n",
      "for Uval in range(0,31,2):\n",
      "    fname =  '../NLCE8_All/U{:02d}/T{:0.2f}.dat'.format(int(Uval),Tval)\n",
      "    dat = np.loadtxt(fname)\n",
      "    \n",
      "    ax0.plot( dat[:,MUCOL], dat[:,DENSCOL])\n",
      "    ax1.plot( dat[:,DENSCOL], dat[:,SPICOL])\n",
      "    \n",
      "ax0.set_ylim(-0.2, 2.2) \n",
      "ax0.set_xlim(-30.,40)"
     ],
     "language": "python",
     "metadata": {},
     "outputs": [
      {
       "metadata": {},
       "output_type": "pyout",
       "prompt_number": 133,
       "text": [
        "(-30.0, 40)"
       ]
      },
      {
       "metadata": {},
       "output_type": "display_data",
       "png": "[encoded data removed]",
       "text": [
        "<matplotlib.figure.Figure at 0xd0b7eac>"
       ]
      }
     ],
     "prompt_number": 133
    },
    {
     "cell_type": "markdown",
     "metadata": {},
     "source": [
      "Below I have a cell that can be used to inspect a data set in more detail"
     ]
    },
    {
     "cell_type": "code",
     "collapsed": false,
     "input": [
      "Uval = 28\n",
      "Tval = 0.4 \n",
      "fname =  '../NLCE8_All/U{:02d}/T{:0.2f}.dat'.format(int(Uval),Tval)\n",
      "dat = np.loadtxt(fname)\n",
      "\n",
      "print dat.shape\n",
      "\n",
      "#threshold = 200000\n",
      "threshold = 1000 \n",
      "\n",
      "np.set_printoptions(precision=3, threshold=threshold)\n",
      "\n",
      "print dat[:,(0,8,17,29)]"
     ],
     "language": "python",
     "metadata": {},
     "outputs": [
      {
       "output_type": "stream",
       "stream": "stdout",
       "text": [
        "(1248, 32)\n",
        "[[ -2.490e+01   6.360e-24  -8.750e+00   6.360e-24]\n",
        " [ -2.480e+01   8.170e-24  -8.750e+00   8.170e-24]\n",
        " [ -2.470e+01   1.050e-23  -8.750e+00   1.050e-23]\n",
        " ..., \n",
        " [  9.970e+01   2.000e+00  -8.750e+00   9.800e-75]\n",
        " [  9.980e+01   2.000e+00  -8.750e+00   7.630e-75]\n",
        " [  9.990e+01   2.000e+00  -8.750e+00   5.940e-75]]\n"
       ]
      }
     ],
     "prompt_number": 1
    },
    {
     "cell_type": "markdown",
     "metadata": {},
     "source": [
      "## The data is sorted out properly, but Ehsan's extrapolated data has a lot of noise in it.    \n",
      "\n",
      "Using a type of low pass filter called Savitzky-Golay filter I was able to smooth out the data and then redefine a data set that makes sense.   The final data set is stored in NLCE8_Final  and can go down to T=0.64.   \n",
      "\n",
      "The cell below takes care of obtaining and saving this final data set. "
     ]
    },
    {
     "cell_type": "code",
     "collapsed": false,
     "input": [
      "from matplotlib import rc\n",
      "rc('font', **{'family':'serif'})\n",
      "rc('text', usetex=True)\n",
      "\n",
      "import sys\n",
      "sys.path.append('../')\n",
      "\n",
      "from savitzky_golay import savitzky_golay\n",
      "\n",
      "for Tval in  [ 0.40, 0.50, 0.64, 0.72, 0.84, 0.9, 1.0, 1.2, 1.4, 1.6, 1.8, 2.0, 2.2, 2.4]:\n",
      "#for Tval in [0.4, 0.50]:\n",
      "\n",
      "    fig = plt.figure(figsize=(15.,10.))\n",
      "    gsA = matplotlib .gridspec.GridSpec(8,3, \\\n",
      "        left=0.04, right=0.48, bottom=0.05, top=0.96)\n",
      "    gsB = matplotlib .gridspec.GridSpec(8,3, \\\n",
      "        left=0.54, right=0.98, bottom=0.05, top=0.96)\n",
      "    axL0 = [ fig.add_subplot( gsA[i,0] ) for i in range(8)] + [ fig.add_subplot( gsB[i,0] ) for i in range(8)]\n",
      "    axL1 = [ fig.add_subplot( gsA[i,1] ) for i in range(8)] + [ fig.add_subplot( gsB[i,1] ) for i in range(8)]\n",
      "    axL2 = [ fig.add_subplot( gsA[i,2] ) for i in range(8)] + [ fig.add_subplot( gsB[i,2] ) for i in range(8)]\n",
      "\n",
      "    MUCOL = 0\n",
      "    DENSCOL = 8\n",
      "    ENTRCOL = 17 \n",
      "    SPICOL = 29\n",
      "\n",
      "    for i,Uval in enumerate(range(0,31,2)):\n",
      "\n",
      "        ax0 = axL0[i]\n",
      "        ax1 = axL1[i]\n",
      "        ax2 = axL2[i]\n",
      "\n",
      "        fname =  '../NLCE8_All/U{:02d}/T{:0.2f}.dat'.format(int(Uval),Tval)\n",
      "        dat = np.loadtxt(fname)\n",
      "        # plot the unfiltered data\n",
      "        ax0.plot( dat[:,MUCOL], dat[:,DENSCOL], color='k', alpha=0.3)\n",
      "        ax1.plot( dat[:,DENSCOL], dat[:,ENTRCOL], color='k', alpha=0.3)\n",
      "        ax2.plot( dat[:,DENSCOL], dat[:,SPICOL], color='k', alpha=0.3)\n",
      "\n",
      "        # compute the filtered out density \n",
      "        \n",
      "        y = dat[:,DENSCOL]\n",
      "        subset = np.logical_and( y>=0., y<=2. )\n",
      "        mu = dat[:,MUCOL][subset]\n",
      "        \n",
      "        \n",
      "        GOLAYWINDOW_Spi = 21\n",
      "        GOLAYWINDOW_n = 101\n",
      "        GOLAYWINDOW_s = 101\n",
      "            \n",
      "            \n",
      "        yhat = np.clip(savitzky_golay(y[subset], GOLAYWINDOW_n, 3), 0., 2.) \n",
      "        #ax0.plot( mu, yhat)\n",
      "        \n",
      "        #print\n",
      "        #print yhat.shape\n",
      "                \n",
      "        # compute the filtered out entropy\n",
      "        yENTR = dat[:,ENTRCOL][subset]\n",
      "        ySPI = dat[:,SPICOL][subset]\n",
      "        \n",
      "        # the entropy has a lot of spurious data that needs to be removed \n",
      "        # but removing too much of it can cause important density points \n",
      "        # to be removed \n",
      "        sub1 = ~np.logical_or( np.logical_and( mu < -15., np.abs(yENTR) > 0.01 ) , \\\n",
      "                    np.logical_and( mu > max(2.*Uval * np.sqrt(Tval/0.4), 10.*np.sqrt(Tval/0.4)), \\\n",
      "                                              np.abs(yENTR) > 0.01 ) ) \n",
      "        sub2 = np.logical_and( yENTR <  1.2,  yENTR>=0.) \n",
      "        \n",
      "        # some points are removed that have very negative Spi \n",
      "        # and also points that are more than 1.2 times lareger than Spi at n=1 \n",
      "        near_n1 =  ySPI[ np.where( np.abs( yhat - 1.0) < 0.01 )]\n",
      "        if len(near_n1) > 1:\n",
      "            spi0 = near_n1[ len(near_n1)/2]\n",
      "        else:\n",
      "            spi0 = np.mean(near_n1)\n",
      "        # removal :\n",
      "        sub3 = np.logical_and( ySPI > -0.1 , ySPI < spi0 * 1.05) \n",
      "        \n",
      "        sub =  np.logical_and( np.logical_and(sub1, sub2), sub3) \n",
      "        \n",
      "        # plot the following raw entropies for diagnosis\n",
      "        ax0.plot( mu, dat[:,ENTRCOL][subset], color='orange', alpha=0.5)\n",
      "        ax0.plot( mu[sub1], dat[:,ENTRCOL][subset][sub1], color='red', alpha=0.5)\n",
      "        ax0.plot( mu[sub], dat[:,ENTRCOL][subset][sub], color='yellow', alpha=0.5)\n",
      "        \n",
      "        \n",
      "        # compute the filtered out entropy\n",
      "        yENTRhat = np.clip( savitzky_golay( yENTR[sub], GOLAYWINDOW_s, 3 ), 0., 10.) \n",
      "        ax1.plot( yhat[sub], yENTRhat)\n",
      "        \n",
      "        ax0.plot( mu[sub], yENTRhat, color='green', alpha=0.8)\n",
      "        \n",
      "        # compute the filtered out spi \n",
      "        ySPIhat = np.clip( savitzky_golay( ySPI[sub], GOLAYWINDOW_Spi, 3 ), 0., 10.)\n",
      "        ax2.plot( yhat[sub], ySPIhat ) \n",
      "        \n",
      "        # plot the following raw spis for diagnosis\n",
      "        #~ax0.plot( mu[sub1], dat[:,SPICOL][subset][sub1], color='red', alpha=0.5)\n",
      "        #~ax0.plot( mu[sub], dat[:,SPICOL][subset][sub], color='yellow', alpha=0.5)\n",
      "        # filtered out spi for dioganosis\n",
      "        #~ax0.plot( mu[sub] , ySPIhat, color='green', alpha=0.8)\n",
      "        \n",
      "        \n",
      "        #print yhat[sub].shape\n",
      "        ax0.plot( mu[sub], yhat[sub])\n",
      "        \n",
      "        # compute Spi/n and force values for low chemical potentials to be Spi/n = 1 \n",
      "        ySPIn = ySPIhat / yhat[sub]\n",
      "        # low chemical potentials is defined as as follows\n",
      "        #  large U  :  n < 0.7\n",
      "        #  small U  :  n < U/12 * 0.4 \n",
      "        denscut = min( Uval/9. * 0.4, 0.6 ) + 0.15 \n",
      "        ySPIn[ yhat[sub] < denscut ] = 1.0 \n",
      "        \n",
      "        if Uval ==0. and Tval <=0.6 : \n",
      "            ySPIn[ np.logical_and( yhat[sub] < 0.4, ySPIn < 0.75)  ] = 1.0\n",
      "        if Uval == 4. and Tval <=0.6 :\n",
      "            ySPIn[ np.logical_and( yhat[sub] < 0.5, ySPIn < 0.85)  ] = 1.0\n",
      "        \n",
      "        \n",
      "        newdat = np.column_stack((mu[sub], yhat[sub], yENTRhat, ySPIhat, ySPIn ))\n",
      "        \n",
      "        # if n<0.8 and Spi/n > 1.4 remove the point \n",
      "        sub4 = np.logical_and(  yhat[sub] < 0.8, ySPIn > 1.4 )\n",
      "        newdat = newdat[~sub4] \n",
      "        \n",
      "        # The new data is saved with a sampling step of 4 to improve speed \n",
      "        np.savetxt('../NLCE8_Final/U{:02d}/T{:.2f}.dat'.format(int(Uval),Tval), \\\n",
      "                   newdat[::4], fmt='%.3g') \n",
      "        \n",
      "\n",
      "        #ax0.set_ylim(-0.2, 2.2) \n",
      "        ax0.set_ylim(-2, 2.2) \n",
      "        ax0.set_xlim(-30.,40)\n",
      "\n",
      "        ax1.set_xlim(0.,2.)\n",
      "        ax1.set_ylim(0., 1.4)\n",
      "\n",
      "        ax2.set_xlim(0.,2.)\n",
      "        ax2.set_ylim(0.,4.0)\n",
      "\n",
      "        ax0.text( 0.05, 0.95, 'U={:02d}'.format(Uval), ha='left', va='top', transform=ax0.transAxes)\n",
      "    fig.savefig('NLCE_Final/filtered_all/T{:04.2f}.png'.format(Tval), dpi=300)\n",
      "    plt.close()"
     ],
     "language": "python",
     "metadata": {},
     "outputs": [
      {
       "output_type": "stream",
       "stream": "stdout",
       "text": [
        "0\n",
        "2"
       ]
      },
      {
       "output_type": "stream",
       "stream": "stdout",
       "text": [
        "\n",
        "2"
       ]
      },
      {
       "output_type": "stream",
       "stream": "stdout",
       "text": [
        "\n",
        "6"
       ]
      },
      {
       "output_type": "stream",
       "stream": "stdout",
       "text": [
        "\n",
        "4"
       ]
      },
      {
       "output_type": "stream",
       "stream": "stdout",
       "text": [
        "\n",
        "2"
       ]
      },
      {
       "output_type": "stream",
       "stream": "stdout",
       "text": [
        "\n",
        "0"
       ]
      },
      {
       "output_type": "stream",
       "stream": "stdout",
       "text": [
        "\n",
        "0"
       ]
      },
      {
       "output_type": "stream",
       "stream": "stdout",
       "text": [
        "\n",
        "0"
       ]
      },
      {
       "output_type": "stream",
       "stream": "stdout",
       "text": [
        "\n",
        "0"
       ]
      },
      {
       "output_type": "stream",
       "stream": "stdout",
       "text": [
        "\n",
        "0"
       ]
      },
      {
       "output_type": "stream",
       "stream": "stdout",
       "text": [
        "\n",
        "0"
       ]
      },
      {
       "output_type": "stream",
       "stream": "stdout",
       "text": [
        "\n",
        "0"
       ]
      },
      {
       "output_type": "stream",
       "stream": "stdout",
       "text": [
        "\n",
        "0"
       ]
      },
      {
       "output_type": "stream",
       "stream": "stdout",
       "text": [
        "\n",
        "0"
       ]
      },
      {
       "output_type": "stream",
       "stream": "stdout",
       "text": [
        "\n",
        "0"
       ]
      },
      {
       "output_type": "stream",
       "stream": "stdout",
       "text": [
        "\n",
        "0"
       ]
      },
      {
       "output_type": "stream",
       "stream": "stdout",
       "text": [
        "\n",
        "0"
       ]
      },
      {
       "output_type": "stream",
       "stream": "stdout",
       "text": [
        "\n",
        "0"
       ]
      },
      {
       "output_type": "stream",
       "stream": "stdout",
       "text": [
        "\n",
        "5"
       ]
      },
      {
       "output_type": "stream",
       "stream": "stdout",
       "text": [
        "\n",
        "6"
       ]
      },
      {
       "output_type": "stream",
       "stream": "stdout",
       "text": [
        "\n",
        "4"
       ]
      },
      {
       "output_type": "stream",
       "stream": "stdout",
       "text": [
        "\n",
        "4"
       ]
      },
      {
       "output_type": "stream",
       "stream": "stdout",
       "text": [
        "\n",
        "0"
       ]
      },
      {
       "output_type": "stream",
       "stream": "stdout",
       "text": [
        "\n",
        "0"
       ]
      },
      {
       "output_type": "stream",
       "stream": "stdout",
       "text": [
        "\n",
        "1"
       ]
      },
      {
       "output_type": "stream",
       "stream": "stdout",
       "text": [
        "\n",
        "0"
       ]
      },
      {
       "output_type": "stream",
       "stream": "stdout",
       "text": [
        "\n",
        "0"
       ]
      },
      {
       "output_type": "stream",
       "stream": "stdout",
       "text": [
        "\n",
        "0"
       ]
      },
      {
       "output_type": "stream",
       "stream": "stdout",
       "text": [
        "\n",
        "0"
       ]
      },
      {
       "output_type": "stream",
       "stream": "stdout",
       "text": [
        "\n",
        "0"
       ]
      },
      {
       "output_type": "stream",
       "stream": "stdout",
       "text": [
        "\n",
        "0\n",
        "0"
       ]
      },
      {
       "output_type": "stream",
       "stream": "stdout",
       "text": [
        "\n",
        "0"
       ]
      },
      {
       "output_type": "stream",
       "stream": "stdout",
       "text": [
        "\n",
        "0"
       ]
      },
      {
       "output_type": "stream",
       "stream": "stdout",
       "text": [
        "\n",
        "4"
       ]
      },
      {
       "output_type": "stream",
       "stream": "stdout",
       "text": [
        "\n",
        "4"
       ]
      },
      {
       "output_type": "stream",
       "stream": "stdout",
       "text": [
        "\n",
        "2"
       ]
      },
      {
       "output_type": "stream",
       "stream": "stdout",
       "text": [
        "\n",
        "2\n",
        "0"
       ]
      },
      {
       "output_type": "stream",
       "stream": "stdout",
       "text": [
        "\n",
        "0"
       ]
      },
      {
       "output_type": "stream",
       "stream": "stdout",
       "text": [
        "\n",
        "0\n",
        "0"
       ]
      },
      {
       "output_type": "stream",
       "stream": "stdout",
       "text": [
        "\n",
        "0\n",
        "0"
       ]
      },
      {
       "output_type": "stream",
       "stream": "stdout",
       "text": [
        "\n",
        "0"
       ]
      },
      {
       "output_type": "stream",
       "stream": "stdout",
       "text": [
        "\n",
        "0\n",
        "0"
       ]
      },
      {
       "output_type": "stream",
       "stream": "stdout",
       "text": [
        "\n",
        "0"
       ]
      },
      {
       "output_type": "stream",
       "stream": "stdout",
       "text": [
        "\n",
        "0\n",
        "0"
       ]
      },
      {
       "output_type": "stream",
       "stream": "stdout",
       "text": [
        "\n",
        "3\n",
        "4"
       ]
      },
      {
       "output_type": "stream",
       "stream": "stdout",
       "text": [
        "\n",
        "1"
       ]
      },
      {
       "output_type": "stream",
       "stream": "stdout",
       "text": [
        "\n",
        "0\n",
        "0"
       ]
      },
      {
       "output_type": "stream",
       "stream": "stdout",
       "text": [
        "\n",
        "0"
       ]
      },
      {
       "output_type": "stream",
       "stream": "stdout",
       "text": [
        "\n",
        "0\n",
        "0"
       ]
      },
      {
       "output_type": "stream",
       "stream": "stdout",
       "text": [
        "\n",
        "0\n",
        "0"
       ]
      },
      {
       "output_type": "stream",
       "stream": "stdout",
       "text": [
        "\n",
        "0\n",
        "0"
       ]
      },
      {
       "output_type": "stream",
       "stream": "stdout",
       "text": [
        "\n",
        "0\n",
        "0"
       ]
      },
      {
       "output_type": "stream",
       "stream": "stdout",
       "text": [
        "\n",
        "0\n",
        "0"
       ]
      },
      {
       "output_type": "stream",
       "stream": "stdout",
       "text": [
        "\n",
        "0\n",
        "0"
       ]
      },
      {
       "output_type": "stream",
       "stream": "stdout",
       "text": [
        "\n",
        "0\n",
        "0"
       ]
      },
      {
       "output_type": "stream",
       "stream": "stdout",
       "text": [
        "\n",
        "0\n",
        "0"
       ]
      },
      {
       "output_type": "stream",
       "stream": "stdout",
       "text": [
        "\n",
        "0\n",
        "0"
       ]
      },
      {
       "output_type": "stream",
       "stream": "stdout",
       "text": [
        "\n",
        "0\n",
        "0"
       ]
      },
      {
       "output_type": "stream",
       "stream": "stdout",
       "text": [
        "\n",
        "0"
       ]
      },
      {
       "output_type": "stream",
       "stream": "stdout",
       "text": [
        "\n",
        "0\n",
        "0"
       ]
      },
      {
       "output_type": "stream",
       "stream": "stdout",
       "text": [
        "\n",
        "0"
       ]
      },
      {
       "output_type": "stream",
       "stream": "stdout",
       "text": [
        "\n",
        "0"
       ]
      },
      {
       "output_type": "stream",
       "stream": "stdout",
       "text": [
        "\n",
        "0\n",
        "0"
       ]
      },
      {
       "output_type": "stream",
       "stream": "stdout",
       "text": [
        "\n",
        "0"
       ]
      },
      {
       "output_type": "stream",
       "stream": "stdout",
       "text": [
        "\n",
        "0\n",
        "0"
       ]
      },
      {
       "output_type": "stream",
       "stream": "stdout",
       "text": [
        "\n",
        "0\n",
        "0"
       ]
      },
      {
       "output_type": "stream",
       "stream": "stdout",
       "text": [
        "\n",
        "0"
       ]
      },
      {
       "output_type": "stream",
       "stream": "stdout",
       "text": [
        "\n",
        "0\n",
        "0"
       ]
      },
      {
       "output_type": "stream",
       "stream": "stdout",
       "text": [
        "\n",
        "0"
       ]
      },
      {
       "output_type": "stream",
       "stream": "stdout",
       "text": [
        "\n",
        "0\n",
        "0"
       ]
      },
      {
       "output_type": "stream",
       "stream": "stdout",
       "text": [
        "\n",
        "0\n",
        "0"
       ]
      },
      {
       "output_type": "stream",
       "stream": "stdout",
       "text": [
        "\n",
        "0"
       ]
      },
      {
       "output_type": "stream",
       "stream": "stdout",
       "text": [
        "\n",
        "0\n",
        "0"
       ]
      },
      {
       "output_type": "stream",
       "stream": "stdout",
       "text": [
        "\n",
        "0\n",
        "0"
       ]
      },
      {
       "output_type": "stream",
       "stream": "stdout",
       "text": [
        "\n",
        "0"
       ]
      },
      {
       "output_type": "stream",
       "stream": "stdout",
       "text": [
        "\n",
        "0\n",
        "0"
       ]
      },
      {
       "output_type": "stream",
       "stream": "stdout",
       "text": [
        "\n",
        "0"
       ]
      },
      {
       "output_type": "stream",
       "stream": "stdout",
       "text": [
        "\n",
        "0\n",
        "0"
       ]
      },
      {
       "output_type": "stream",
       "stream": "stdout",
       "text": [
        "\n",
        "0\n",
        "0"
       ]
      },
      {
       "output_type": "stream",
       "stream": "stdout",
       "text": [
        "\n",
        "0"
       ]
      },
      {
       "output_type": "stream",
       "stream": "stdout",
       "text": [
        "\n",
        "0\n",
        "0"
       ]
      },
      {
       "output_type": "stream",
       "stream": "stdout",
       "text": [
        "\n",
        "0"
       ]
      },
      {
       "output_type": "stream",
       "stream": "stdout",
       "text": [
        "\n",
        "0"
       ]
      },
      {
       "output_type": "stream",
       "stream": "stdout",
       "text": [
        "\n",
        "0"
       ]
      },
      {
       "output_type": "stream",
       "stream": "stdout",
       "text": [
        "\n",
        "0"
       ]
      },
      {
       "output_type": "stream",
       "stream": "stdout",
       "text": [
        "\n",
        "0"
       ]
      },
      {
       "output_type": "stream",
       "stream": "stdout",
       "text": [
        "\n",
        "0"
       ]
      },
      {
       "output_type": "stream",
       "stream": "stdout",
       "text": [
        "\n",
        "0"
       ]
      },
      {
       "output_type": "stream",
       "stream": "stdout",
       "text": [
        "\n",
        "0"
       ]
      },
      {
       "output_type": "stream",
       "stream": "stdout",
       "text": [
        "\n",
        "0"
       ]
      },
      {
       "output_type": "stream",
       "stream": "stdout",
       "text": [
        "\n",
        "0"
       ]
      },
      {
       "output_type": "stream",
       "stream": "stdout",
       "text": [
        "\n",
        "0"
       ]
      },
      {
       "output_type": "stream",
       "stream": "stdout",
       "text": [
        "\n",
        "0"
       ]
      },
      {
       "output_type": "stream",
       "stream": "stdout",
       "text": [
        "\n",
        "0"
       ]
      },
      {
       "output_type": "stream",
       "stream": "stdout",
       "text": [
        "\n",
        "0"
       ]
      },
      {
       "output_type": "stream",
       "stream": "stdout",
       "text": [
        "\n",
        "0"
       ]
      },
      {
       "output_type": "stream",
       "stream": "stdout",
       "text": [
        "\n",
        "0"
       ]
      },
      {
       "output_type": "stream",
       "stream": "stdout",
       "text": [
        "\n",
        "0"
       ]
      },
      {
       "output_type": "stream",
       "stream": "stdout",
       "text": [
        "\n",
        "0"
       ]
      },
      {
       "output_type": "stream",
       "stream": "stdout",
       "text": [
        "\n",
        "0"
       ]
      },
      {
       "output_type": "stream",
       "stream": "stdout",
       "text": [
        "\n",
        "0\n",
        "0"
       ]
      },
      {
       "output_type": "stream",
       "stream": "stdout",
       "text": [
        "\n",
        "0\n",
        "0"
       ]
      },
      {
       "output_type": "stream",
       "stream": "stdout",
       "text": [
        "\n",
        "0\n",
        "0"
       ]
      },
      {
       "output_type": "stream",
       "stream": "stdout",
       "text": [
        "\n",
        "0\n",
        "0"
       ]
      },
      {
       "output_type": "stream",
       "stream": "stdout",
       "text": [
        "\n",
        "0\n",
        "0"
       ]
      },
      {
       "output_type": "stream",
       "stream": "stdout",
       "text": [
        "\n",
        "0\n",
        "0"
       ]
      },
      {
       "output_type": "stream",
       "stream": "stdout",
       "text": [
        "\n",
        "0"
       ]
      },
      {
       "output_type": "stream",
       "stream": "stdout",
       "text": [
        "\n",
        "0\n",
        "0"
       ]
      },
      {
       "output_type": "stream",
       "stream": "stdout",
       "text": [
        "\n",
        "0\n",
        "0"
       ]
      },
      {
       "output_type": "stream",
       "stream": "stdout",
       "text": [
        "\n",
        "0\n",
        "0"
       ]
      },
      {
       "output_type": "stream",
       "stream": "stdout",
       "text": [
        "\n",
        "0"
       ]
      },
      {
       "output_type": "stream",
       "stream": "stdout",
       "text": [
        "\n",
        "0\n",
        "0"
       ]
      },
      {
       "output_type": "stream",
       "stream": "stdout",
       "text": [
        "\n",
        "0\n",
        "0"
       ]
      },
      {
       "output_type": "stream",
       "stream": "stdout",
       "text": [
        "\n",
        "0\n",
        "0"
       ]
      },
      {
       "output_type": "stream",
       "stream": "stdout",
       "text": [
        "\n",
        "0\n",
        "0"
       ]
      },
      {
       "output_type": "stream",
       "stream": "stdout",
       "text": [
        "\n",
        "0"
       ]
      },
      {
       "output_type": "stream",
       "stream": "stdout",
       "text": [
        "\n",
        "0\n",
        "0"
       ]
      },
      {
       "output_type": "stream",
       "stream": "stdout",
       "text": [
        "\n",
        "0\n",
        "0"
       ]
      },
      {
       "output_type": "stream",
       "stream": "stdout",
       "text": [
        "\n",
        "0\n",
        "0"
       ]
      },
      {
       "output_type": "stream",
       "stream": "stdout",
       "text": [
        "\n",
        "0\n",
        "0"
       ]
      },
      {
       "output_type": "stream",
       "stream": "stdout",
       "text": [
        "\n",
        "0"
       ]
      },
      {
       "output_type": "stream",
       "stream": "stdout",
       "text": [
        "\n",
        "0"
       ]
      },
      {
       "output_type": "stream",
       "stream": "stdout",
       "text": [
        "\n",
        "0\n",
        "0"
       ]
      },
      {
       "output_type": "stream",
       "stream": "stdout",
       "text": [
        "\n",
        "0\n",
        "0"
       ]
      },
      {
       "output_type": "stream",
       "stream": "stdout",
       "text": [
        "\n",
        "0\n",
        "0"
       ]
      },
      {
       "output_type": "stream",
       "stream": "stdout",
       "text": [
        "\n",
        "0\n",
        "0"
       ]
      },
      {
       "output_type": "stream",
       "stream": "stdout",
       "text": [
        "\n",
        "0\n",
        "0"
       ]
      },
      {
       "output_type": "stream",
       "stream": "stdout",
       "text": [
        "\n",
        "0\n",
        "0"
       ]
      },
      {
       "output_type": "stream",
       "stream": "stdout",
       "text": [
        "\n",
        "0\n",
        "0"
       ]
      },
      {
       "output_type": "stream",
       "stream": "stdout",
       "text": [
        "\n",
        "0"
       ]
      },
      {
       "output_type": "stream",
       "stream": "stdout",
       "text": [
        "\n",
        "0\n",
        "0"
       ]
      },
      {
       "output_type": "stream",
       "stream": "stdout",
       "text": [
        "\n",
        "0\n",
        "0"
       ]
      },
      {
       "output_type": "stream",
       "stream": "stdout",
       "text": [
        "\n",
        "0\n",
        "0"
       ]
      },
      {
       "output_type": "stream",
       "stream": "stdout",
       "text": [
        "\n",
        "0"
       ]
      },
      {
       "output_type": "stream",
       "stream": "stdout",
       "text": [
        "\n",
        "0\n",
        "0"
       ]
      },
      {
       "output_type": "stream",
       "stream": "stdout",
       "text": [
        "\n",
        "0\n",
        "0"
       ]
      },
      {
       "output_type": "stream",
       "stream": "stdout",
       "text": [
        "\n",
        "0\n",
        "0"
       ]
      },
      {
       "output_type": "stream",
       "stream": "stdout",
       "text": [
        "\n",
        "0\n",
        "0"
       ]
      },
      {
       "output_type": "stream",
       "stream": "stdout",
       "text": [
        "\n",
        "0"
       ]
      },
      {
       "output_type": "stream",
       "stream": "stdout",
       "text": [
        "\n",
        "0\n",
        "0"
       ]
      },
      {
       "output_type": "stream",
       "stream": "stdout",
       "text": [
        "\n",
        "0\n",
        "0"
       ]
      },
      {
       "output_type": "stream",
       "stream": "stdout",
       "text": [
        "\n",
        "0\n",
        "0"
       ]
      },
      {
       "output_type": "stream",
       "stream": "stdout",
       "text": [
        "\n",
        "0"
       ]
      },
      {
       "output_type": "stream",
       "stream": "stdout",
       "text": [
        "\n",
        "0"
       ]
      },
      {
       "output_type": "stream",
       "stream": "stdout",
       "text": [
        "\n",
        "0"
       ]
      },
      {
       "output_type": "stream",
       "stream": "stdout",
       "text": [
        "\n",
        "0"
       ]
      },
      {
       "output_type": "stream",
       "stream": "stdout",
       "text": [
        "\n",
        "0"
       ]
      },
      {
       "output_type": "stream",
       "stream": "stdout",
       "text": [
        "\n",
        "0"
       ]
      },
      {
       "output_type": "stream",
       "stream": "stdout",
       "text": [
        "\n",
        "0"
       ]
      },
      {
       "output_type": "stream",
       "stream": "stdout",
       "text": [
        "\n",
        "0"
       ]
      },
      {
       "output_type": "stream",
       "stream": "stdout",
       "text": [
        "\n",
        "0"
       ]
      },
      {
       "output_type": "stream",
       "stream": "stdout",
       "text": [
        "\n",
        "0"
       ]
      },
      {
       "output_type": "stream",
       "stream": "stdout",
       "text": [
        "\n",
        "0"
       ]
      },
      {
       "output_type": "stream",
       "stream": "stdout",
       "text": [
        "\n",
        "0"
       ]
      },
      {
       "output_type": "stream",
       "stream": "stdout",
       "text": [
        "\n",
        "0"
       ]
      },
      {
       "output_type": "stream",
       "stream": "stdout",
       "text": [
        "\n",
        "0"
       ]
      },
      {
       "output_type": "stream",
       "stream": "stdout",
       "text": [
        "\n",
        "0"
       ]
      },
      {
       "output_type": "stream",
       "stream": "stdout",
       "text": [
        "\n",
        "0"
       ]
      },
      {
       "output_type": "stream",
       "stream": "stdout",
       "text": [
        "\n"
       ]
      }
     ],
     "prompt_number": 114
    },
    {
     "cell_type": "markdown",
     "metadata": {},
     "source": [
      "## Below I make some plots to illustrate the NLCE data "
     ]
    },
    {
     "cell_type": "code",
     "collapsed": false,
     "input": [
      "from matplotlib import rc\n",
      "rc('font', **{'family':'serif'})\n",
      "rc('text', usetex=True)\n",
      "\n",
      "import sys\n",
      "sys.path.append('../')\n",
      "\n",
      "# raw data columns \n",
      "MUCOL = 0\n",
      "DENSCOL = 8\n",
      "ENTRCOL = 17 \n",
      "SPICOL = 29\n",
      "\n",
      "# filtered data columns\n",
      "MUCOLf = 0\n",
      "DENSCOLf = 1\n",
      "ENTRCOLf = 2\n",
      "SPICOLf = 3\n",
      "SPICOLnf = 4 \n",
      "\n",
      "for Tval in  [ 0.40, 0.50, 0.64, 0.72, 0.84, 0.9, 1.0, 1.2, 1.4, 1.6, 1.8, 2.0, 2.2, 2.4]:\n",
      "#for Tval in [0.40, 0.5]:\n",
      "\n",
      "    gs = matplotlib.gridspec.GridSpec(3,6,\\\n",
      "          wspace=0.05, hspace=0.05,\\\n",
      "          left=0.06, right=0.99, bottom=0.075, top=0.96)\n",
      "    \n",
      "    fign = plt.figure( figsize(9.3,4.))\n",
      "    axLn = [fign.add_subplot( gs[i]) for i in range(16) ]\n",
      "    \n",
      "    figs = plt.figure( figsize(9.3,4.))\n",
      "    axLs = [figs.add_subplot( gs[i]) for i in range(16) ]\n",
      "    \n",
      "    figS = plt.figure( figsize(9.3,4.))\n",
      "    axLS = [figS.add_subplot( gs[i]) for i in range(16) ]\n",
      "    \n",
      "    figSn = plt.figure( figsize(9.3,4.))\n",
      "    axLSn = [figSn.add_subplot( gs[i]) for i in range(16) ]\n",
      "    \n",
      "    figSnn = plt.figure( figsize(9.3,4.))\n",
      "    axLSnn = [figSnn.add_subplot( gs[i]) for i in range(16) ]\n",
      "    \n",
      "    for i,Uval in enumerate(range(0,31,2)):\n",
      "        \n",
      "        axn = axLn[i] \n",
      "        axs = axLs[i]\n",
      "        axS = axLS[i]\n",
      "        axSn= axLSn[i]\n",
      "        axSnn= axLSnn[i]\n",
      "        \n",
      "        # get Ehsan's raw data \n",
      "        rawfname =  '../NLCE8_All/U{:02d}/T{:0.2f}.dat'.format(int(Uval),Tval)\n",
      "        datraw = np.loadtxt(rawfname)\n",
      "        \n",
      "        # get the filtered out data \n",
      "        fname = '../NLCE8_Final/U{:02d}/T{:.2f}.dat'.format(int(Uval),Tval)\n",
      "        dat = np.loadtxt(fname)\n",
      "        \n",
      "        \n",
      "        for ax,COL,COLf in [(axn,DENSCOL,DENSCOLf), (axs,ENTRCOL,ENTRCOLf), \\\n",
      "                            (axS,SPICOL,SPICOLf)  ]:\n",
      "            ax.plot( datraw[:,MUCOL], datraw[:,COL], color='k', alpha=0.3, lw=0.5)\n",
      "            ax.plot( dat[:,MUCOLf], dat[:,COLf], color='b')\n",
      "            \n",
      "        axSn.plot( dat[:,MUCOLf], dat[:,SPICOLnf], color='b')\n",
      "        axSnn.plot( dat[:,DENSCOLf], dat[:,SPICOLnf], '.-', color='b')\n",
      "        \n",
      "        #axn.plot( datraw[:,MUCOL], datraw[:,DENSCOL], color='k', alpha=0.3, lw=0.5)\n",
      "        #axn.plot( dat[:,MUCOLf], dat[:,DENSCOLf], color='b')\n",
      "        \n",
      "        \n",
      "        axn.set_ylim(-0.2, 2.2) \n",
      "        axs.set_ylim(-0.1, 1.2)\n",
      "        axS.set_ylim(-0.2, 7.0)\n",
      "        axSn.set_ylim(-0.2,7.0)\n",
      "        axSnn.set_ylim(-0.2,7.0)\n",
      "        \n",
      "        if i != 0 and i != 6 and i !=12 :\n",
      "                axn.yaxis.set_ticklabels([])\n",
      "                axs.yaxis.set_ticklabels([])\n",
      "                axS.yaxis.set_ticklabels([])\n",
      "                axSn.yaxis.set_ticklabels([])\n",
      "                axSnn.yaxis.set_ticklabels([])\n",
      "        else:\n",
      "            axn.set_ylabel('$n$', rotation=0,labelpad=11)\n",
      "            axs.set_ylabel('$s$', rotation=0,labelpad=11)\n",
      "            axS.set_ylabel('$S_{\\pi}$', rotation=0,labelpad=11)\n",
      "            axSn.set_ylabel(r'$\\frac{S_{\\pi}}{n}$', rotation=0,labelpad=11)\n",
      "            axSnn.set_ylabel(r'$\\frac{S_{\\pi}}{n}$', rotation=0,labelpad=11)\n",
      "        if i < 8:\n",
      "            axn.xaxis.set_ticklabels([])\n",
      "            axs.xaxis.set_ticklabels([])\n",
      "            axS.xaxis.set_ticklabels([])\n",
      "            axSn.xaxis.set_ticklabels([])\n",
      "            axSnn.xaxis.set_ticklabels([])\n",
      "        else:\n",
      "            axn.set_xlabel(r'$\\mu/t$',labelpad=-1)\n",
      "            axs.set_xlabel(r'$\\mu/t$',labelpad=-1)\n",
      "            axS.set_xlabel(r'$\\mu/t$',labelpad=-1)\n",
      "            axSn.set_xlabel(r'$\\mu/t$',labelpad=-1)\n",
      "            axSnn.set_xlabel(r'$n$',labelpad=-1)\n",
      "          \n",
      "        for ax in [axn, axs, axS, axSn]:\n",
      "            ax.set_xlim(-30.,40)\n",
      "        axSnn.set_xlim(0.,2.)\n",
      "        \n",
      "        \n",
      "        for ax in [axn, axs, axS, axSn, axSnn]:\n",
      "            ax.grid(alpha=0.4)    \n",
      "            ax.xaxis.set_major_locator( matplotlib.ticker.MaxNLocator(6, prune='lower'))\n",
      "            ax.text( 0.01, 1.0, '$U/t={:d}$'.format(Uval), \\\n",
      "                     ha='left', va='top', transform=ax.transAxes,\n",
      "                     bbox={'boxstyle':'round','facecolor':'white'})\n",
      "        \n",
      "    \n",
      "    name = [\\\n",
      "            r'$\\mathrm{Density}$',\\\n",
      "            r'$\\mathrm{Entropy}$',\\\n",
      "            r'$\\mathrm{AFM\\ } S_{\\pi}\\ \\mathrm{per\\ lattice\\ site}$',\\\n",
      "            r'$\\mathrm{AFM\\ } S_{\\pi}\\ \\mathrm{per\\ particle}$',\\\n",
      "            ]\n",
      "    for j,fig in enumerate([fign, figs, figS, figSn]):\n",
      "        fig.text(0.84, 0.18, name[j] + '\\n' + '$T/t={:.2f}$'.format(Tval), fontsize=18, \\\n",
      "                 ha='center', va='center', linespacing=1.6)\n",
      "    fign.savefig('NLCE_Final/density/T{:04.2f}.png'.format(Tval), dpi=300)\n",
      "    plt.close(fign)\n",
      "    figs.savefig('NLCE_Final/entropy/T{:04.2f}.png'.format(Tval), dpi=300)\n",
      "    plt.close(figs)\n",
      "    figS.savefig('NLCE_Final/spi/T{:04.2f}.png'.format(Tval), dpi=300)\n",
      "    plt.close(figS)\n",
      "    figSn.savefig('NLCE_Final/spin/T{:04.2f}.png'.format(Tval), dpi=300)\n",
      "    plt.close(figSn)\n",
      "    figSnn.savefig('NLCE_Final/spinn/T{:04.2f}.png'.format(Tval), dpi=300)\n",
      "    plt.close(figSnn)\n",
      "    "
     ],
     "language": "python",
     "metadata": {},
     "outputs": [],
     "prompt_number": 1
    },
    {
     "cell_type": "markdown",
     "metadata": {},
     "source": [
      "## Here I take a detailed look at Ehsan's  Spi data in preparation of a comparison with Thereza's data\n",
      "\n",
      "I want to plot  Spi vs n for all available T's and U's "
     ]
    },
    {
     "cell_type": "code",
     "collapsed": false,
     "input": [
      "\n",
      "fig = plt.figure(figsize=(10.,10.))\n",
      "gsA = matplotlib .gridspec.GridSpec(8,2, \\\n",
      "    left=0.04, right=0.48, bottom=0.05, top=0.96)\n",
      "gsB = matplotlib .gridspec.GridSpec(8,2, \\\n",
      "    left=0.54, right=0.98, bottom=0.05, top=0.96)\n",
      "axL0 = [ fig.add_subplot( gsA[i,0] ) for i in range(8)] + [ fig.add_subplot( gsB[i,0] ) for i in range(8)]\n",
      "axL1 = [ fig.add_subplot( gsA[i,1] ) for i in range(8)] + [ fig.add_subplot( gsB[i,1] ) for i in range(8)]\n",
      "\n",
      "\n",
      "for i,Uval in enumerate(range(0,31,2)):\n",
      "    \n",
      "    ax0 = axL0[i]\n",
      "    ax1 = axL1[i]\n",
      "    ax0.text( 0.05, 0.95, 'U={:02d}'.format(Uval), ha='left', va='top', transform=ax0.transAxes)\n",
      "    \n",
      "    Ts = [ 0.40, 0.50, 0.64, 0.72, 0.84, 0.9, 1.0, 1.2, 1.4, 1.6, 1.8, 2.0, 2.2, 2.4]\n",
      "    #Ts = [ 0.64, 0.72, 0.84, 0.9, 1.0, 1.2, 1.4, 1.6, 1.8, 2.0, 2.2, 2.4]\n",
      "    fig.text(0.5,0.99, 'T = ' + ',\\ \\ '.join([ '{:0.2f}'.format(T) for T in Ts ] ), ha='center', va='top')\n",
      "    for Tval in  Ts:\n",
      "    #for Tval in [0.4, 0.50]: \n",
      "        fname = '../NLCE8_Final/U{:02d}/T{:.2f}.dat'.format(int(Uval),Tval)\n",
      "        dat = np.loadtxt(fname)\n",
      "        \n",
      "        ax0.plot( dat[:,1], dat[:,3])\n",
      "        ax1.plot( dat[:,1], dat[:,4])\n",
      "        \n",
      "        ax0.set_xlim(0.,2.)\n",
      "        ax0.set_ylim(0., 4.)\n",
      "\n",
      "        ax1.set_xlim(0.,2.)\n",
      "        ax1.set_ylim(0., 4.)\n",
      "\n",
      "    \n",
      "        \n",
      "fig.savefig('NLCE_Spi/Spi.png'.format(Tval), dpi=300)\n",
      "plt.close()"
     ],
     "language": "python",
     "metadata": {},
     "outputs": [],
     "prompt_number": 2
    },
    {
     "cell_type": "markdown",
     "metadata": {},
     "source": [
      "## Temperature dependence of the density at U=14 for NLCE "
     ]
    },
    {
     "cell_type": "code",
     "collapsed": false,
     "input": [
      "from matplotlib import rc\n",
      "rc('font', **{'family':'serif'})\n",
      "rc('text', usetex=True)\n",
      "\n",
      "import sys\n",
      "sys.path.append('../')\n",
      "\n",
      "# raw data columns \n",
      "MUCOL = 0\n",
      "DENSCOL = 8\n",
      "ENTRCOL = 17 \n",
      "SPICOL = 29\n",
      "\n",
      "# filtered data columns\n",
      "MUCOLf = 0\n",
      "DENSCOLf = 1\n",
      "ENTRCOLf = 2\n",
      "SPICOLf = 3\n",
      "SPICOLnf = 4 \n",
      "\n",
      "\n",
      "gs = matplotlib.gridspec.GridSpec(1,1,\\\n",
      "      wspace=0.05, hspace=0.05,\\\n",
      "      left=0.17, right=0.97, bottom=0.16, top=0.96)\n",
      "\n",
      "fign = plt.figure( figsize(3.0,2.3))\n",
      "axn = fign.add_subplot( gs[0])\n",
      "\n",
      "Uval = 14. \n",
      "\n",
      "#for Tval in  [ 0.40, 0.50, 0.64, 0.72, 0.84, 0.9, 1.0, 1.2, 1.4, 1.6, 1.8, 2.0, 2.2, 2.4]:\n",
      "#for Tval in [0.50, 0.72, 1.0, 1.6, 2.4 ]:\n",
      "for Tval in [2.4, 1.6, 1.0, 0.72, 0.50 ]:\n",
      "    \n",
      "    # get the filtered out data \n",
      "    fname = '../NLCE8_Final/U{:02d}/T{:.2f}.dat'.format(int(Uval),Tval)\n",
      "    dat = np.loadtxt(fname)\n",
      "    \n",
      "    axn.plot( dat[:,MUCOLf], dat[:,DENSCOLf], label='{:0.2f}'.format(Tval))\n",
      "\n",
      "\n",
      "axn.set_ylim(-0.2, 2.2) \n",
      "\n",
      "axn.set_ylabel('$n$', rotation=0,labelpad=11, fontsize=13)\n",
      "axn.set_xlabel(r'$\\mu/t$',labelpad=-1, fontsize=13)\n",
      "\n",
      "axn.legend(title='$T/t$',bbox_to_anchor=(0.95,0.05), loc='lower right', numpoints=1, \\\n",
      "           prop={'size':8}, handlelength=1.1, handletextpad=0.5)\n",
      "\n",
      "axn.grid(alpha=0.4)\n",
      "axn.set_xlim(-15.,30)\n",
      "axn.xaxis.set_major_locator( matplotlib.ticker.MultipleLocator(7))\n",
      "axn.text( 0.06, 1.0, '$U/t={:d}$'.format(int(Uval)), \\\n",
      "         ha='left', va='top', transform=axn.transAxes, fontsize=12,\\\n",
      "         bbox={'boxstyle':'round','facecolor':'white'})\n",
      "\n",
      "fign.savefig('NLCE_Final/U{:02d}_varyT.png'.format(int(Uval)), dpi=300)\n",
      "plt.close(fign)\n"
     ],
     "language": "python",
     "metadata": {},
     "outputs": [],
     "prompt_number": 3
    },
    {
     "cell_type": "markdown",
     "metadata": {},
     "source": [
      "## Spin structure factors available from NLCE "
     ]
    },
    {
     "cell_type": "code",
     "collapsed": false,
     "input": [
      "from matplotlib import rc\n",
      "rc('font', **{'family':'serif'})\n",
      "rc('text', usetex=True)\n",
      "\n",
      "import sys\n",
      "sys.path.append('../')\n",
      "\n",
      "# raw data columns \n",
      "MUCOL = 0\n",
      "DENSCOL = 8\n",
      "ENTRCOL = 17 \n",
      "SPICOL = 29\n",
      "\n",
      "# filtered data columns\n",
      "MUCOLf = 0\n",
      "DENSCOLf = 1\n",
      "ENTRCOLf = 2\n",
      "SPICOLf = 3\n",
      "SPICOLnf = 4 \n",
      "\n",
      "\n",
      "gs = matplotlib.gridspec.GridSpec(2,3,\\\n",
      "      wspace=0.05, hspace=0.05,\\\n",
      "      left=0.07, right=0.96, bottom=0.10, top=0.96)\n",
      "\n",
      "fig = plt.figure( figsize(6.8,3.8))\n",
      "axL = [ fig.add_subplot( gs[i]) for i in range(6) ] \n",
      "\n",
      "\n",
      "for i,Uval in enumerate([4., 6., 8., 10., 12., 14]):\n",
      "    \n",
      "    ax = axL[i]\n",
      "    \n",
      "    #for Tval in  [ 0.40, 0.50, 0.64, 0.72, 0.84, 0.9, 1.0, 1.2, 1.4, 1.6, 1.8, 2.0, 2.2, 2.4]:\n",
      "    #for Tval in [0.50, 0.72, 1.0, 1.6, 2.4 ]:\n",
      "    for Tval in [2.4, 1.6, 1.0, 0.72, 0.50, 0.40 ]:\n",
      "\n",
      "        # get the filtered out data \n",
      "        fname = '../NLCE8_Final/U{:02d}/T{:.2f}.dat'.format(int(Uval),Tval)\n",
      "        dat = np.loadtxt(fname)\n",
      "\n",
      "        ax.plot( dat[:,DENSCOLf], dat[:,SPICOLnf], '.-', ms=2.8,  label='{:0.2f}'.format(Tval))\n",
      "\n",
      "\n",
      "    ax.set_ylim(-0.2, 7.) \n",
      "\n",
      "    if i!=0 and i!=3:\n",
      "        ax.yaxis.set_ticklabels([])\n",
      "    else:\n",
      "        ax.set_ylabel(r'$\\frac{S_{\\pi}}{n}$', rotation=0,labelpad=14, fontsize=17)\n",
      "        \n",
      "    if i < 3 :\n",
      "        ax.xaxis.set_ticklabels([])\n",
      "    else:\n",
      "        ax.set_xlabel(r'$n$',labelpad=1, fontsize=14)\n",
      "    \n",
      "    if i == 0:\n",
      "        ax.legend(title='$T/t$',bbox_to_anchor=(0.95,0.98), loc='upper right', numpoints=1, \\\n",
      "               prop={'size':8}, handlelength=1.1, handletextpad=0.5)\n",
      "\n",
      "    ax.grid(alpha=0.4)\n",
      "    ax.set_xlim(0.,2.)\n",
      "    ax.xaxis.set_major_locator( matplotlib.ticker.MaxNLocator(5, prune='lower'))\n",
      "    \n",
      "    ax.text( 0.06, 1.0, '$U/t={:d}$'.format(int(Uval)), \\\n",
      "         ha='left', va='top', transform=ax.transAxes, fontsize=12,\\\n",
      "         bbox={'boxstyle':'round','facecolor':'white'})\n",
      "    \n",
      "#axL[1].text( 0.5, 1.1 , '$U/t={:d}$'.format(int(Uval)), \\\n",
      "#         ha='center', va='top', fontsize=13, transform=axL[1].transAxes)\n",
      "#         #bbox={'boxstyle':'round','facecolor':'white'})\n",
      "\n",
      "fig.savefig('NLCE_Final/Spi_varyU_varyT.png', dpi=300)\n",
      "plt.close(fig)\n"
     ],
     "language": "python",
     "metadata": {},
     "outputs": [],
     "prompt_number": 4
    },
    {
     "cell_type": "markdown",
     "metadata": {},
     "source": [
      "## Below is the function used to interpolate with the available data\n",
      "\n",
      "It used to be defined here but now I have moved it to the nlce.py file.  So I am just loading it here to demonstrate it"
     ]
    },
    {
     "cell_type": "code",
     "collapsed": false,
     "input": [
      "import sys\n",
      "sys.path.append('../')\n",
      "\n",
      "import nlce\n",
      "\n",
      "print nlce.find_closest_nlce(U=7.0, T=0.855, mu=3.5, showinterp=True)"
     ],
     "language": "python",
     "metadata": {},
     "outputs": [
      {
       "metadata": {},
       "output_type": "display_data",
       "png": "[encoded data removed]",
       "text": [
        "<matplotlib.figure.Figure at 0x18e5e98c>"
       ]
      },
      {
       "output_type": "stream",
       "stream": "stdout",
       "text": [
        "1.00775\n"
       ]
      }
     ],
     "prompt_number": 56
    },
    {
     "cell_type": "markdown",
     "metadata": {},
     "source": [
      "### It takes 14 ms to get a single value out of the filtered Ehsan's data tables:"
     ]
    },
    {
     "cell_type": "code",
     "collapsed": false,
     "input": [
      "%%timeit \n",
      "\n",
      "nlce.find_closest_nlce(U=7.0, T=0.855, mu=3.5)"
     ],
     "language": "python",
     "metadata": {},
     "outputs": [
      {
       "output_type": "stream",
       "stream": "stdout",
       "text": [
        "100 loops, best of 3: 10.1 ms per loop\n"
       ]
      }
     ],
     "prompt_number": 57
    },
    {
     "cell_type": "markdown",
     "metadata": {},
     "source": [
      "## I will use some of the NLCE data to complement the QMC data in the calculation of Spi.  This is done until Thereza provides more QMC data.\n",
      "\n",
      "Run the code below to add an NLCE dataset.  The new data set with the columns as in the QMC data is placed in the stage-data folder and it has to be moved manually to the COMBINED_Final folder"
     ]
    },
    {
     "cell_type": "code",
     "collapsed": false,
     "input": [
      "#Uval = 16\n",
      "#Ts = [0.64, 0.72, 0.84, 0.90, 1.0 ]\n",
      "\n",
      "#Uval = 20\n",
      "#Ts = [0.64, 0.72, 0.84, 0.90, 1.0 ]\n",
      "\n",
      "#Uval = 10\n",
      "#Ts = [0.72, 0.84, 0.90, 1.0 ]\n",
      "\n",
      "Uval = 14\n",
      "Ts = [0.72, 0.84, 0.90, 1.0 ]\n",
      "\n",
      "for Tval in Ts:\n",
      "    fname = '../NLCE8_Final/U{:02d}/T{:.2f}.dat'.format(int(Uval),Tval)\n",
      "    dat = np.loadtxt(fname)\n",
      "    print\n",
      "    print dat.shape\n",
      "    \n",
      "    subset = dat[:,1] > 0.02  \n",
      "    \n",
      "    dat = dat[subset ]\n",
      "    print dat.shape\n",
      "    \n",
      "    a = np.empty((dat.shape[0],7))\n",
      "    \n",
      "    a[:,0] = dat[:,0]\n",
      "    a[:,1] = dat[:,1]\n",
      "    a[:,2] = np.zeros_like(dat[:,0])\n",
      "    \n",
      "    spi_over_n = dat[:,4]\n",
      "    #spi_over_n[ where(np.isinf(spi_over_n))] = 0.0\n",
      "    #spi_over_n[ where(np.isnan(spi_over_n))] = 0.0\n",
      "    a[:,3] = spi_over_n\n",
      "    \n",
      "    a[:,4] = np.zeros_like(dat[:,0])\n",
      "    a[:,5] = np.zeros_like(dat[:,0])\n",
      "    a[:,6] = np.zeros_like(dat[:,0])\n",
      "    \n",
      "    \n",
      "    np.savetxt('../stage-data/U{:02d}/T{:.2f}.dat'.format(int(Uval),Tval), a, fmt='%.3g')\n",
      "    \n",
      "    "
     ],
     "language": "python",
     "metadata": {},
     "outputs": [
      {
       "output_type": "stream",
       "stream": "stdout",
       "text": [
        "\n",
        "(341, 5)\n",
        "(304, 5)\n",
        "\n",
        "(359, 5)\n",
        "(316, 5)\n",
        "\n"
       ]
      },
      {
       "output_type": "stream",
       "stream": "stdout",
       "text": [
        "(369, 5)\n",
        "(322, 5)\n",
        "\n",
        "(385, 5)\n",
        "(332, 5)\n"
       ]
      }
     ],
     "prompt_number": 30
    },
    {
     "cell_type": "markdown",
     "metadata": {},
     "source": [
      "## Below is some scratch work"
     ]
    },
    {
     "cell_type": "code",
     "collapsed": false,
     "input": [
      "fig = plt.figure(figsize=(5.,4.))\n",
      "gs = matplotlib .gridspec.GridSpec(1,1)\n",
      "ax = fig.add_subplot( gs[0] )\n",
      "\n",
      "MUCOL = 0\n",
      "DENSCOL = 8\n",
      "SPICOL = 29\n",
      "\n",
      "n = 1.0 \n",
      "\n",
      "for Tval in [0.4, 0.5, 0.6, 0.7, 0.8]:\n",
      "    uplot = []\n",
      "    for Uval in range(0,31,2):\n",
      "        fname =  '../NLCE8_All/U{:02d}/T{:0.2f}.dat'.format(int(Uval),Tval)\n",
      "        dat = np.loadtxt(fname)\n",
      "        \n",
      "        index = np.argmin( np.abs(dat[:, DENSCOL] - n )) \n",
      "        \n",
      "        uplot.append( [Uval, dat[index,SPICOL]])\n",
      "    \n",
      "    uplot = np.array(uplot)\n",
      "    ax.plot( uplot[:,0], uplot[:,1])\n",
      "    \n",
      "    \n",
      "#ax.set_ylim(-0.2, 2.2) \n",
      "#ax.set_xlim(0.1, 2.1)"
     ],
     "language": "python",
     "metadata": {},
     "outputs": [
      {
       "metadata": {},
       "output_type": "display_data",
       "png": "[encoded data removed]",
       "text": [
        "<matplotlib.figure.Figure at 0xd0de1cc>"
       ]
      }
     ],
     "prompt_number": 143
    },
    {
     "cell_type": "code",
     "collapsed": false,
     "input": [
      "a = np.linspace(0,6,100)\n",
      "\n",
      "b = 2.*(a/2 - (a%2)/2)\n",
      "c = b+2.\n",
      "\n",
      "plot(a,b)\n",
      "plot(a,c)\n"
     ],
     "language": "python",
     "metadata": {},
     "outputs": [
      {
       "metadata": {},
       "output_type": "pyout",
       "prompt_number": 71,
       "text": [
        "[<matplotlib.lines.Line2D at 0xd0ccd0c>]"
       ]
      },
      {
       "metadata": {},
       "output_type": "display_data",
       "png": "[encoded data removed]",
       "text": [
        "<matplotlib.figure.Figure at 0xd0cce4c>"
       ]
      }
     ],
     "prompt_number": 71
    },
    {
     "cell_type": "code",
     "collapsed": false,
     "input": [
      "int(np.round(a))/2"
     ],
     "language": "python",
     "metadata": {},
     "outputs": [
      {
       "metadata": {},
       "output_type": "pyout",
       "prompt_number": 55,
       "text": [
        "0"
       ]
      }
     ],
     "prompt_number": 55
    },
    {
     "cell_type": "code",
     "collapsed": false,
     "input": [
      "a = np.linspace(0.8,1.2,100)\n",
      "\n",
      "b = 0.02*(a/0.02 - (a%0.02)/0.02)\n",
      "c = b+0.02\n",
      "\n",
      "plot(a,b)\n",
      "plot(a,c)"
     ],
     "language": "python",
     "metadata": {},
     "outputs": [
      {
       "metadata": {},
       "output_type": "pyout",
       "prompt_number": 72,
       "text": [
        "[<matplotlib.lines.Line2D at 0xba83b2c>]"
       ]
      },
      {
       "metadata": {},
       "output_type": "display_data",
       "png": "[encoded data removed]",
       "text": [
        "<matplotlib.figure.Figure at 0xa554aac>"
       ]
      }
     ],
     "prompt_number": 72
    },
    {
     "cell_type": "code",
     "collapsed": false,
     "input": [],
     "language": "python",
     "metadata": {},
     "outputs": []
    }
   ],
   "metadata": {}
  }
 ]
}