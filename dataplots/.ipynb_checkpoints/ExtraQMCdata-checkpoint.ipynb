{
 "metadata": {
  "name": "",
  "signature": "sha256:519a49da5651332d576a5db7be598c5c16c28f4b6e052d430940f6b7f78a56cf"
 },
 "nbformat": 3,
 "nbformat_minor": 0,
 "worksheets": []
}