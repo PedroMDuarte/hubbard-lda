{
 "metadata": {
  "name": "",
  "signature": "sha256:0bf15a913efa39128db25c464526b4f31e04767d35aa760aff6a138a676dd8cc"
 },
 "nbformat": 3,
 "nbformat_minor": 0,
 "worksheets": [
  {
   "cells": [
    {
     "cell_type": "code",
     "collapsed": false,
     "input": [
      "import scubic\n",
      "import lda\n",
      "    \n",
      "g0=3.666\n",
      "#g0 = 3.30\n",
      "\n",
      "profs = [ \n",
      "        #0\n",
      "        {'wIR':47.,\\\n",
      "         'wGR':47./1.175,\\\n",
      "         'g0':g0,\\\n",
      "         's0':7.,\\\n",
      "         'extents':30.,\\\n",
      "         'T':0.035,\\\n",
      "         'aS':290.,\\\n",
      "         'mu0':'halfMott',\\\n",
      "         'muPlus':-0.15,\\\n",
      "         'direc':'111'\n",
      "        },\n",
      "        #0\n",
      "        {'wIR':47.,\\\n",
      "         'wGR':47./1.175,\\\n",
      "         'g0':g0,\\\n",
      "         's0':7.,\\\n",
      "         'extents':30.,\\\n",
      "         'T':0.035,\\\n",
      "         'aS':290.,\\\n",
      "         'mu0':'halfMott',\\\n",
      "         'muPlus':-0.07,\\\n",
      "         'direc':'111'\n",
      "        },\n",
      "        #0\n",
      "        {'wIR':47.,\\\n",
      "         'wGR':47./1.175,\\\n",
      "         'g0':g0,\\\n",
      "         's0':7.,\\\n",
      "         'extents':30.,\\\n",
      "         'T':0.035,\\\n",
      "         'aS':290.,\\\n",
      "         'mu0':'halfMott',\\\n",
      "         'muPlus':0.01,\\\n",
      "         'direc':'111'\n",
      "        },\n",
      "        #1\n",
      "        {'wIR':47.,\\\n",
      "         'wGR':47./1.175,\\\n",
      "         'g0':g0,\\\n",
      "         's0':7.,\\\n",
      "         'extents':30.,\\\n",
      "         'T':0.035,\\\n",
      "         'aS':290.,\\\n",
      "         'mu0':'halfMott',\\\n",
      "         'muPlus':0.099,\\\n",
      "         'direc':'111'\n",
      "        },\n",
      "        #2\n",
      "        {'wIR':47.,\\\n",
      "         'wGR':47./1.175,\\\n",
      "         'g0':g0,\\\n",
      "         's0':7.,\\\n",
      "         'extents':30.,\\\n",
      "         'T':0.035,\\\n",
      "         'aS':290.,\\\n",
      "         'mu0':'halfMott',\\\n",
      "         'muPlus':0.2,\\\n",
      "         'direc':'111'\n",
      "        },\n",
      "        #2\n",
      "        {'wIR':47.,\\\n",
      "         'wGR':47./1.175,\\\n",
      "         'g0':g0,\\\n",
      "         's0':7.,\\\n",
      "         'extents':30.,\\\n",
      "         'T':0.035,\\\n",
      "         'aS':290.,\\\n",
      "         'mu0':'halfMott',\\\n",
      "         'muPlus':0.25,\\\n",
      "         'direc':'111'\n",
      "        },\n",
      "        #3\n",
      "        {'wIR':47.,\\\n",
      "         'wGR':47./1.175,\\\n",
      "         'g0':g0,\\\n",
      "         's0':7.,\\\n",
      "         'extents':30.,\\\n",
      "         'T':0.035,\\\n",
      "         'aS':290.,\\\n",
      "         'mu0':'halfMott',\\\n",
      "         'muPlus':0.3,\\\n",
      "         'direc':'111'\n",
      "        },\n",
      "\n",
      "        ]\n",
      "\n",
      "\n",
      "tags = range(len(profs)) \n",
      "#tags = [0,1] \n",
      "outs = [] \n",
      "spis = [] \n",
      "\n",
      "for tag in tags:\n",
      "\n",
      "    print '\\n',tag\n",
      "    \n",
      "    s       = profs[tag]['s0']\n",
      "    g       = profs[tag]['g0']\n",
      "    wIR     = profs[tag]['wIR']\n",
      "    wGR     = profs[tag]['wGR']\n",
      "    T       = profs[tag]['T'] \n",
      "    extents = profs[tag]['extents']\n",
      "    direc   = profs[tag]['direc'] \n",
      "    aS      = profs[tag].get('aS',650.)\n",
      "    mu0     = profs[tag].get('mu0','halfMott')\n",
      "    muPlus  = profs[tag].get('muPlus', 0.0)\n",
      "    x2lims  = profs[tag].get('x2lims', (-40.,40.))\n",
      "    y2lims  = profs[tag].get('y2lims', (0.,1.3))\n",
      "    \n",
      "    select = 'nlce'\n",
      "    \n",
      "    pot = scubic.sc(allIR=s, allGR=g, allIRw=wIR, allGRw=wGR)\n",
      "    \n",
      "    lda0 = lda.lda(potential = pot, Temperature=T, a_s=aS, extents=extents, \\\n",
      "                   globalMu=mu0, halfMottPlus=muPlus,\\\n",
      "                   verbose=True, \\\n",
      "                   select = select,\\\n",
      "                   ignoreExtents=False, ignoreSlopeErrors=True, ignoreMuThreshold=True)\n",
      "    \n",
      "    Tspi = 0.5\n",
      "    spibulk, spi, r111, n111, U111, t111 = lda0.getBulkSpi(Tspi=Tspi)\n",
      "    spis.append( {'SpiBulk':spibulk,\\\n",
      "                  'spi111':spi,\\\n",
      "                  'r111':r111,\\\n",
      "                  'n111':n111,\\\n",
      "                  'U111':U111,\\\n",
      "                  't111':t111,\\\n",
      "                  'Number':lda0.Number,\\\n",
      "                  'Tn':T,\\\n",
      "                  'Tspi':Tspi,\\\n",
      "                  } ) \n",
      "    \n",
      "    # Figure to chech inhomogeneity\n",
      "    fig111, binresult, peak_dens, radius1e, peak_t, output = lda.CheckInhomog( lda0, closefig = True, n_ylim=(-0.1,2.0) ) ;\n",
      "    fig111.savefig('dataplots/Basic02/{:0.3f}gr_{:03d}_{}_T{:0.4f}Er.png'.format(g0,tag,select,T), dpi=300)\n",
      "    \n",
      "    outs.append( (aS, output, binresult))"
     ],
     "language": "python",
     "metadata": {},
     "outputs": [
      {
       "output_type": "stream",
       "stream": "stdout",
       "text": [
        "\n",
        "0\n",
        "OK: Bottom of the band has positive slope up to r111 = 10 um\n",
        "bandOrigin = -13.91\n",
        "band100 = -4.64\n",
        "0.245369142754\n",
        "OK: Chemical potential is below evaporation threshold.\n",
        "OK: Chemical potential is below the bottom of the band along 100\n",
        "Inside nlce_dens\n",
        "OK: Radial density profile along 111 decreases monotonically."
       ]
      },
      {
       "output_type": "stream",
       "stream": "stdout",
       "text": [
        "\n",
        "Inside nlce_entr\n",
        "Inside nlce_dens"
       ]
      },
      {
       "output_type": "stream",
       "stream": "stdout",
       "text": [
        "\n",
        "Calculating Spi_Bulk for U=11.08, T=0.50"
       ]
      },
      {
       "output_type": "stream",
       "stream": "stdout",
       "text": [
        "\n",
        "Inside nlce_dens"
       ]
      },
      {
       "output_type": "stream",
       "stream": "stdout",
       "text": [
        "\n",
        "Inside nlce_entr"
       ]
      },
      {
       "output_type": "stream",
       "stream": "stdout",
       "text": [
        "\n",
        "Inside nlce_spi"
       ]
      },
      {
       "output_type": "stream",
       "stream": "stdout",
       "text": [
        "\n",
        "Total natoms from adding bins = "
       ]
      },
      {
       "output_type": "stream",
       "stream": "stdout",
       "text": [
        " 1.0\n",
        "\n"
       ]
      },
      {
       "output_type": "stream",
       "stream": "stdout",
       "text": [
        "|   Atoms in bin |   n min |   n max |   Mean n |   Mean t |   Mean U |   Mean U/t |\n",
        "|----------------+---------+---------+----------+----------+----------+------------|\n",
        "|          0.226 |   0.614 |   0.804 |    0.700 |    0.041 |    0.428 |     10.435 |\n",
        "|          0.197 |   0.461 |   0.614 |    0.520 |    0.043 |    0.414 |      9.549 |\n",
        "|          0.221 |   0.293 |   0.461 |    0.370 |    0.046 |    0.402 |      8.843 |\n",
        "|          0.133 |   0.169 |   0.293 |    0.230 |    0.048 |    0.391 |      8.190 |\n",
        "|          0.223 |   0.000 |   0.169 |    0.090 |    0.052 |    0.370 |      7.161 |\n",
        "\n"
       ]
      },
      {
       "output_type": "stream",
       "stream": "stdout",
       "text": [
        "1\n",
        "OK: Bottom of the band has positive slope up to r111 = 10 um\n",
        "bandOrigin = -13.91\n",
        "band100 = -4.64\n",
        "0.245369142754\n",
        "OK: Chemical potential is below evaporation threshold.\n",
        "OK: Chemical potential is below the bottom of the band along 100\n",
        "Inside nlce_dens\n",
        "OK: Radial density profile along 111 decreases monotonically."
       ]
      },
      {
       "output_type": "stream",
       "stream": "stdout",
       "text": [
        "\n",
        "Inside nlce_entr\n",
        "Inside nlce_dens"
       ]
      },
      {
       "output_type": "stream",
       "stream": "stdout",
       "text": [
        "\n",
        "Calculating Spi_Bulk for U=11.08, T=0.50"
       ]
      },
      {
       "output_type": "stream",
       "stream": "stdout",
       "text": [
        "\n",
        "Inside nlce_dens"
       ]
      },
      {
       "output_type": "stream",
       "stream": "stdout",
       "text": [
        "\n",
        "Inside nlce_entr"
       ]
      },
      {
       "output_type": "stream",
       "stream": "stdout",
       "text": [
        "\n",
        "Inside nlce_spi"
       ]
      },
      {
       "output_type": "stream",
       "stream": "stdout",
       "text": [
        "\n",
        "Total natoms from adding bins = "
       ]
      },
      {
       "output_type": "stream",
       "stream": "stdout",
       "text": [
        " 1.0\n",
        "\n"
       ]
      },
      {
       "output_type": "stream",
       "stream": "stdout",
       "text": [
        "|   Atoms in bin |   n min |   n max |   Mean n |   Mean t |   Mean U |   Mean U/t |\n",
        "|----------------+---------+---------+----------+----------+----------+------------|\n",
        "|          0.211 |   0.769 |   0.948 |    0.860 |    0.041 |    0.426 |     10.303 |\n",
        "|          0.177 |   0.619 |   0.769 |    0.700 |    0.044 |    0.411 |      9.317 |\n",
        "|          0.275 |   0.400 |   0.619 |    0.500 |    0.047 |    0.395 |      8.451 |\n",
        "|          0.125 |   0.232 |   0.400 |    0.310 |    0.050 |    0.380 |      7.647 |\n",
        "|          0.211 |   0.000 |   0.232 |    0.120 |    0.055 |    0.358 |      6.576 |\n",
        "\n"
       ]
      },
      {
       "output_type": "stream",
       "stream": "stdout",
       "text": [
        "2\n",
        "OK: Bottom of the band has positive slope up to r111 = 10 um\n",
        "bandOrigin = -13.91\n",
        "band100 = -4.64\n",
        "0.245369142754\n",
        "OK: Chemical potential is below evaporation threshold.\n",
        "OK: Chemical potential is below the bottom of the band along 100\n",
        "Inside nlce_dens\n",
        "ERROR: Radial density profile along 111 has a positive slope"
       ]
      },
      {
       "output_type": "stream",
       "stream": "stdout",
       "text": [
        "\n",
        "\n",
        "\n",
        "radius check start =  0.001\n",
        "[ 1.01218502  1.01253748  1.01273117  1.00761708  1.00592775  1.00118853\n",
        "  0.99451868  0.98569126  0.97545569  0.96355173  0.94622636  0.93484\n",
        "  0.91344623  0.8793469   0.84851335  0.80417463  0.75265956  0.69511175\n",
        "  0.62004984  0.55420139  0.47374738  0.40671752  0.32904712  0.26016006\n",
        "  0.2003625   0.15065827  0.10081406  0.06694552  0.03599943  0.01867558\n",
        "  0.00994125  0.0025853   0.00193057  0.          0.          0.          0.\n",
        "  0.          0.          0.        ]\n",
        "[ True  True False False False False False False False False False False\n",
        " False False False False False False False False False False False False\n",
        " False False False False False False False False False False False False\n",
        " False False False]\n",
        "Inside nlce_entr\n",
        "Inside nlce_dens"
       ]
      },
      {
       "output_type": "stream",
       "stream": "stdout",
       "text": [
        "\n",
        "Calculating Spi_Bulk for U=11.08, T=0.50"
       ]
      },
      {
       "output_type": "stream",
       "stream": "stdout",
       "text": [
        "\n",
        "Inside nlce_dens"
       ]
      },
      {
       "output_type": "stream",
       "stream": "stdout",
       "text": [
        "\n",
        "Inside nlce_entr"
       ]
      },
      {
       "output_type": "stream",
       "stream": "stdout",
       "text": [
        "\n",
        "Inside nlce_spi"
       ]
      },
      {
       "output_type": "stream",
       "stream": "stdout",
       "text": [
        "\n",
        "Total natoms from adding bins = "
       ]
      },
      {
       "output_type": "stream",
       "stream": "stdout",
       "text": [
        " 1.0\n",
        "\n"
       ]
      },
      {
       "output_type": "stream",
       "stream": "stdout",
       "text": [
        "|   Atoms in bin |   n min |   n max |   Mean n |   Mean t |   Mean U |   Mean U/t |\n",
        "|----------------+---------+---------+----------+----------+----------+------------|\n",
        "|          0.197 |   0.897 |   1.012 |    0.960 |    0.042 |    0.424 |     10.160 |\n",
        "|          0.223 |   0.729 |   0.897 |    0.820 |    0.045 |    0.404 |      8.946 |\n",
        "|          0.200 |   0.543 |   0.729 |    0.620 |    0.048 |    0.388 |      8.047 |\n",
        "|          0.182 |   0.295 |   0.543 |    0.410 |    0.051 |    0.372 |      7.233 |\n",
        "|          0.197 |   0.000 |   0.295 |    0.150 |    0.057 |    0.345 |      6.038 |\n",
        "\n"
       ]
      },
      {
       "output_type": "stream",
       "stream": "stdout",
       "text": [
        "3\n",
        "OK: Bottom of the band has positive slope up to r111 = 10 um\n",
        "bandOrigin = -13.91\n",
        "band100 = -4.64\n",
        "0.245369142754\n",
        "OK: Chemical potential is below evaporation threshold.\n",
        "OK: Chemical potential is below the bottom of the band along 100\n",
        "Inside nlce_dens\n",
        "ERROR: Radial density profile along 111 has a positive slope"
       ]
      },
      {
       "output_type": "stream",
       "stream": "stdout",
       "text": [
        "\n",
        "\n",
        "\n",
        "radius check start =  0.001\n",
        "[  1.10300602e+00   1.10436293e+00   1.09905118e+00   1.09761071e+00\n",
        "   1.08654606e+00   1.08552034e+00   1.07420557e+00   1.06228734e+00\n",
        "   1.05946891e+00   1.04549373e+00   1.04075455e+00   1.02827065e+00\n",
        "   1.01556180e+00   9.97537737e-01   9.78265051e-01   9.53209683e-01\n",
        "   9.23137739e-01   8.78122603e-01   8.35837566e-01   7.80227657e-01\n",
        "   7.12575852e-01   6.37430943e-01   5.57274898e-01   4.75929324e-01\n",
        "   3.94770700e-01   3.19324131e-01   2.57013272e-01   1.84403082e-01\n",
        "   1.28124358e-01   8.18852247e-02   4.94203897e-02   2.33950827e-02\n",
        "   1.09098805e-02   6.21167667e-03   1.08578148e-03   4.29445276e-04\n",
        "   0.00000000e+00   0.00000000e+00   0.00000000e+00   0.00000000e+00]\n",
        "[ True False False False False False False False False False False False\n",
        " False False False False False False False False False False False False\n",
        " False False False False False False False False False False False False\n",
        " False False False]\n",
        "Inside nlce_entr\n",
        "Inside nlce_dens"
       ]
      },
      {
       "output_type": "stream",
       "stream": "stdout",
       "text": [
        "\n",
        "Calculating Spi_Bulk for U=11.08, T=0.50"
       ]
      },
      {
       "output_type": "stream",
       "stream": "stdout",
       "text": [
        "\n",
        "Inside nlce_dens"
       ]
      },
      {
       "output_type": "stream",
       "stream": "stdout",
       "text": [
        "\n",
        "Inside nlce_entr"
       ]
      },
      {
       "output_type": "stream",
       "stream": "stdout",
       "text": [
        "\n",
        "Inside nlce_spi"
       ]
      },
      {
       "output_type": "stream",
       "stream": "stdout",
       "text": [
        "\n",
        "Total natoms from adding bins = "
       ]
      },
      {
       "output_type": "stream",
       "stream": "stdout",
       "text": [
        " 1.0\n",
        "\n"
       ]
      },
      {
       "output_type": "stream",
       "stream": "stdout",
       "text": [
        "|   Atoms in bin |   n min |   n max |   Mean n |   Mean t |   Mean U |   Mean U/t |\n",
        "|----------------+---------+---------+----------+----------+----------+------------|\n",
        "|          0.183 |   0.980 |   1.103 |    1.040 |    0.042 |    0.422 |     10.013 |\n",
        "|          0.256 |   0.822 |   0.980 |    0.910 |    0.046 |    0.397 |      8.551 |\n",
        "|          0.191 |   0.635 |   0.822 |    0.710 |    0.050 |    0.377 |      7.504 |\n",
        "|          0.175 |   0.326 |   0.635 |    0.480 |    0.054 |    0.360 |      6.676 |\n",
        "|          0.195 |   0.000 |   0.326 |    0.180 |    0.060 |    0.332 |      5.513 |\n",
        "\n"
       ]
      },
      {
       "output_type": "stream",
       "stream": "stdout",
       "text": [
        "4\n",
        "OK: Bottom of the band has positive slope up to r111 = 10 um\n",
        "bandOrigin = -13.91\n",
        "band100 = -4.64\n",
        "0.245369142754\n",
        "OK: Chemical potential is below evaporation threshold.\n",
        "OK: Chemical potential is below the bottom of the band along 100\n",
        "Inside nlce_dens\n",
        "ERROR: Radial density profile along 111 has a positive slope"
       ]
      },
      {
       "output_type": "stream",
       "stream": "stdout",
       "text": [
        "\n",
        "\n",
        "\n",
        "radius check start =  0.001\n",
        "[  1.33583496e+00   1.33829153e+00   1.33119415e+00   1.31522142e+00\n",
        "   1.31440134e+00   1.28954747e+00   1.28483283e+00   1.26192278e+00\n",
        "   1.23156361e+00   1.21650476e+00   1.18237860e+00   1.17236598e+00\n",
        "   1.15001606e+00   1.13062573e+00   1.10936142e+00   1.08789172e+00\n",
        "   1.06655096e+00   1.03127966e+00   9.99066624e-01   9.67177422e-01\n",
        "   9.20181697e-01   8.67401452e-01   8.14414054e-01   7.32389012e-01\n",
        "   6.55672640e-01   5.60116559e-01   4.78744391e-01   3.93255640e-01\n",
        "   2.92911983e-01   2.29835924e-01   1.66645072e-01   1.13443790e-01\n",
        "   6.97812662e-02   4.06429561e-02   1.79874008e-02   5.83335314e-03\n",
        "   2.87776061e-03   7.86799756e-04   1.67028638e-04   0.00000000e+00]\n",
        "[ True False False False False False False False False False False False\n",
        " False False False False False False False False False False False False\n",
        " False False False False False False False False False False False False\n",
        " False False False]\n",
        "Inside nlce_entr\n",
        "Inside nlce_dens"
       ]
      },
      {
       "output_type": "stream",
       "stream": "stdout",
       "text": [
        "\n",
        "Calculating Spi_Bulk for U=11.08, T=0.50"
       ]
      },
      {
       "output_type": "stream",
       "stream": "stdout",
       "text": [
        "\n",
        "Inside nlce_dens"
       ]
      },
      {
       "output_type": "stream",
       "stream": "stdout",
       "text": [
        "\n",
        "Inside nlce_entr"
       ]
      },
      {
       "output_type": "stream",
       "stream": "stdout",
       "text": [
        "\n",
        "Inside nlce_spi"
       ]
      },
      {
       "output_type": "stream",
       "stream": "stdout",
       "text": [
        "\n",
        "Total natoms from adding bins = "
       ]
      },
      {
       "output_type": "stream",
       "stream": "stdout",
       "text": [
        " 1.0\n",
        "\n"
       ]
      },
      {
       "output_type": "stream",
       "stream": "stdout",
       "text": [
        "|   Atoms in bin |   n min |   n max |   Mean n |   Mean t |   Mean U |   Mean U/t |\n",
        "|----------------+---------+---------+----------+----------+----------+------------|\n",
        "|          0.215 |   1.083 |   1.336 |    1.170 |    0.043 |    0.417 |      9.717 |\n",
        "|          0.187 |   0.950 |   1.083 |    1.010 |    0.048 |    0.390 |      8.165 |\n",
        "|          0.175 |   0.741 |   0.950 |    0.870 |    0.051 |    0.372 |      7.222 |\n",
        "|          0.228 |   0.404 |   0.741 |    0.610 |    0.056 |    0.351 |      6.273 |\n",
        "|          0.196 |   0.000 |   0.404 |    0.210 |    0.064 |    0.317 |      4.968 |\n",
        "\n"
       ]
      },
      {
       "output_type": "stream",
       "stream": "stdout",
       "text": [
        "5\n",
        "OK: Bottom of the band has positive slope up to r111 = 10 um\n",
        "bandOrigin = -13.91\n",
        "band100 = -4.64\n",
        "0.245369142754\n",
        "OK: Chemical potential is below evaporation threshold.\n",
        "OK: Chemical potential is below the bottom of the band along 100\n",
        "Inside nlce_dens\n",
        "OK: Radial density profile along 111 decreases monotonically."
       ]
      },
      {
       "output_type": "stream",
       "stream": "stdout",
       "text": [
        "\n",
        "Inside nlce_entr\n",
        "Inside nlce_dens"
       ]
      },
      {
       "output_type": "stream",
       "stream": "stdout",
       "text": [
        "\n",
        "Calculating Spi_Bulk for U=11.08, T=0.50"
       ]
      },
      {
       "output_type": "stream",
       "stream": "stdout",
       "text": [
        "\n",
        "Inside nlce_dens"
       ]
      },
      {
       "output_type": "stream",
       "stream": "stdout",
       "text": [
        "\n",
        "Inside nlce_entr"
       ]
      },
      {
       "output_type": "stream",
       "stream": "stdout",
       "text": [
        "\n",
        "Inside nlce_spi"
       ]
      },
      {
       "output_type": "stream",
       "stream": "stdout",
       "text": [
        "\n",
        "Total natoms from adding bins = "
       ]
      },
      {
       "output_type": "stream",
       "stream": "stdout",
       "text": [
        " 1.0\n",
        "\n"
       ]
      },
      {
       "output_type": "stream",
       "stream": "stdout",
       "text": [
        "|   Atoms in bin |   n min |   n max |   Mean n |   Mean t |   Mean U |   Mean U/t |\n",
        "|----------------+---------+---------+----------+----------+----------+------------|\n",
        "|          0.235 |   1.134 |   1.493 |    1.270 |    0.043 |    0.414 |      9.566 |\n",
        "|          0.182 |   0.997 |   1.134 |    1.050 |    0.049 |    0.385 |      7.895 |\n",
        "|          0.168 |   0.797 |   0.997 |    0.910 |    0.053 |    0.366 |      6.942 |\n",
        "|          0.220 |   0.448 |   0.797 |    0.650 |    0.057 |    0.344 |      6.001 |\n",
        "|          0.195 |   0.000 |   0.448 |    0.240 |    0.066 |    0.310 |      4.713 |\n",
        "\n"
       ]
      },
      {
       "output_type": "stream",
       "stream": "stdout",
       "text": [
        "6\n",
        "OK: Bottom of the band has positive slope up to r111 = 10 um\n",
        "bandOrigin = -13.91\n",
        "band100 = -4.64\n",
        "0.245369142754\n",
        "OK: Chemical potential is below evaporation threshold.\n",
        "OK: Chemical potential is below the bottom of the band along 100\n",
        "Inside nlce_dens\n",
        "ERROR: Radial density profile along 111 has a positive slope"
       ]
      },
      {
       "output_type": "stream",
       "stream": "stdout",
       "text": [
        "\n",
        "\n",
        "\n",
        "radius check start =  0.001\n",
        "[  1.63822426e+00   1.64086285e+00   1.63611509e+00   1.61569610e+00\n",
        "   1.61571055e+00   1.59311476e+00   1.56939242e+00   1.55654808e+00\n",
        "   1.53612047e+00   1.50749223e+00   1.46258438e+00   1.42975151e+00\n",
        "   1.39780098e+00   1.36437621e+00   1.31959031e+00   1.28157262e+00\n",
        "   1.23723965e+00   1.19621725e+00   1.15719987e+00   1.12131457e+00\n",
        "   1.08464226e+00   1.04263944e+00   1.00099288e+00   9.45641162e-01\n",
        "   8.79987202e-01   8.02528334e-01   7.16746520e-01   6.24940601e-01\n",
        "   5.43159136e-01   4.49209662e-01   3.55201189e-01   2.75928702e-01\n",
        "   2.11175780e-01   1.46204670e-01   1.00576554e-01   6.25769854e-02\n",
        "   3.52472881e-02   1.03662651e-02   1.99001961e-03   3.01834644e-04]\n",
        "[ True False False False False False False False False False False False\n",
        " False False False False False False False False False False False False\n",
        " False False False False False False False False False False False False\n",
        " False False False]\n",
        "Inside nlce_entr\n",
        "Inside nlce_dens"
       ]
      },
      {
       "output_type": "stream",
       "stream": "stdout",
       "text": [
        "\n",
        "Calculating Spi_Bulk for U=11.08, T=0.50"
       ]
      },
      {
       "output_type": "stream",
       "stream": "stdout",
       "text": [
        "\n",
        "Inside nlce_dens"
       ]
      },
      {
       "output_type": "stream",
       "stream": "stdout",
       "text": [
        "\n",
        "Inside nlce_entr"
       ]
      },
      {
       "output_type": "stream",
       "stream": "stdout",
       "text": [
        "\n",
        "Inside nlce_spi"
       ]
      },
      {
       "output_type": "stream",
       "stream": "stdout",
       "text": [
        "\n",
        "Total natoms from adding bins = "
       ]
      },
      {
       "output_type": "stream",
       "stream": "stdout",
       "text": [
        " 1.0\n",
        "\n"
       ]
      },
      {
       "output_type": "stream",
       "stream": "stdout",
       "text": [
        "|   Atoms in bin |   n min |   n max |   Mean n |   Mean t |   Mean U |   Mean U/t |\n",
        "|----------------+---------+---------+----------+----------+----------+------------|\n",
        "|          0.219 |   1.224 |   1.638 |    1.400 |    0.043 |    0.414 |      9.570 |\n",
        "|          0.166 |   1.051 |   1.224 |    1.140 |    0.049 |    0.385 |      7.895 |\n",
        "|          0.266 |   0.797 |   1.051 |    0.940 |    0.054 |    0.360 |      6.663 |\n",
        "|          0.153 |   0.463 |   0.797 |    0.630 |    0.060 |    0.334 |      5.594 |\n",
        "|          0.196 |   0.000 |   0.463 |    0.250 |    0.068 |    0.302 |      4.452 |\n"
       ]
      }
     ],
     "prompt_number": 10
    },
    {
     "cell_type": "code",
     "collapsed": false,
     "input": [
      "from matplotlib import rc\n",
      "rc('font', **{'family':'serif'})\n",
      "rc('text', usetex=True)\n",
      "\n",
      "fig = plt.figure(figsize=(7.,4))\n",
      "gs = matplotlib.gridspec.GridSpec(2,3,\\\n",
      "        wspace=0.45, hspace=0.08,\\\n",
      "        left=0.075, right=0.96, bottom=0.12, top=0.9)\n",
      "\n",
      "axn = fig.add_subplot( gs[0,0])\n",
      "axSpi = fig.add_subplot( gs[1,0])\n",
      "axT = fig.add_subplot( gs[0,1])\n",
      "axU = fig.add_subplot( gs[1,1])\n",
      "\n",
      "axSpiB = fig.add_subplot(gs[0,2])\n",
      "axFrac = fig.add_subplot(gs[1,2])\n",
      "\n",
      "U0 = spis[0]['U111'].max()\n",
      "T0 = spis[0]['Tspi']\n",
      "fig.text(0.5, 0.98, r'$[U/t]_{{0}}={:0.1f}\\ , \\  \\ $'.format(U0) + \n",
      "                    r'$[T/t]_{{0}}={:0.2f}$'.format(T0) ,\\\n",
      "         ha='center', va='top', fontsize=14) \n",
      "\n",
      "results = [] \n",
      "for spi in spis:\n",
      "    spiB = spi['SpiBulk']\n",
      "    spi0 = spi['spi111'].max()\n",
      "    \n",
      "    # effective contributing fraction\n",
      "    x = (spiB - 1.)/(spi0-1.)\n",
      "    \n",
      "    #print \"U={:0.1f}  => N={:0.2e}  Spi(Bulk)={:0.2f}   Spi(max)={:0.2f}   x={:.0f}%\".format( \\\n",
      "    #                    spi['U111'].max(), spi['Number'], spiB, spi0, x*100.  )\n",
      "    \n",
      "    results.append( [spi['Number']/1e5, spiB, x*100.] )\n",
      "    \n",
      "    \n",
      "    t0 = spi['t111'].min()\n",
      "    #print \"T (density) = \", spi['Tn']/t0\n",
      "    Tspi = spi['Tspi']\n",
      "    \n",
      "    axn.plot(spi['r111'], spi['n111'])\n",
      "    axSpi.plot(spi['r111'], spi['spi111'])\n",
      "    axT.plot( spi['r111'], Tspi * t0 / spi['t111']  )\n",
      "    axU.plot( spi['r111'], spi['U111'])\n",
      "results = np.array(results)\n",
      "axSpiB.plot( results[:,0], results[:,1],'.-')\n",
      "axFrac.plot( results[:,0], results[:,2],'.-')\n",
      "\n",
      "axn.set_ylabel('$n$', rotation=0, labelpad=12, fontsize=13)\n",
      "axT.set_ylabel('$T/t$', rotation=0, labelpad=12, fontsize=13)\n",
      "axU.set_ylabel('$U/t$', rotation=0, labelpad=12, fontsize=13)\n",
      "axSpi.set_ylabel(r'$\\frac{S_{\\pi}}{n}$', rotation=0, labelpad=12, fontsize=13)\n",
      "axSpiB.set_ylabel(r'$\\bar{S_{\\pi}}$', rotation=0, labelpad=12, fontsize=13)\n",
      "axFrac.set_ylabel('Effective fraction (\\%)')\n",
      "axFrac.set_xlabel('$N/10^{5}$')\n",
      "    \n",
      "for ax in [axn, axT, axSpiB]:\n",
      "    ax.xaxis.set_ticklabels([])\n",
      "for ax in [axSpi, axU]:\n",
      "    ax.set_xlabel('$r_{111}\\ (\\mu\\mathrm{m})$')\n",
      "    \n",
      "    \n",
      "for ax in [axn, axSpi, axT, axU, axSpiB, axFrac]:\n",
      "    ax.grid(alpha=0.5)\n",
      "    \n",
      "fig.savefig('dataplots/VaryN/U11.1.png', dpi=300)"
     ],
     "language": "python",
     "metadata": {},
     "outputs": [
      {
       "metadata": {},
       "output_type": "display_data",
       "png": "[encoded data removed]",
       "text": [
        "<matplotlib.figure.Figure at 0xb08e34c>"
       ]
      }
     ],
     "prompt_number": 17
    }
   ],
   "metadata": {}
  }
 ]
}