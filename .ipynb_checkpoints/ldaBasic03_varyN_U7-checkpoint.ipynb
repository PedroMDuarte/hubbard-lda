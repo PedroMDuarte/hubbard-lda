{
 "metadata": {
  "name": "",
  "signature": "sha256:b4502166603e942eededd75f0e0085a398db4e17289bfedb6c7e7daccd6b49d6"
 },
 "nbformat": 3,
 "nbformat_minor": 0,
 "worksheets": [
  {
   "cells": [
    {
     "cell_type": "code",
     "collapsed": false,
     "input": [
      "import scubic\n",
      "import lda\n",
      "    \n",
      "g0=3.666\n",
      "#g0 = 3.30\n",
      "\n",
      "profs = [ \n",
      "        #0 T/t = 0.8 at center N=XXe5 \n",
      "        {'wIR':47.,\\\n",
      "         'wGR':47./1.175,\\\n",
      "         'g0':g0,\\\n",
      "         's0':7.,\\\n",
      "         'extents':30.,\\\n",
      "         'T':0.035,\\\n",
      "         'aS':200.,\\\n",
      "         'mu0':'halfMott',\\\n",
      "         'muPlus':-0.15,\\\n",
      "         'direc':'111'\n",
      "        },\n",
      "        #0 T/t = 0.8 at center N=XXe5 \n",
      "        {'wIR':47.,\\\n",
      "         'wGR':47./1.175,\\\n",
      "         'g0':g0,\\\n",
      "         's0':7.,\\\n",
      "         'extents':30.,\\\n",
      "         'T':0.035,\\\n",
      "         'aS':200.,\\\n",
      "         'mu0':'halfMott',\\\n",
      "         'muPlus':-0.075,\\\n",
      "         'direc':'111'\n",
      "        },\n",
      "        #0 T/t = 0.8 at center N=XXe5 \n",
      "        {'wIR':47.,\\\n",
      "         'wGR':47./1.175,\\\n",
      "         'g0':g0,\\\n",
      "         's0':7.,\\\n",
      "         'extents':30.,\\\n",
      "         'T':0.035,\\\n",
      "         'aS':200.,\\\n",
      "         'mu0':'halfMott',\\\n",
      "         'muPlus':0.,\\\n",
      "         'direc':'111'\n",
      "        },\n",
      "        #0 T/t = 0.8 at center N=XXe5 \n",
      "        {'wIR':47.,\\\n",
      "         'wGR':47./1.175,\\\n",
      "         'g0':g0,\\\n",
      "         's0':7.,\\\n",
      "         'extents':30.,\\\n",
      "         'T':0.035,\\\n",
      "         'aS':200.,\\\n",
      "         'mu0':'halfMott',\\\n",
      "         'muPlus':0.06,\\\n",
      "         'direc':'111'\n",
      "        },\n",
      "        #0 T/t = 0.8 at center N=XXe5 \n",
      "        {'wIR':47.,\\\n",
      "         'wGR':47./1.175,\\\n",
      "         'g0':g0,\\\n",
      "         's0':7.,\\\n",
      "         'extents':30.,\\\n",
      "         'T':0.035,\\\n",
      "         'aS':200.,\\\n",
      "         'mu0':'halfMott',\\\n",
      "         'muPlus':0.120,\\\n",
      "         'direc':'111'\n",
      "        },\n",
      "        #0 T/t = 0.8 at center N=XXe5 \n",
      "        {'wIR':47.,\\\n",
      "         'wGR':47./1.175,\\\n",
      "         'g0':g0,\\\n",
      "         's0':7.,\\\n",
      "         'extents':30.,\\\n",
      "         'T':0.035,\\\n",
      "         'aS':200.,\\\n",
      "         'mu0':'halfMott',\\\n",
      "         'muPlus':0.2,\\\n",
      "         'direc':'111'\n",
      "        },\n",
      "        #0 T/t = 0.8 at center N=XXe5 \n",
      "        {'wIR':47.,\\\n",
      "         'wGR':47./1.175,\\\n",
      "         'g0':g0,\\\n",
      "         's0':7.,\\\n",
      "         'extents':30.,\\\n",
      "         'T':0.035,\\\n",
      "         'aS':200.,\\\n",
      "         'mu0':'halfMott',\\\n",
      "         'muPlus':0.25,\\\n",
      "         'direc':'111'\n",
      "        },\n",
      "        #0 T/t = 0.8 at center N=XXe5 \n",
      "        {'wIR':47.,\\\n",
      "         'wGR':47./1.175,\\\n",
      "         'g0':g0,\\\n",
      "         's0':7.,\\\n",
      "         'extents':30.,\\\n",
      "         'T':0.035,\\\n",
      "         'aS':200.,\\\n",
      "         'mu0':'halfMott',\\\n",
      "         'muPlus':0.3,\\\n",
      "         'direc':'111'\n",
      "        },\n",
      "        ]\n",
      "\n",
      "\n",
      "tags = range(len(profs)) \n",
      "#tags = [0,1] \n",
      "outs = [] \n",
      "spis = [] \n",
      "\n",
      "for tag in tags:\n",
      "\n",
      "    print '\\n',tag\n",
      "    \n",
      "    s       = profs[tag]['s0']\n",
      "    g       = profs[tag]['g0']\n",
      "    wIR     = profs[tag]['wIR']\n",
      "    wGR     = profs[tag]['wGR']\n",
      "    T       = profs[tag]['T'] \n",
      "    extents = profs[tag]['extents']\n",
      "    direc   = profs[tag]['direc'] \n",
      "    aS      = profs[tag].get('aS',650.)\n",
      "    mu0     = profs[tag].get('mu0','halfMott')\n",
      "    muPlus  = profs[tag].get('muPlus', 0.0)\n",
      "    x2lims  = profs[tag].get('x2lims', (-40.,40.))\n",
      "    y2lims  = profs[tag].get('y2lims', (0.,1.3))\n",
      "    \n",
      "    select = 'nlce'\n",
      "    \n",
      "    pot = scubic.sc(allIR=s, allGR=g, allIRw=wIR, allGRw=wGR)\n",
      "    \n",
      "    lda0 = lda.lda(potential = pot, Temperature=T, a_s=aS, extents=extents, \\\n",
      "                   globalMu=mu0, halfMottPlus=muPlus,\\\n",
      "                   verbose=True, \\\n",
      "                   select = select,\\\n",
      "                   ignoreExtents=False, ignoreSlopeErrors=True, ignoreMuThreshold=True)\n",
      "    \n",
      "    Tspi = 0.5\n",
      "    spibulk, spi, r111, n111, U111, t111 = lda0.getBulkSpi(Tspi=Tspi)\n",
      "    spis.append( {'SpiBulk':spibulk,\\\n",
      "                  'spi111':spi,\\\n",
      "                  'r111':r111,\\\n",
      "                  'n111':n111,\\\n",
      "                  'U111':U111,\\\n",
      "                  't111':t111,\\\n",
      "                  'Number':lda0.Number,\\\n",
      "                  'Tn':T,\\\n",
      "                  'Tspi':Tspi,\\\n",
      "                  } ) \n",
      "    \n",
      "    # Figure to chech inhomogeneity\n",
      "    fig111, binresult, peak_dens, radius1e, peak_t, output = lda.CheckInhomog( lda0, closefig = True, n_ylim=(-0.1,2.0) ) ;\n",
      "    fig111.savefig('dataplots/Basic03/{:0.3f}gr_{:03d}_{}_T{:0.4f}Er.png'.format(g0,tag,select,T), dpi=300)\n",
      "    \n",
      "    outs.append( (aS, output, binresult))"
     ],
     "language": "python",
     "metadata": {},
     "outputs": [
      {
       "output_type": "stream",
       "stream": "stdout",
       "text": [
        "\n",
        "0\n",
        "OK: Bottom of the band has positive slope up to r111 = 10 um\n",
        "bandOrigin = -13.91\n",
        "band100 = -4.64\n",
        "0.245369142754\n",
        "OK: Chemical potential is below evaporation threshold.\n",
        "OK: Chemical potential is below the bottom of the band along 100\n",
        "Inside nlce_dens\n",
        "OK: Radial density profile along 111 decreases monotonically."
       ]
      },
      {
       "output_type": "stream",
       "stream": "stdout",
       "text": [
        "\n",
        "Inside nlce_entr\n",
        "Inside nlce_dens"
       ]
      },
      {
       "output_type": "stream",
       "stream": "stdout",
       "text": [
        "\n",
        "Calculating Spi_Bulk for U=7.64, T=0.50"
       ]
      },
      {
       "output_type": "stream",
       "stream": "stdout",
       "text": [
        "\n",
        "Inside nlce_dens"
       ]
      },
      {
       "output_type": "stream",
       "stream": "stdout",
       "text": [
        "\n",
        "Inside nlce_entr"
       ]
      },
      {
       "output_type": "stream",
       "stream": "stdout",
       "text": [
        "\n",
        "Inside nlce_spi"
       ]
      },
      {
       "output_type": "stream",
       "stream": "stdout",
       "text": [
        "\n",
        "Total natoms from adding bins = "
       ]
      },
      {
       "output_type": "stream",
       "stream": "stdout",
       "text": [
        " 1.0\n",
        "\n"
       ]
      },
      {
       "output_type": "stream",
       "stream": "stdout",
       "text": [
        "|   Atoms in bin |   n min |   n max |   Mean n |   Mean t |   Mean U |   Mean U/t |\n",
        "|----------------+---------+---------+----------+----------+----------+------------|\n",
        "|          0.230 |   0.436 |   0.633 |    0.530 |    0.041 |    0.297 |      7.277 |\n",
        "|          0.138 |   0.335 |   0.436 |    0.390 |    0.042 |    0.289 |      6.812 |\n",
        "|          0.237 |   0.234 |   0.335 |    0.290 |    0.044 |    0.283 |      6.430 |\n",
        "|          0.210 |   0.111 |   0.234 |    0.160 |    0.046 |    0.275 |      5.928 |\n",
        "|          0.185 |   0.000 |   0.111 |    0.050 |    0.050 |    0.260 |      5.188 |\n",
        "\n"
       ]
      },
      {
       "output_type": "stream",
       "stream": "stdout",
       "text": [
        "1\n",
        "OK: Bottom of the band has positive slope up to r111 = 10 um\n",
        "bandOrigin = -13.91\n",
        "band100 = -4.64\n",
        "0.245369142754\n",
        "OK: Chemical potential is below evaporation threshold.\n",
        "OK: Chemical potential is below the bottom of the band along 100\n",
        "Inside nlce_dens\n",
        "ERROR: Radial density profile along 111 has a positive slope"
       ]
      },
      {
       "output_type": "stream",
       "stream": "stdout",
       "text": [
        "\n",
        "\n",
        "\n",
        "radius check start =  0.001\n",
        "[ 0.84629651  0.84658768  0.83776438  0.82913677  0.81965511  0.8004758\n",
        "  0.77966183  0.75772937  0.72361659  0.68726445  0.64987704  0.61070463\n",
        "  0.56138752  0.50320112  0.44895237  0.39532221  0.34312372  0.28080952\n",
        "  0.23436776  0.18098848  0.13424223  0.09547645  0.06399182  0.04376494\n",
        "  0.02532408  0.01354977  0.00518661  0.00192035  0.          0.          0.\n",
        "  0.          0.          0.          0.          0.          0.          0.\n",
        "  0.          0.        ]\n",
        "[ True False False False False False False False False False False False\n",
        " False False False False False False False False False False False False\n",
        " False False False False False False False False False False False False\n",
        " False False False]\n",
        "Inside nlce_entr\n",
        "Inside nlce_dens"
       ]
      },
      {
       "output_type": "stream",
       "stream": "stdout",
       "text": [
        "\n",
        "Calculating Spi_Bulk for U=7.64, T=0.50"
       ]
      },
      {
       "output_type": "stream",
       "stream": "stdout",
       "text": [
        "\n",
        "Inside nlce_dens"
       ]
      },
      {
       "output_type": "stream",
       "stream": "stdout",
       "text": [
        "\n",
        "Inside nlce_entr"
       ]
      },
      {
       "output_type": "stream",
       "stream": "stdout",
       "text": [
        "\n",
        "Inside nlce_spi"
       ]
      },
      {
       "output_type": "stream",
       "stream": "stdout",
       "text": [
        "\n",
        "Total natoms from adding bins = "
       ]
      },
      {
       "output_type": "stream",
       "stream": "stdout",
       "text": [
        " 1.0\n",
        "\n"
       ]
      },
      {
       "output_type": "stream",
       "stream": "stdout",
       "text": [
        "|   Atoms in bin |   n min |   n max |   Mean n |   Mean t |   Mean U |   Mean U/t |\n",
        "|----------------+---------+---------+----------+----------+----------+------------|\n",
        "|          0.221 |   0.644 |   0.846 |    0.740 |    0.041 |    0.295 |      7.197 |\n",
        "|          0.195 |   0.486 |   0.644 |    0.560 |    0.043 |    0.286 |      6.586 |\n",
        "|          0.220 |   0.321 |   0.486 |    0.400 |    0.046 |    0.277 |      6.097 |\n",
        "|          0.193 |   0.181 |   0.321 |    0.240 |    0.048 |    0.268 |      5.556 |\n",
        "|          0.171 |   0.000 |   0.181 |    0.070 |    0.053 |    0.252 |      4.782 |\n",
        "\n"
       ]
      },
      {
       "output_type": "stream",
       "stream": "stdout",
       "text": [
        "2\n",
        "OK: Bottom of the band has positive slope up to r111 = 10 um\n",
        "bandOrigin = -13.91\n",
        "band100 = -4.64\n",
        "0.245369142754\n",
        "OK: Chemical potential is below evaporation threshold.\n",
        "OK: Chemical potential is below the bottom of the band along 100\n",
        "Inside nlce_dens\n",
        "ERROR: Radial density profile along 111 has a positive slope"
       ]
      },
      {
       "output_type": "stream",
       "stream": "stdout",
       "text": [
        "\n",
        "\n",
        "\n",
        "radius check start =  0.001\n",
        "[  1.00542025e+00   1.00616811e+00   1.00005244e+00   9.94532648e-01\n",
        "   9.87005155e-01   9.74207413e-01   9.61043162e-01   9.38791268e-01\n",
        "   9.14688767e-01   8.88984157e-01   8.61284152e-01   8.21471476e-01\n",
        "   7.89044428e-01   7.29558657e-01   6.78951181e-01   6.26391246e-01\n",
        "   5.50619787e-01   4.92144500e-01   4.23249363e-01   3.56174708e-01\n",
        "   2.91538478e-01   2.32083400e-01   1.78133456e-01   1.22826649e-01\n",
        "   8.48850109e-02   5.38581595e-02   3.10321769e-02   1.57780825e-02\n",
        "   7.70196749e-03   2.80912919e-03   3.84265693e-04   0.00000000e+00\n",
        "   0.00000000e+00   0.00000000e+00   0.00000000e+00   0.00000000e+00\n",
        "   0.00000000e+00   0.00000000e+00   0.00000000e+00   0.00000000e+00]\n",
        "[ True False False False False False False False False False False False\n",
        " False False False False False False False False False False False False\n",
        " False False False False False False False False False False False False\n",
        " False False False]\n",
        "Inside nlce_entr\n",
        "Inside nlce_dens"
       ]
      },
      {
       "output_type": "stream",
       "stream": "stdout",
       "text": [
        "\n",
        "Calculating Spi_Bulk for U=7.64, T=0.50"
       ]
      },
      {
       "output_type": "stream",
       "stream": "stdout",
       "text": [
        "\n",
        "Inside nlce_dens"
       ]
      },
      {
       "output_type": "stream",
       "stream": "stdout",
       "text": [
        "\n",
        "Inside nlce_entr"
       ]
      },
      {
       "output_type": "stream",
       "stream": "stdout",
       "text": [
        "\n",
        "Inside nlce_spi"
       ]
      },
      {
       "output_type": "stream",
       "stream": "stdout",
       "text": [
        "\n",
        "Total natoms from adding bins = "
       ]
      },
      {
       "output_type": "stream",
       "stream": "stdout",
       "text": [
        " 1.0\n",
        "\n"
       ]
      },
      {
       "output_type": "stream",
       "stream": "stdout",
       "text": [
        "|   Atoms in bin |   n min |   n max |   Mean n |   Mean t |   Mean U |   Mean U/t |\n",
        "|----------------+---------+---------+----------+----------+----------+------------|\n",
        "|          0.212 |   0.806 |   1.005 |    0.910 |    0.041 |    0.294 |      7.107 |\n",
        "|          0.177 |   0.651 |   0.806 |    0.730 |    0.044 |    0.283 |      6.426 |\n",
        "|          0.276 |   0.419 |   0.651 |    0.520 |    0.047 |    0.273 |      5.829 |\n",
        "|          0.125 |   0.248 |   0.419 |    0.330 |    0.050 |    0.262 |      5.274 |\n",
        "|          0.210 |   0.000 |   0.248 |    0.130 |    0.054 |    0.247 |      4.547 |\n",
        "\n"
       ]
      },
      {
       "output_type": "stream",
       "stream": "stdout",
       "text": [
        "3\n",
        "OK: Bottom of the band has positive slope up to r111 = 10 um\n",
        "bandOrigin = -13.91\n",
        "band100 = -4.64\n",
        "0.245369142754\n",
        "OK: Chemical potential is below evaporation threshold.\n",
        "OK: Chemical potential is below the bottom of the band along 100\n",
        "Inside nlce_dens\n",
        "ERROR: Radial density profile along 111 has a positive slope"
       ]
      },
      {
       "output_type": "stream",
       "stream": "stdout",
       "text": [
        "\n",
        "\n",
        "\n",
        "radius check start =  0.001\n",
        "[  1.12050058e+00   1.12175280e+00   1.12223097e+00   1.11572234e+00\n",
        "   1.11032669e+00   1.10025171e+00   1.07611017e+00   1.06526582e+00\n",
        "   1.04737449e+00   1.02844644e+00   9.94959932e-01   9.64582274e-01\n",
        "   9.29633994e-01   8.92114510e-01   8.51966105e-01   7.95166148e-01\n",
        "   7.35239257e-01   6.72103006e-01   6.05435564e-01   5.22547615e-01\n",
        "   4.52371554e-01   3.69661801e-01   3.03374356e-01   2.42332283e-01\n",
        "   1.76356810e-01   1.27342130e-01   8.09800762e-02   5.02748168e-02\n",
        "   2.38393443e-02   1.03339673e-02   4.70607112e-03   3.11118958e-03\n",
        "   3.16275062e-04   0.00000000e+00   0.00000000e+00   0.00000000e+00\n",
        "   0.00000000e+00   0.00000000e+00   0.00000000e+00   0.00000000e+00]\n",
        "[ True  True False False False False False False False False False False\n",
        " False False False False False False False False False False False False\n",
        " False False False False False False False False False False False False\n",
        " False False False]\n",
        "Inside nlce_entr\n",
        "Inside nlce_dens"
       ]
      },
      {
       "output_type": "stream",
       "stream": "stdout",
       "text": [
        "\n",
        "Calculating Spi_Bulk for U=7.64, T=0.50"
       ]
      },
      {
       "output_type": "stream",
       "stream": "stdout",
       "text": [
        "\n",
        "Inside nlce_dens"
       ]
      },
      {
       "output_type": "stream",
       "stream": "stdout",
       "text": [
        "\n",
        "Inside nlce_entr"
       ]
      },
      {
       "output_type": "stream",
       "stream": "stdout",
       "text": [
        "\n",
        "Inside nlce_spi"
       ]
      },
      {
       "output_type": "stream",
       "stream": "stdout",
       "text": [
        "\n",
        "Total natoms from adding bins = "
       ]
      },
      {
       "output_type": "stream",
       "stream": "stdout",
       "text": [
        " 1.0\n",
        "\n"
       ]
      },
      {
       "output_type": "stream",
       "stream": "stdout",
       "text": [
        "|   Atoms in bin |   n min |   n max |   Mean n |   Mean t |   Mean U |   Mean U/t |\n",
        "|----------------+---------+---------+----------+----------+----------+------------|\n",
        "|          0.217 |   0.926 |   1.121 |    1.020 |    0.042 |    0.293 |      7.014 |\n",
        "|          0.232 |   0.724 |   0.926 |    0.820 |    0.045 |    0.279 |      6.172 |\n",
        "|          0.135 |   0.535 |   0.724 |    0.640 |    0.048 |    0.269 |      5.642 |\n",
        "|          0.243 |   0.303 |   0.535 |    0.420 |    0.051 |    0.259 |      5.092 |\n",
        "|          0.173 |   0.000 |   0.303 |    0.130 |    0.057 |    0.239 |      4.205 |\n",
        "\n"
       ]
      },
      {
       "output_type": "stream",
       "stream": "stdout",
       "text": [
        "4\n",
        "OK: Bottom of the band has positive slope up to r111 = 10 um\n",
        "bandOrigin = -13.91\n",
        "band100 = -4.64\n",
        "0.245369142754\n",
        "OK: Chemical potential is below evaporation threshold.\n",
        "OK: Chemical potential is below the bottom of the band along 100\n",
        "Inside nlce_dens\n",
        "ERROR: Radial density profile along 111 has a positive slope"
       ]
      },
      {
       "output_type": "stream",
       "stream": "stdout",
       "text": [
        "\n",
        "\n",
        "\n",
        "radius check start =  0.001\n",
        "[ 1.28305964  1.27295968  1.26834646  1.26135087  1.2554492   1.24325269\n",
        "  1.21916526  1.20894808  1.17752189  1.158331    1.12790368  1.09546178\n",
        "  1.06843953  1.035463    0.99053136  0.94302413  0.89490477  0.84439649\n",
        "  0.77278039  0.70838124  0.62580161  0.54078033  0.45413218  0.38364242\n",
        "  0.30266099  0.22889475  0.17452704  0.11710094  0.073057    0.04256954\n",
        "  0.01980348  0.00608761  0.0021234   0.00300754  0.          0.          0.\n",
        "  0.          0.          0.        ]\n",
        "[False False False False False False False False False False False False\n",
        " False False False False False False False False False False False False\n",
        " False False False False False False False False  True False False False\n",
        " False False False]\n",
        "Inside nlce_entr\n",
        "Inside nlce_dens"
       ]
      },
      {
       "output_type": "stream",
       "stream": "stdout",
       "text": [
        "\n",
        "Calculating Spi_Bulk for U=7.64, T=0.50"
       ]
      },
      {
       "output_type": "stream",
       "stream": "stdout",
       "text": [
        "\n",
        "Inside nlce_dens"
       ]
      },
      {
       "output_type": "stream",
       "stream": "stdout",
       "text": [
        "\n",
        "Inside nlce_entr"
       ]
      },
      {
       "output_type": "stream",
       "stream": "stdout",
       "text": [
        "\n",
        "Inside nlce_spi"
       ]
      },
      {
       "output_type": "stream",
       "stream": "stdout",
       "text": [
        "\n",
        "Total natoms from adding bins = "
       ]
      },
      {
       "output_type": "stream",
       "stream": "stdout",
       "text": [
        " 1.0\n",
        "\n"
       ]
      },
      {
       "output_type": "stream",
       "stream": "stdout",
       "text": [
        "|   Atoms in bin |   n min |   n max |   Mean n |   Mean t |   Mean U |   Mean U/t |\n",
        "|----------------+---------+---------+----------+----------+----------+------------|\n",
        "|          0.182 |   1.039 |   1.283 |    1.150 |    0.042 |    0.292 |      7.013 |\n",
        "|          0.201 |   0.856 |   1.039 |    0.960 |    0.045 |    0.279 |      6.169 |\n",
        "|          0.190 |   0.634 |   0.856 |    0.770 |    0.048 |    0.268 |      5.548 |\n",
        "|          0.239 |   0.365 |   0.634 |    0.500 |    0.052 |    0.255 |      4.897 |\n",
        "|          0.188 |   0.000 |   0.365 |    0.170 |    0.059 |    0.234 |      3.995 |\n",
        "\n"
       ]
      },
      {
       "output_type": "stream",
       "stream": "stdout",
       "text": [
        "5\n",
        "OK: Bottom of the band has positive slope up to r111 = 10 um\n",
        "bandOrigin = -13.91\n",
        "band100 = -4.64\n",
        "0.245369142754\n",
        "OK: Chemical potential is below evaporation threshold.\n",
        "OK: Chemical potential is below the bottom of the band along 100\n",
        "Inside nlce_dens\n",
        "ERROR: Radial density profile along 111 has a positive slope"
       ]
      },
      {
       "output_type": "stream",
       "stream": "stdout",
       "text": [
        "\n",
        "\n",
        "\n",
        "radius check start =  0.001\n",
        "[  1.53305964e+00   1.51739881e+00   1.52128011e+00   1.50581616e+00\n",
        "   1.49719445e+00   1.47187805e+00   1.45233960e+00   1.42780884e+00\n",
        "   1.40336252e+00   1.36752006e+00   1.33972362e+00   1.30385216e+00\n",
        "   1.27672516e+00   1.22714432e+00   1.18616028e+00   1.13411729e+00\n",
        "   1.08745415e+00   1.03112533e+00   9.86963121e-01   9.25048488e-01\n",
        "   8.55434652e-01   7.76080083e-01   6.92193965e-01   6.04963885e-01\n",
        "   5.01191683e-01   4.12893139e-01   3.34877176e-01   2.49326863e-01\n",
        "   1.86148427e-01   1.35659199e-01   8.55942364e-02   4.51819053e-02\n",
        "   1.98700116e-02   4.18071081e-03   2.31642309e-03   1.57734767e-03\n",
        "   1.33353658e-04   0.00000000e+00   0.00000000e+00   0.00000000e+00]\n",
        "[False  True False False False False False False False False False False\n",
        " False False False False False False False False False False False False\n",
        " False False False False False False False False False False False False\n",
        " False False False]\n",
        "Inside nlce_entr\n",
        "Inside nlce_dens"
       ]
      },
      {
       "output_type": "stream",
       "stream": "stdout",
       "text": [
        "\n",
        "Calculating Spi_Bulk for U=7.64, T=0.50"
       ]
      },
      {
       "output_type": "stream",
       "stream": "stdout",
       "text": [
        "\n",
        "Inside nlce_dens"
       ]
      },
      {
       "output_type": "stream",
       "stream": "stdout",
       "text": [
        "\n",
        "Inside nlce_entr"
       ]
      },
      {
       "output_type": "stream",
       "stream": "stdout",
       "text": [
        "\n",
        "Inside nlce_spi"
       ]
      },
      {
       "output_type": "stream",
       "stream": "stdout",
       "text": [
        "\n",
        "Total natoms from adding bins = "
       ]
      },
      {
       "output_type": "stream",
       "stream": "stdout",
       "text": [
        " 1.0\n",
        "\n"
       ]
      },
      {
       "output_type": "stream",
       "stream": "stdout",
       "text": [
        "|   Atoms in bin |   n min |   n max |   Mean n |   Mean t |   Mean U |   Mean U/t |\n",
        "|----------------+---------+---------+----------+----------+----------+------------|\n",
        "|          0.188 |   1.194 |   1.533 |    1.350 |    0.042 |    0.291 |      6.915 |\n",
        "|          0.241 |   0.967 |   1.194 |    1.080 |    0.046 |    0.274 |      5.898 |\n",
        "|          0.181 |   0.749 |   0.967 |    0.850 |    0.050 |    0.260 |      5.174 |\n",
        "|          0.222 |   0.394 |   0.749 |    0.560 |    0.055 |    0.246 |      4.519 |\n",
        "|          0.167 |   0.000 |   0.394 |    0.190 |    0.062 |    0.225 |      3.644 |\n",
        "\n"
       ]
      },
      {
       "output_type": "stream",
       "stream": "stdout",
       "text": [
        "6\n",
        "OK: Bottom of the band has positive slope up to r111 = 10 um\n",
        "bandOrigin = -13.91\n",
        "band100 = -4.64\n",
        "0.245369142754\n",
        "OK: Chemical potential is below evaporation threshold.\n",
        "OK: Chemical potential is below the bottom of the band along 100\n",
        "Inside nlce_dens\n",
        "ERROR: Radial density profile along 111 has a positive slope"
       ]
      },
      {
       "output_type": "stream",
       "stream": "stdout",
       "text": [
        "\n",
        "\n",
        "\n",
        "radius check start =  0.001\n",
        "[  1.67827234e+00   1.67992756e+00   1.67230315e+00   1.66911822e+00\n",
        "   1.64963320e+00   1.63118832e+00   1.60904601e+00   1.58053165e+00\n",
        "   1.55766929e+00   1.52241574e+00   1.48998321e+00   1.45271761e+00\n",
        "   1.41197728e+00   1.36636862e+00   1.31815861e+00   1.25757409e+00\n",
        "   1.21607742e+00   1.15904733e+00   1.11055159e+00   1.05097962e+00\n",
        "   9.85915885e-01   9.05853702e-01   8.26738827e-01   7.42078644e-01\n",
        "   6.38464782e-01   5.48833784e-01   4.53562838e-01   3.71442770e-01\n",
        "   2.89780950e-01   2.18647364e-01   1.55776343e-01   1.00951994e-01\n",
        "   5.62640929e-02   2.88601176e-02   8.35383674e-03   1.95344520e-03\n",
        "   5.59968064e-04   8.64890377e-04   0.00000000e+00   0.00000000e+00]\n",
        "[ True False False False False False False False False False False False\n",
        " False False False False False False False False False False False False\n",
        " False False False False False False False False False False False False\n",
        "  True False False]\n",
        "Inside nlce_entr\n",
        "Inside nlce_dens"
       ]
      },
      {
       "output_type": "stream",
       "stream": "stdout",
       "text": [
        "\n",
        "Calculating Spi_Bulk for U=7.64, T=0.50"
       ]
      },
      {
       "output_type": "stream",
       "stream": "stdout",
       "text": [
        "\n",
        "Inside nlce_dens"
       ]
      },
      {
       "output_type": "stream",
       "stream": "stdout",
       "text": [
        "\n",
        "Inside nlce_entr"
       ]
      },
      {
       "output_type": "stream",
       "stream": "stdout",
       "text": [
        "\n",
        "Inside nlce_spi"
       ]
      },
      {
       "output_type": "stream",
       "stream": "stdout",
       "text": [
        "\n",
        "Total natoms from adding bins = "
       ]
      },
      {
       "output_type": "stream",
       "stream": "stdout",
       "text": [
        " 1.0\n",
        "\n"
       ]
      },
      {
       "output_type": "stream",
       "stream": "stdout",
       "text": [
        "|   Atoms in bin |   n min |   n max |   Mean n |   Mean t |   Mean U |   Mean U/t |\n",
        "|----------------+---------+---------+----------+----------+----------+------------|\n",
        "|          0.207 |   1.303 |   1.678 |    1.470 |    0.043 |    0.289 |      6.815 |\n",
        "|          0.184 |   1.065 |   1.303 |    1.180 |    0.047 |    0.272 |      5.816 |\n",
        "|          0.228 |   0.812 |   1.065 |    0.940 |    0.051 |    0.258 |      5.076 |\n",
        "|          0.165 |   0.465 |   0.812 |    0.640 |    0.055 |    0.244 |      4.415 |\n",
        "|          0.216 |   0.000 |   0.465 |    0.260 |    0.063 |    0.223 |      3.580 |\n",
        "\n"
       ]
      },
      {
       "output_type": "stream",
       "stream": "stdout",
       "text": [
        "7\n",
        "OK: Bottom of the band has positive slope up to r111 = 10 um\n",
        "bandOrigin = -13.91\n",
        "band100 = -4.64\n",
        "0.245369142754\n",
        "OK: Chemical potential is below evaporation threshold.\n",
        "OK: Chemical potential is below the bottom of the band along 100\n",
        "Inside nlce_dens\n",
        "ERROR: Radial density profile along 111 has a positive slope"
       ]
      },
      {
       "output_type": "stream",
       "stream": "stdout",
       "text": [
        "\n",
        "\n",
        "\n",
        "radius check start =  0.001\n",
        "[  1.81691228e+00   1.81801718e+00   1.81021654e+00   1.79572234e+00\n",
        "   1.78703111e+00   1.76681271e+00   1.75257809e+00   1.73272023e+00\n",
        "   1.70334728e+00   1.67262437e+00   1.63998321e+00   1.60900609e+00\n",
        "   1.56902770e+00   1.51990321e+00   1.46282417e+00   1.40512297e+00\n",
        "   1.35686207e+00   1.30129670e+00   1.23181592e+00   1.17691075e+00\n",
        "   1.11416555e+00   1.04023700e+00   9.72066248e-01   8.80101345e-01\n",
        "   7.78299655e-01   6.90328668e-01   5.82561125e-01   4.95190893e-01\n",
        "   3.98696142e-01   3.13053896e-01   2.38972605e-01   1.67214768e-01\n",
        "   1.17680970e-01   7.27258596e-02   4.35977878e-02   1.20483379e-02\n",
        "   1.65415717e-03   5.15121253e-04   9.11296692e-04   0.00000000e+00]\n",
        "[ True False False False False False False False False False False False\n",
        " False False False False False False False False False False False False\n",
        " False False False False False False False False False False False False\n",
        " False  True False]\n",
        "Inside nlce_entr\n",
        "Inside nlce_dens"
       ]
      },
      {
       "output_type": "stream",
       "stream": "stdout",
       "text": [
        "\n",
        "Calculating Spi_Bulk for U=7.64, T=0.50"
       ]
      },
      {
       "output_type": "stream",
       "stream": "stdout",
       "text": [
        "\n",
        "Inside nlce_dens"
       ]
      },
      {
       "output_type": "stream",
       "stream": "stdout",
       "text": [
        "\n",
        "Inside nlce_entr"
       ]
      },
      {
       "output_type": "stream",
       "stream": "stdout",
       "text": [
        "\n",
        "Inside nlce_spi"
       ]
      },
      {
       "output_type": "stream",
       "stream": "stdout",
       "text": [
        "\n",
        "Total natoms from adding bins = "
       ]
      },
      {
       "output_type": "stream",
       "stream": "stdout",
       "text": [
        " 1.0\n",
        "\n"
       ]
      },
      {
       "output_type": "stream",
       "stream": "stdout",
       "text": [
        "|   Atoms in bin |   n min |   n max |   Mean n |   Mean t |   Mean U |   Mean U/t |\n",
        "|----------------+---------+---------+----------+----------+----------+------------|\n",
        "|          0.189 |   1.422 |   1.817 |    1.620 |    0.043 |    0.289 |      6.812 |\n",
        "|          0.220 |   1.163 |   1.422 |    1.290 |    0.047 |    0.271 |      5.718 |\n",
        "|          0.164 |   0.883 |   1.163 |    1.040 |    0.051 |    0.256 |      4.981 |\n",
        "|          0.260 |   0.475 |   0.883 |    0.690 |    0.057 |    0.240 |      4.240 |\n",
        "|          0.167 |   0.000 |   0.475 |    0.230 |    0.066 |    0.215 |      3.274 |\n"
       ]
      }
     ],
     "prompt_number": 46
    },
    {
     "cell_type": "code",
     "collapsed": false,
     "input": [
      "import pickle\n",
      "\n",
      "with open(r'dataplots/VaryN_pck/U07.6_const_U_T.pck', \"wb\") as output_file:\n",
      "    pickle.dump(spis, output_file)"
     ],
     "language": "python",
     "metadata": {},
     "outputs": [],
     "prompt_number": 52
    },
    {
     "cell_type": "code",
     "collapsed": false,
     "input": [
      "from matplotlib import rc\n",
      "rc('font', **{'family':'serif'})\n",
      "rc('text', usetex=True)\n",
      "\n",
      "fig = plt.figure(figsize=(7.,4))\n",
      "gs = matplotlib.gridspec.GridSpec(2,3,\\\n",
      "        wspace=0.45, hspace=0.08,\\\n",
      "        left=0.075, right=0.96, bottom=0.12, top=0.9)\n",
      "\n",
      "axn = fig.add_subplot( gs[0,0])\n",
      "axSpi = fig.add_subplot( gs[1,0])\n",
      "axT = fig.add_subplot( gs[0,1])\n",
      "axU = fig.add_subplot( gs[1,1])\n",
      "\n",
      "axSpiB = fig.add_subplot(gs[0,2])\n",
      "axFrac = fig.add_subplot(gs[1,2])\n",
      "\n",
      "U0 = spis[0]['U111'].max()\n",
      "T0 = spis[0]['Tspi']\n",
      "fig.text(0.5, 0.98, r'$[U/t]_{{0}}={:0.1f}\\ , \\  \\ $'.format(U0) + \n",
      "                    r'$[T/t]_{{0}}={:0.2f}$'.format(T0) ,\\\n",
      "         ha='center', va='top', fontsize=14) \n",
      "\n",
      "results = [] \n",
      "for spi in spis:\n",
      "    spiB = spi['SpiBulk']\n",
      "    spi0 = spi['spi111'].max()\n",
      "    \n",
      "    # effective contributing fraction\n",
      "    x = (spiB - 1.)/(spi0-1.)\n",
      "    \n",
      "    #print \"U={:0.1f}  => N={:0.2e}  Spi(Bulk)={:0.2f}   Spi(max)={:0.2f}   x={:.0f}%\".format( \\\n",
      "    #                    spi['U111'].max(), spi['Number'], spiB, spi0, x*100.  )\n",
      "    \n",
      "    results.append( [spi['Number']/1e5, spiB, x*100.] )\n",
      "    \n",
      "    \n",
      "    t0 = spi['t111'].min()\n",
      "    #print \"T (density) = \", spi['Tn']/t0\n",
      "    Tspi = spi['Tspi']\n",
      "    \n",
      "    axn.plot(spi['r111'], spi['n111'])\n",
      "    axSpi.plot(spi['r111'], spi['spi111'])\n",
      "    axT.plot( spi['r111'], Tspi * t0 / spi['t111']  )\n",
      "    axU.plot( spi['r111'], spi['U111'])\n",
      "results = np.array(results)\n",
      "axSpiB.plot( results[:,0], results[:,1],'.-')\n",
      "axFrac.plot( results[:,0], results[:,2],'.-')\n",
      "\n",
      "axn.set_ylabel('$n$', rotation=0, labelpad=12, fontsize=13)\n",
      "axT.set_ylabel('$T/t$', rotation=0, labelpad=12, fontsize=13)\n",
      "axU.set_ylabel('$U/t$', rotation=0, labelpad=12, fontsize=13)\n",
      "axSpi.set_ylabel(r'$\\frac{S_{\\pi}}{n}$', rotation=0, labelpad=12, fontsize=13)\n",
      "axSpiB.set_ylabel(r'$\\bar{S_{\\pi}}$', rotation=0, labelpad=12, fontsize=13)\n",
      "axFrac.set_ylabel('Effective fraction (\\%)')\n",
      "axFrac.set_xlabel('$N/10^{5}$')\n",
      "    \n",
      "for ax in [axn, axT, axSpiB]:\n",
      "    ax.xaxis.set_ticklabels([])\n",
      "for ax in [axSpi, axU]:\n",
      "    ax.set_xlabel('$r_{111}\\ (\\mu\\mathrm{m})$')\n",
      "    \n",
      "    \n",
      "for ax in [axn, axSpi, axT, axU, axSpiB, axFrac]:\n",
      "    ax.grid(alpha=0.5)\n",
      "    \n",
      "fig.savefig('dataplots/VaryN/U07.6.png', dpi=300)"
     ],
     "language": "python",
     "metadata": {},
     "outputs": [
      {
       "metadata": {},
       "output_type": "display_data",
       "png": "[encoded data removed]",
       "text": [
        "<matplotlib.figure.Figure at 0xeb2396c>"
       ]
      }
     ],
     "prompt_number": 54
    },
    {
     "cell_type": "code",
     "collapsed": false,
     "input": [
      "from matplotlib import rc\n",
      "rc('font', **{'family':'serif'})\n",
      "rc('text', usetex=True)\n",
      "\n",
      "fig = plt.figure(figsize=(7.,4))\n",
      "gs = matplotlib.gridspec.GridSpec(2,3,\\\n",
      "        wspace=0.45, hspace=0.08,\\\n",
      "        left=0.075, right=0.96, bottom=0.12, top=0.9)\n",
      "\n",
      "axn = fig.add_subplot( gs[0,0])\n",
      "axSpi = fig.add_subplot( gs[1,0])\n",
      "axT = fig.add_subplot( gs[0,1])\n",
      "axU = fig.add_subplot( gs[1,1])\n",
      "\n",
      "axSpiB = fig.add_subplot(gs[0,2])\n",
      "axFrac = fig.add_subplot(gs[1,2])\n",
      "\n",
      "U0 = spis[0]['U111'].max()\n",
      "fig.text(0.5, 0.98, '$[U/t]_{{0}}={:0.1f}$'.format(U0), \\\n",
      "         ha='center', va='top', fontsize=14) \n",
      "\n",
      "results = [] \n",
      "for spi in spis:\n",
      "    spiB = spi['SpiBulk']\n",
      "    spi0 = spi['spi111'].max()\n",
      "    \n",
      "    # effective contributing fraction\n",
      "    x = (spiB - 1.)/(spi0-1.)\n",
      "    \n",
      "    #print \"U={:0.1f}  => N={:0.2e}  Spi(Bulk)={:0.2f}   Spi(max)={:0.2f}   x={:.0f}%\".format( \\\n",
      "    #                    spi['U111'].max(), spi['Number'], spiB, spi0, x*100.  )\n",
      "    \n",
      "    results.append( [spi['Number']/1e5, spiB, x*100.] )\n",
      "    \n",
      "    \n",
      "    t0 = spi['t111'].min()\n",
      "    #print \"T (density) = \", spi['Tn']/t0\n",
      "    \n",
      "    axn.plot(spi['r111'], spi['n111'])\n",
      "    axSpi.plot(spi['r111'], spi['spi111'])\n",
      "    axT.plot( spi['r111'], Tspi * t0 / spi['t111']  )\n",
      "    axU.plot( spi['r111'], spi['U111'])\n",
      "results = np.array(results)\n",
      "axSpiB.plot( results[:,0], results[:,1],'.-')\n",
      "axFrac.plot( results[:,0], results[:,2],'.-')\n",
      "\n",
      "axn.set_ylabel('$n$', rotation=0, labelpad=12, fontsize=13)\n",
      "axT.set_ylabel('$T/t$', rotation=0, labelpad=12, fontsize=13)\n",
      "axU.set_ylabel('$U/t$', rotation=0, labelpad=12, fontsize=13)\n",
      "axSpi.set_ylabel(r'$\\frac{S_{\\pi}}{n}$', rotation=0, labelpad=12, fontsize=13)\n",
      "axSpiB.set_ylabel(r'$\\bar{S_{\\pi}}$', rotation=0, labelpad=12, fontsize=13)\n",
      "axFrac.set_ylabel('Effective fraction (\\%)')\n",
      "axFrac.set_xlabel('$N/10^{5}$')\n",
      "    \n",
      "for ax in [axn, axT, axSpiB]:\n",
      "    ax.xaxis.set_ticklabels([])\n",
      "for ax in [axSpi, axU]:\n",
      "    ax.set_xlabel('$r_{111}\\ (\\mu\\mathrm{m})$')\n",
      "    \n",
      "    \n",
      "for ax in [axn, axSpi, axT, axU, axSpiB, axFrac]:\n",
      "    ax.grid(alpha=0.5)\n",
      "    \n",
      "fig.savefig('dataplots/VaryN/U07.6.png', dpi=300)\n",
      "    "
     ],
     "language": "python",
     "metadata": {},
     "outputs": [
      {
       "metadata": {},
       "output_type": "display_data",
       "png": "[encoded data removed]",
       "text": [
        "<matplotlib.figure.Figure at 0xded2e0c>"
       ]
      }
     ],
     "prompt_number": 51
    },
    {
     "cell_type": "code",
     "collapsed": false,
     "input": [],
     "language": "python",
     "metadata": {},
     "outputs": []
    }
   ],
   "metadata": {}
  }
 ]
}